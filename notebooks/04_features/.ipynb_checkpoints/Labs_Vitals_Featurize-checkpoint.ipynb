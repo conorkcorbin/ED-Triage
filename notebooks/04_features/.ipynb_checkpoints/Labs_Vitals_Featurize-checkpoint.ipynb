{
 "cells": [
  {
   "cell_type": "markdown",
   "metadata": {},
   "source": [
    "# Set-up, helper functions, and the works\n",
    "### Developed by Gautam Machiraju"
   ]
  },
  {
   "cell_type": "code",
   "execution_count": 216,
   "metadata": {},
   "outputs": [
    {
     "name": "stdout",
     "output_type": "stream",
     "text": [
      "The autoreload extension is already loaded. To reload it, use:\n",
      "  %reload_ext autoreload\n"
     ]
    }
   ],
   "source": [
    "import numpy as np\n",
    "import pandas as pd\n",
    "import seaborn as sns\n",
    "import collections\n",
    "import time\n",
    "import os\n",
    "import pdb\n",
    "\n",
    "from labs_vitals_helpers import * # ALL MY HELPERS LIVE HERE\n",
    "\n",
    "np.random.seed(0)\n",
    "sns.set_style('whitegrid')\n",
    "\n",
    "%load_ext autoreload\n",
    "%autoreload 2"
   ]
  },
  {
   "cell_type": "code",
   "execution_count": 164,
   "metadata": {},
   "outputs": [],
   "source": [
    "os.environ['GOOGLE_APPLICATION_CREDENTIALS'] = '/Users/gmachiraju/.config/gcloud/application_default_credentials.json'\n",
    "os.environ['GCLOUD_PROJECT'] = 'mining-clinical-decisions' \n",
    "# %load_ext google.cloud.bigquery\n",
    "%reload_ext google.cloud.bigquery\n",
    "\n",
    "from google.cloud import bigquery\n",
    "client=bigquery.Client()"
   ]
  },
  {
   "cell_type": "code",
   "execution_count": 166,
   "metadata": {},
   "outputs": [],
   "source": [
    "# # Checking Google cloud project authentication\n",
    "# datasets = list(client.list_datasets())\n",
    "# project = client.project\n",
    "# print(project)"
   ]
  },
  {
   "cell_type": "code",
   "execution_count": 159,
   "metadata": {},
   "outputs": [
    {
     "name": "stdout",
     "output_type": "stream",
     "text": [
      "Datasets in project mining-clinical-decisions:\n",
      "\tahrq_ccsr\n",
      "\talert_2019\n",
      "\tclinical_inpatient\n",
      "\tclinical_item2018\n",
      "\tconor_db\n",
      "\tdatalake_47618\n",
      "\tdatalake_47618_sample\n",
      "\theme_stamp\n",
      "\timon_db\n",
      "\tlpch\n",
      "\tshc_test\n",
      "\tstarr_datalake2018\n",
      "\tstride_2008_2017\n",
      "\ttest_dataset\n",
      "\ttraige_TE\n"
     ]
    }
   ],
   "source": [
    "# List Datasets and Tables in project\n",
    "if datasets:\n",
    "    print('Datasets in project {}:'.format(project))\n",
    "    for dataset in datasets:  # API request(s)\n",
    "        print('\\t{}'.format(dataset.dataset_id))\n",
    "else:\n",
    "    print('{} project does not contain any datasets.'.format(project))"
   ]
  },
  {
   "cell_type": "code",
   "execution_count": 647,
   "metadata": {},
   "outputs": [],
   "source": [
    "%%bigquery cohort_df\n",
    "SELECT *\n",
    "FROM `mining-clinical-decisions.traige_TE.triage_cohort_adjusted` \n",
    "# LIMIT 100"
   ]
  },
  {
   "cell_type": "code",
   "execution_count": 648,
   "metadata": {},
   "outputs": [],
   "source": [
    "# save the cohort df\n",
    "outfile = \"cohort.csv\"\n",
    "cohort_df.to_csv(outfile, index=False)"
   ]
  },
  {
   "cell_type": "code",
   "execution_count": 649,
   "metadata": {},
   "outputs": [],
   "source": [
    "%%bigquery labs_df\n",
    "SELECT *\n",
    "FROM `mining-clinical-decisions.traige_TE.triage_cohort_adjusted_labs` \n",
    "# LIMIT 100"
   ]
  },
  {
   "cell_type": "code",
   "execution_count": 650,
   "metadata": {},
   "outputs": [],
   "source": [
    "# save the labs df\n",
    "outfile = \"labs.csv\"\n",
    "labs_df.to_csv(outfile, index=False)"
   ]
  },
  {
   "cell_type": "code",
   "execution_count": 160,
   "metadata": {},
   "outputs": [
    {
     "name": "stderr",
     "output_type": "stream",
     "text": [
      "\n",
      "ERROR:\n",
      " 403 POST https://bigquery.googleapis.com/bigquery/v2/projects/mining-clinical-decisions/jobs: VPC Service Controls: Request is prohibited by organization's policy. vpcServiceControlsUniqueIdentifier: 5400dbcedcf06956.\n",
      "\n",
      "(job ID: 1bd723a4-96dc-46b4-8b7f-38f70849e6a4)\n",
      "\n",
      "                                                 -----Query Job SQL Follows-----                                                  \n",
      "\n",
      "    |    .    |    .    |    .    |    .    |    .    |    .    |    .    |    .    |    .    |    .    |    .    |    .    |\n",
      "   1:SELECT *\n",
      "   2:FROM `mining-clinical-decisions.traige_TE.triage_cohort_adjusted_vitals_clean` # used to be: triage_cohort_adjusted_flowsheet\n",
      "   3:# LIMIT 100\n",
      "    |    .    |    .    |    .    |    .    |    .    |    .    |    .    |    .    |    .    |    .    |    .    |    .    |\n"
     ]
    }
   ],
   "source": [
    "# %%bigquery flowsheet_df\n",
    "# SELECT *\n",
    "# FROM `mining-clinical-decisions.traige_TE.triage_cohort_adjusted_vitals_clean` # used to be: triage_cohort_adjusted_flowsheet\n",
    "# # LIMIT 100"
   ]
  },
  {
   "cell_type": "code",
   "execution_count": 652,
   "metadata": {},
   "outputs": [],
   "source": [
    "# save the flowsheet df\n",
    "outfile = \"flowsheet.csv\"\n",
    "flowsheet_df.to_csv(outfile, index=False)"
   ]
  },
  {
   "cell_type": "markdown",
   "metadata": {},
   "source": [
    "# Read in data tables as dfs"
   ]
  },
  {
   "cell_type": "code",
   "execution_count": 296,
   "metadata": {},
   "outputs": [],
   "source": [
    "cohort_df = pd.read_csv(\"cohort.csv\", nrows=2000)\n",
    "labs_df = pd.read_csv(\"labs.csv\", nrows=2000)\n",
    "flowsheet_df = pd.read_csv(\"cohort_vitals_clean.csv\", nrows=2000) #if reading from BQ: flowsheet_df = pd.read_csv(\"flowsheet.csv\", nrows=2000) "
   ]
  },
  {
   "cell_type": "code",
   "execution_count": 311,
   "metadata": {},
   "outputs": [],
   "source": [
    "# cohort_df.head(5)"
   ]
  },
  {
   "cell_type": "code",
   "execution_count": 312,
   "metadata": {},
   "outputs": [],
   "source": [
    "# labs_df.head(5)"
   ]
  },
  {
   "cell_type": "code",
   "execution_count": 313,
   "metadata": {},
   "outputs": [],
   "source": [
    "# flowsheet_df.head(5)"
   ]
  },
  {
   "cell_type": "markdown",
   "metadata": {},
   "source": [
    "# Cleaning Pipeline\n",
    "### (use helper functions in code-cell below // steps are written directly under)\n",
    "\n",
    "Flowsheet\n",
    "\n",
    "0. exclude height and weight\n",
    "1. Blood pressure are named: BP, NIBP, Resting BP: num_value1 is SBP and num_value2 is DBP,\n",
    "2. Pulse are named: Pulse, Heart Rate, Resting HR.\n",
    "3. Temperature: Temp. I expect them to be in Celsius, but you might get Fahrenheit.\n",
    "4. Respiratory rate: Resp, Resp Rate, Resting RR\n",
    "5. O2 saturation: SpO2, Resting SpO2 (should be in percentage)\n",
    "6. Amount of O2 used, litter per minute: O2 (LPM)\n",
    "\n",
    "Labs, filter for (DONE!):\n",
    "\n",
    "- Glucose by Meter\n",
    "- Sodium, Ser/Plas\n",
    "- Potassium, Ser/Plas\n",
    "- Magnesium, Ser/Plas\n",
    "- Albumin, Ser/Plas\n",
    "- Creatinine, Ser/Plas\n",
    "- BUN, Ser/Plas\n",
    "- CO2, Ser/Plas\n",
    "- Anion Gap\n",
    "- Glucose, Ser/Plas\n",
    "- AST (SGOT), Ser/Plas\n",
    "- ALT (SGPT), Ser/Plas\n",
    "- Total Bilirubin, Ser/Plas\n",
    "- Platelet count\n",
    "- Hemoglobin\n",
    "- WBC\n",
    "- Neutrophil, Absolute\n",
    "\n",
    "@END: long format"
   ]
  },
  {
   "cell_type": "code",
   "execution_count": 300,
   "metadata": {},
   "outputs": [
    {
     "name": "stdout",
     "output_type": "stream",
     "text": [
      "BEGIN: PREPROCESS\n",
      "processing: flowsheet\n",
      "---------------------\n",
      "\n",
      "done!\n",
      "\n",
      "BEGIN: PREPROCESS\n",
      "processing: labs\n",
      "---------------------\n",
      "\n",
      "Labs detected. Skipping step. This function is really only meant for flowsheet... Have a nice day!\n",
      "\n",
      "done!\n",
      "\n"
     ]
    },
    {
     "name": "stderr",
     "output_type": "stream",
     "text": [
      "/usr/local/lib/python3.7/site-packages/pandas/core/indexing.py:965: SettingWithCopyWarning: \n",
      "A value is trying to be set on a copy of a slice from a DataFrame.\n",
      "Try using .loc[row_indexer,col_indexer] = value instead\n",
      "\n",
      "See the caveats in the documentation: https://pandas.pydata.org/pandas-docs/stable/user_guide/indexing.html#returning-a-view-versus-a-copy\n",
      "  self.obj[item] = s\n"
     ]
    }
   ],
   "source": [
    "dfs = []\n",
    "for df_type_tup in [(flowsheet_df, \"flowsheet\"), (labs_df, \"labs\")]:\n",
    "    \n",
    "    print(\"BEGIN: PREPROCESS\")\n",
    "    df, dftype =  df_type_tup[0], df_type_tup[1]\n",
    "    print(\"processing: \" + dftype+\"\\n\" + \"-\"*21)\n",
    "    \n",
    "    # preprocess + filter \n",
    "    df = preprocess_and_filter(df, dftype)\n",
    "    \n",
    "    # splitting the columns into vars\n",
    "    df = separate_multiple_values(df, dftype)\n",
    "    \n",
    "    # pivoting: make feats into columns\n",
    "    df = custom_pivot(df, dftype)\n",
    "    \n",
    "    # anything missing - this is a helper function \n",
    "    # you can add to if you see anything that needs further refinement (or leave alone if not)\n",
    "    # df = postprocess_cleanup(df, dftype)\n",
    "\n",
    "    print(\"\\ndone!\\n\")\n",
    "    dfs.append(df)\n",
    "    "
   ]
  },
  {
   "cell_type": "markdown",
   "metadata": {},
   "source": [
    "### ^Make sure there is a copy being made and not some weird mutation occuring"
   ]
  },
  {
   "cell_type": "markdown",
   "metadata": {},
   "source": [
    "# Viewing distributions\n",
    "### always have to sanity check~"
   ]
  },
  {
   "cell_type": "code",
   "execution_count": 301,
   "metadata": {},
   "outputs": [],
   "source": [
    "flowsheet_wide_df, labs_wide_df = dfs[0], dfs[1]"
   ]
  },
  {
   "cell_type": "code",
   "execution_count": 314,
   "metadata": {},
   "outputs": [],
   "source": [
    "# flowsheet_wide_df.head()"
   ]
  },
  {
   "cell_type": "code",
   "execution_count": 303,
   "metadata": {},
   "outputs": [
    {
     "data": {
      "text/plain": [
       "array([[<matplotlib.axes._subplots.AxesSubplot object at 0x141e99750>,\n",
       "        <matplotlib.axes._subplots.AxesSubplot object at 0x141105210>],\n",
       "       [<matplotlib.axes._subplots.AxesSubplot object at 0x142caefd0>,\n",
       "        <matplotlib.axes._subplots.AxesSubplot object at 0x142aa5b50>],\n",
       "       [<matplotlib.axes._subplots.AxesSubplot object at 0x142cc5110>,\n",
       "        <matplotlib.axes._subplots.AxesSubplot object at 0x142ca2e10>]],\n",
       "      dtype=object)"
      ]
     },
     "execution_count": 303,
     "metadata": {},
     "output_type": "execute_result"
    },
    {
     "data": {
      "image/png": "[encoded data removed]",
      "text/plain": [
       "<Figure size 432x288 with 6 Axes>"
      ]
     },
     "metadata": {},
     "output_type": "display_data"
    }
   ],
   "source": [
    "flowsheet_wide_df.hist(bins=20)"
   ]
  },
  {
   "cell_type": "code",
   "execution_count": 315,
   "metadata": {},
   "outputs": [],
   "source": [
    "# labs_wide_df.head()"
   ]
  },
  {
   "cell_type": "code",
   "execution_count": 305,
   "metadata": {},
   "outputs": [
    {
     "data": {
      "text/plain": [
       "array([[<matplotlib.axes._subplots.AxesSubplot object at 0x14120f990>,\n",
       "        <matplotlib.axes._subplots.AxesSubplot object at 0x142c62b50>]],\n",
       "      dtype=object)"
      ]
     },
     "execution_count": 305,
     "metadata": {},
     "output_type": "execute_result"
    },
    {
     "data": {
      "image/png": "[encoded data removed]",
      "text/plain": [
       "<Figure size 432x288 with 2 Axes>"
      ]
     },
     "metadata": {},
     "output_type": "display_data"
    }
   ],
   "source": [
    "labs_wide_df.hist(bins=20)"
   ]
  },
  {
   "cell_type": "markdown",
   "metadata": {},
   "source": [
    "# Bin-ify & Count-ify our data \n",
    "### (making sure 2018 isn't used for this mapping)"
   ]
  },
  {
   "cell_type": "code",
   "execution_count": 306,
   "metadata": {},
   "outputs": [
    {
     "name": "stdout",
     "output_type": "stream",
     "text": [
      "BEGIN: BIN/COUNT-IFY\n",
      "processing: flowsheet\n",
      "---------------------\n",
      "\n",
      "done!\n",
      "\n",
      "BEGIN: BIN/COUNT-IFY\n",
      "processing: labs\n",
      "---------------------\n",
      "\n",
      "done!\n",
      "\n"
     ]
    }
   ],
   "source": [
    "num_bins=20\n",
    "\n",
    "dfs_counts_long = []\n",
    "for df_type_tup in [(flowsheet_wide_df,\"flowsheet\"), (labs_wide_df,\"labs\")]:\n",
    "    \n",
    "    print(\"BEGIN: BIN/COUNT-IFY\")\n",
    "    df, dftype =  df_type_tup[0], df_type_tup[1]\n",
    "    print(\"processing: \" + dftype+\"\\n\" + \"-\"*21)\n",
    "    \n",
    "    # step 1 - bin\n",
    "    df_bin = binnify(df, num_bins, dftype)\n",
    "#     print(\"bin\", df_bin)\n",
    "    \n",
    "    # step 2 - count\n",
    "    df_count = countify(df_bin, num_bins)\n",
    "#     print(\"count\", df_count)\n",
    "\n",
    "    # step 3 - melt\n",
    "    df_long = pd.melt(df_count.reset_index(), id_vars=\"jc_uid\", value_vars=None) # use all cols as values\n",
    "#     print(df_long)\n",
    "    \n",
    "    print(\"\\ndone!\\n\")\n",
    "    dfs_counts_long.append(df_long)\n",
    "     "
   ]
  },
  {
   "cell_type": "code",
   "execution_count": 316,
   "metadata": {},
   "outputs": [],
   "source": [
    "# dfs_counts_long[0].head()"
   ]
  },
  {
   "cell_type": "code",
   "execution_count": 317,
   "metadata": {},
   "outputs": [],
   "source": [
    "# dfs_counts_long[1].head()"
   ]
  },
  {
   "cell_type": "markdown",
   "metadata": {},
   "source": [
    "# Stack the 2 together as a mega long-df"
   ]
  },
  {
   "cell_type": "code",
   "execution_count": 309,
   "metadata": {},
   "outputs": [],
   "source": [
    "df_vitals_labs_long = pd.concat([dfs_counts_long[0],dfs_counts_long[1]], axis=0)"
   ]
  },
  {
   "cell_type": "code",
   "execution_count": 318,
   "metadata": {},
   "outputs": [],
   "source": [
    "# df_vitals_labs_long.head()"
   ]
  },
  {
   "cell_type": "markdown",
   "metadata": {},
   "source": [
    "### We can combine both for-loop pipelines to run in a final preprocessing notebook if we so choose"
   ]
  },
  {
   "cell_type": "markdown",
   "metadata": {},
   "source": [
    "# -------------------------------------------------------------"
   ]
  },
  {
   "cell_type": "markdown",
   "metadata": {},
   "source": [
    "# -------------------------------------------------------------"
   ]
  },
  {
   "cell_type": "markdown",
   "metadata": {},
   "source": [
    "# BELOW: SIMULATED DATA + EXAMPLE USAGE OF CODE"
   ]
  },
  {
   "cell_type": "markdown",
   "metadata": {},
   "source": [
    "# Creating some synthetic data for featurization\n",
    "- assuming dfs that have just the features extracted for histogram analysis and quantile mapping\n",
    "- calling some unique ID we are splitting on (CSN for example) just \"ID\" for now\n",
    "- asuming normality (int) for now, with all the same range - just for ease/speed to create some helper functions and modularized code first and foremost"
   ]
  },
  {
   "cell_type": "code",
   "execution_count": 572,
   "metadata": {},
   "outputs": [],
   "source": [
    "a, b = 0, 50000  # shared feature range\n",
    "n = 33360        # sample size - some shared CSNs here, obv. Not truly indicative, but time is okay"
   ]
  },
  {
   "cell_type": "code",
   "execution_count": 573,
   "metadata": {},
   "outputs": [],
   "source": [
    "synth_vitals_df = create_synthetic_data(\"vitals\", n, a, b)\n",
    "synth_labs_df = create_synthetic_data(\"labs\", n, a, b)"
   ]
  },
  {
   "cell_type": "code",
   "execution_count": 574,
   "metadata": {},
   "outputs": [
    {
     "data": {
      "text/plain": [
       "(33360, 9)"
      ]
     },
     "execution_count": 574,
     "metadata": {},
     "output_type": "execute_result"
    }
   ],
   "source": [
    "# synth_vitals_df.head(5)\n",
    "synth_vitals_df.shape"
   ]
  },
  {
   "cell_type": "code",
   "execution_count": 575,
   "metadata": {},
   "outputs": [
    {
     "data": {
      "image/png": "[encoded data removed]",
      "text/plain": [
       "<Figure size 432x288 with 1 Axes>"
      ]
     },
     "metadata": {},
     "output_type": "display_data"
    }
   ],
   "source": [
    "ax = synth_vitals_df.plot.hist(bins=20, alpha=0.5)"
   ]
  },
  {
   "cell_type": "code",
   "execution_count": 576,
   "metadata": {},
   "outputs": [
    {
     "data": {
      "text/plain": [
       "(33360, 22)"
      ]
     },
     "execution_count": 576,
     "metadata": {},
     "output_type": "execute_result"
    }
   ],
   "source": [
    "# synth_labs_df.head(5)\n",
    "synth_labs_df.shape"
   ]
  },
  {
   "cell_type": "code",
   "execution_count": 577,
   "metadata": {},
   "outputs": [
    {
     "data": {
      "image/png": "[encoded data removed]",
      "text/plain": [
       "<Figure size 432x288 with 1 Axes>"
      ]
     },
     "metadata": {},
     "output_type": "display_data"
    }
   ],
   "source": [
    "ax = synth_labs_df.plot.hist(bins=20, alpha=0.5)"
   ]
  },
  {
   "cell_type": "markdown",
   "metadata": {},
   "source": [
    "# Quantize into num_bins \n",
    "- this is the process of getting a numerical value for a feature from [1, num_bins]. We set num_bins=20.\n",
    "- helper functions above\n",
    "- taking the histogram approach - ensuring bin width is the same, not the number of points/bin. More of a histogram approach"
   ]
  },
  {
   "cell_type": "code",
   "execution_count": 578,
   "metadata": {},
   "outputs": [],
   "source": [
    "num_bins = 20\n",
    "id_header = \"CSN\""
   ]
  },
  {
   "cell_type": "code",
   "execution_count": 579,
   "metadata": {},
   "outputs": [
    {
     "data": {
      "text/html": [
       "<div>\n",
       "<style scoped>\n",
       "    .dataframe tbody tr th:only-of-type {\n",
       "        vertical-align: middle;\n",
       "    }\n",
       "\n",
       "    .dataframe tbody tr th {\n",
       "        vertical-align: top;\n",
       "    }\n",
       "\n",
       "    .dataframe thead th {\n",
       "        text-align: right;\n",
       "    }\n",
       "</style>\n",
       "<table border=\"1\" class=\"dataframe\">\n",
       "  <thead>\n",
       "    <tr style=\"text-align: right;\">\n",
       "      <th></th>\n",
       "      <th>CSN</th>\n",
       "      <th>WBC</th>\n",
       "      <th>HCT</th>\n",
       "      <th>PLT</th>\n",
       "      <th>NA</th>\n",
       "      <th>K</th>\n",
       "      <th>CO2</th>\n",
       "      <th>BUN</th>\n",
       "      <th>CR</th>\n",
       "      <th>TBIL</th>\n",
       "      <th>...</th>\n",
       "      <th>LAC</th>\n",
       "      <th>ESR</th>\n",
       "      <th>CRP</th>\n",
       "      <th>TNI</th>\n",
       "      <th>PHA</th>\n",
       "      <th>PO2A</th>\n",
       "      <th>PCO2A</th>\n",
       "      <th>PHV</th>\n",
       "      <th>PO2V</th>\n",
       "      <th>PCO2V</th>\n",
       "    </tr>\n",
       "  </thead>\n",
       "  <tbody>\n",
       "    <tr>\n",
       "      <th>0</th>\n",
       "      <td>7829</td>\n",
       "      <td>15054</td>\n",
       "      <td>1400</td>\n",
       "      <td>32797</td>\n",
       "      <td>49732</td>\n",
       "      <td>24550</td>\n",
       "      <td>37418</td>\n",
       "      <td>6864</td>\n",
       "      <td>37096</td>\n",
       "      <td>2119</td>\n",
       "      <td>...</td>\n",
       "      <td>22672</td>\n",
       "      <td>21829</td>\n",
       "      <td>27517</td>\n",
       "      <td>8695</td>\n",
       "      <td>49087</td>\n",
       "      <td>47634</td>\n",
       "      <td>31536</td>\n",
       "      <td>24528</td>\n",
       "      <td>22467</td>\n",
       "      <td>36287</td>\n",
       "    </tr>\n",
       "    <tr>\n",
       "      <th>1</th>\n",
       "      <td>18276</td>\n",
       "      <td>17641</td>\n",
       "      <td>15234</td>\n",
       "      <td>48279</td>\n",
       "      <td>7386</td>\n",
       "      <td>43906</td>\n",
       "      <td>9153</td>\n",
       "      <td>46914</td>\n",
       "      <td>46791</td>\n",
       "      <td>31162</td>\n",
       "      <td>...</td>\n",
       "      <td>46695</td>\n",
       "      <td>14351</td>\n",
       "      <td>14588</td>\n",
       "      <td>26735</td>\n",
       "      <td>5660</td>\n",
       "      <td>30090</td>\n",
       "      <td>9982</td>\n",
       "      <td>14493</td>\n",
       "      <td>29265</td>\n",
       "      <td>21295</td>\n",
       "    </tr>\n",
       "    <tr>\n",
       "      <th>2</th>\n",
       "      <td>14296</td>\n",
       "      <td>48058</td>\n",
       "      <td>34182</td>\n",
       "      <td>31417</td>\n",
       "      <td>3439</td>\n",
       "      <td>31625</td>\n",
       "      <td>26147</td>\n",
       "      <td>678</td>\n",
       "      <td>13113</td>\n",
       "      <td>15266</td>\n",
       "      <td>...</td>\n",
       "      <td>2860</td>\n",
       "      <td>23860</td>\n",
       "      <td>13361</td>\n",
       "      <td>11245</td>\n",
       "      <td>15697</td>\n",
       "      <td>8166</td>\n",
       "      <td>41904</td>\n",
       "      <td>24753</td>\n",
       "      <td>18503</td>\n",
       "      <td>38970</td>\n",
       "    </tr>\n",
       "    <tr>\n",
       "      <th>3</th>\n",
       "      <td>44860</td>\n",
       "      <td>41913</td>\n",
       "      <td>23132</td>\n",
       "      <td>42871</td>\n",
       "      <td>18226</td>\n",
       "      <td>47283</td>\n",
       "      <td>1913</td>\n",
       "      <td>28867</td>\n",
       "      <td>8953</td>\n",
       "      <td>45224</td>\n",
       "      <td>...</td>\n",
       "      <td>48685</td>\n",
       "      <td>27245</td>\n",
       "      <td>22649</td>\n",
       "      <td>8963</td>\n",
       "      <td>16787</td>\n",
       "      <td>45629</td>\n",
       "      <td>12801</td>\n",
       "      <td>14389</td>\n",
       "      <td>29930</td>\n",
       "      <td>3319</td>\n",
       "    </tr>\n",
       "    <tr>\n",
       "      <th>4</th>\n",
       "      <td>592</td>\n",
       "      <td>15744</td>\n",
       "      <td>15114</td>\n",
       "      <td>25217</td>\n",
       "      <td>9176</td>\n",
       "      <td>21148</td>\n",
       "      <td>2209</td>\n",
       "      <td>5642</td>\n",
       "      <td>3395</td>\n",
       "      <td>29564</td>\n",
       "      <td>...</td>\n",
       "      <td>44285</td>\n",
       "      <td>6881</td>\n",
       "      <td>38779</td>\n",
       "      <td>27042</td>\n",
       "      <td>11266</td>\n",
       "      <td>19905</td>\n",
       "      <td>3370</td>\n",
       "      <td>20119</td>\n",
       "      <td>18502</td>\n",
       "      <td>13969</td>\n",
       "    </tr>\n",
       "  </tbody>\n",
       "</table>\n",
       "<p>5 rows × 22 columns</p>\n",
       "</div>"
      ],
      "text/plain": [
       "     CSN    WBC    HCT    PLT     NA      K    CO2    BUN     CR   TBIL  ...  \\\n",
       "0   7829  15054   1400  32797  49732  24550  37418   6864  37096   2119  ...   \n",
       "1  18276  17641  15234  48279   7386  43906   9153  46914  46791  31162  ...   \n",
       "2  14296  48058  34182  31417   3439  31625  26147    678  13113  15266  ...   \n",
       "3  44860  41913  23132  42871  18226  47283   1913  28867   8953  45224  ...   \n",
       "4    592  15744  15114  25217   9176  21148   2209   5642   3395  29564  ...   \n",
       "\n",
       "     LAC    ESR    CRP    TNI    PHA   PO2A  PCO2A    PHV   PO2V  PCO2V  \n",
       "0  22672  21829  27517   8695  49087  47634  31536  24528  22467  36287  \n",
       "1  46695  14351  14588  26735   5660  30090   9982  14493  29265  21295  \n",
       "2   2860  23860  13361  11245  15697   8166  41904  24753  18503  38970  \n",
       "3  48685  27245  22649   8963  16787  45629  12801  14389  29930   3319  \n",
       "4  44285   6881  38779  27042  11266  19905   3370  20119  18502  13969  \n",
       "\n",
       "[5 rows x 22 columns]"
      ]
     },
     "execution_count": 579,
     "metadata": {},
     "output_type": "execute_result"
    }
   ],
   "source": [
    "synth_labs_df.head()"
   ]
  },
  {
   "cell_type": "code",
   "execution_count": 580,
   "metadata": {},
   "outputs": [
    {
     "name": "stdout",
     "output_type": "stream",
     "text": [
      "timing quantization of values\n",
      "0.3173229694366455\n"
     ]
    }
   ],
   "source": [
    "start = time.time()\n",
    "print(\"timing quantization of values\")\n",
    "quantized_labs_df = quantize_sim(synth_labs_df, num_bins, id_header)\n",
    "end = time.time()\n",
    "print(end - start)"
   ]
  },
  {
   "cell_type": "code",
   "execution_count": 581,
   "metadata": {},
   "outputs": [
    {
     "data": {
      "text/html": [
       "<div>\n",
       "<style scoped>\n",
       "    .dataframe tbody tr th:only-of-type {\n",
       "        vertical-align: middle;\n",
       "    }\n",
       "\n",
       "    .dataframe tbody tr th {\n",
       "        vertical-align: top;\n",
       "    }\n",
       "\n",
       "    .dataframe thead th {\n",
       "        text-align: right;\n",
       "    }\n",
       "</style>\n",
       "<table border=\"1\" class=\"dataframe\">\n",
       "  <thead>\n",
       "    <tr style=\"text-align: right;\">\n",
       "      <th></th>\n",
       "      <th>CSN</th>\n",
       "      <th>WBC</th>\n",
       "      <th>HCT</th>\n",
       "      <th>PLT</th>\n",
       "      <th>NA</th>\n",
       "      <th>K</th>\n",
       "      <th>CO2</th>\n",
       "      <th>BUN</th>\n",
       "      <th>CR</th>\n",
       "      <th>TBIL</th>\n",
       "      <th>...</th>\n",
       "      <th>LAC</th>\n",
       "      <th>ESR</th>\n",
       "      <th>CRP</th>\n",
       "      <th>TNI</th>\n",
       "      <th>PHA</th>\n",
       "      <th>PO2A</th>\n",
       "      <th>PCO2A</th>\n",
       "      <th>PHV</th>\n",
       "      <th>PO2V</th>\n",
       "      <th>PCO2V</th>\n",
       "    </tr>\n",
       "  </thead>\n",
       "  <tbody>\n",
       "    <tr>\n",
       "      <th>0</th>\n",
       "      <td>7829</td>\n",
       "      <td>7</td>\n",
       "      <td>1</td>\n",
       "      <td>14</td>\n",
       "      <td>20</td>\n",
       "      <td>10</td>\n",
       "      <td>16</td>\n",
       "      <td>3</td>\n",
       "      <td>15</td>\n",
       "      <td>1</td>\n",
       "      <td>...</td>\n",
       "      <td>10</td>\n",
       "      <td>9</td>\n",
       "      <td>12</td>\n",
       "      <td>4</td>\n",
       "      <td>20</td>\n",
       "      <td>20</td>\n",
       "      <td>13</td>\n",
       "      <td>10</td>\n",
       "      <td>10</td>\n",
       "      <td>15</td>\n",
       "    </tr>\n",
       "    <tr>\n",
       "      <th>1</th>\n",
       "      <td>18276</td>\n",
       "      <td>8</td>\n",
       "      <td>7</td>\n",
       "      <td>20</td>\n",
       "      <td>3</td>\n",
       "      <td>18</td>\n",
       "      <td>4</td>\n",
       "      <td>19</td>\n",
       "      <td>19</td>\n",
       "      <td>13</td>\n",
       "      <td>...</td>\n",
       "      <td>19</td>\n",
       "      <td>6</td>\n",
       "      <td>6</td>\n",
       "      <td>11</td>\n",
       "      <td>3</td>\n",
       "      <td>13</td>\n",
       "      <td>4</td>\n",
       "      <td>6</td>\n",
       "      <td>12</td>\n",
       "      <td>9</td>\n",
       "    </tr>\n",
       "    <tr>\n",
       "      <th>2</th>\n",
       "      <td>14296</td>\n",
       "      <td>20</td>\n",
       "      <td>14</td>\n",
       "      <td>13</td>\n",
       "      <td>2</td>\n",
       "      <td>13</td>\n",
       "      <td>11</td>\n",
       "      <td>1</td>\n",
       "      <td>6</td>\n",
       "      <td>7</td>\n",
       "      <td>...</td>\n",
       "      <td>2</td>\n",
       "      <td>10</td>\n",
       "      <td>6</td>\n",
       "      <td>5</td>\n",
       "      <td>7</td>\n",
       "      <td>4</td>\n",
       "      <td>17</td>\n",
       "      <td>10</td>\n",
       "      <td>8</td>\n",
       "      <td>16</td>\n",
       "    </tr>\n",
       "    <tr>\n",
       "      <th>3</th>\n",
       "      <td>44860</td>\n",
       "      <td>17</td>\n",
       "      <td>10</td>\n",
       "      <td>18</td>\n",
       "      <td>8</td>\n",
       "      <td>19</td>\n",
       "      <td>1</td>\n",
       "      <td>12</td>\n",
       "      <td>4</td>\n",
       "      <td>19</td>\n",
       "      <td>...</td>\n",
       "      <td>20</td>\n",
       "      <td>11</td>\n",
       "      <td>10</td>\n",
       "      <td>4</td>\n",
       "      <td>7</td>\n",
       "      <td>19</td>\n",
       "      <td>6</td>\n",
       "      <td>6</td>\n",
       "      <td>12</td>\n",
       "      <td>2</td>\n",
       "    </tr>\n",
       "    <tr>\n",
       "      <th>4</th>\n",
       "      <td>592</td>\n",
       "      <td>7</td>\n",
       "      <td>7</td>\n",
       "      <td>11</td>\n",
       "      <td>4</td>\n",
       "      <td>9</td>\n",
       "      <td>1</td>\n",
       "      <td>3</td>\n",
       "      <td>2</td>\n",
       "      <td>12</td>\n",
       "      <td>...</td>\n",
       "      <td>18</td>\n",
       "      <td>3</td>\n",
       "      <td>16</td>\n",
       "      <td>11</td>\n",
       "      <td>5</td>\n",
       "      <td>8</td>\n",
       "      <td>2</td>\n",
       "      <td>9</td>\n",
       "      <td>8</td>\n",
       "      <td>6</td>\n",
       "    </tr>\n",
       "  </tbody>\n",
       "</table>\n",
       "<p>5 rows × 22 columns</p>\n",
       "</div>"
      ],
      "text/plain": [
       "     CSN  WBC  HCT  PLT  NA   K  CO2  BUN  CR  TBIL  ...  LAC  ESR  CRP  TNI  \\\n",
       "0   7829    7    1   14  20  10   16    3  15     1  ...   10    9   12    4   \n",
       "1  18276    8    7   20   3  18    4   19  19    13  ...   19    6    6   11   \n",
       "2  14296   20   14   13   2  13   11    1   6     7  ...    2   10    6    5   \n",
       "3  44860   17   10   18   8  19    1   12   4    19  ...   20   11   10    4   \n",
       "4    592    7    7   11   4   9    1    3   2    12  ...   18    3   16   11   \n",
       "\n",
       "   PHA  PO2A  PCO2A  PHV  PO2V  PCO2V  \n",
       "0   20    20     13   10    10     15  \n",
       "1    3    13      4    6    12      9  \n",
       "2    7     4     17   10     8     16  \n",
       "3    7    19      6    6    12      2  \n",
       "4    5     8      2    9     8      6  \n",
       "\n",
       "[5 rows x 22 columns]"
      ]
     },
     "execution_count": 581,
     "metadata": {},
     "output_type": "execute_result"
    }
   ],
   "source": [
    "quantized_labs_df.head()"
   ]
  },
  {
   "cell_type": "code",
   "execution_count": 582,
   "metadata": {},
   "outputs": [
    {
     "data": {
      "text/plain": [
       "(33360, 22)"
      ]
     },
     "execution_count": 582,
     "metadata": {},
     "output_type": "execute_result"
    }
   ],
   "source": [
    "quantized_labs_df.shape"
   ]
  },
  {
   "cell_type": "markdown",
   "metadata": {},
   "source": [
    "# Get counts of quanitzed data as multi-hot values"
   ]
  },
  {
   "cell_type": "code",
   "execution_count": 583,
   "metadata": {},
   "outputs": [
    {
     "name": "stdout",
     "output_type": "stream",
     "text": [
      "timing counts/multi-hot expansion\n",
      "15.682044982910156\n"
     ]
    }
   ],
   "source": [
    "start = time.time()\n",
    "print(\"timing counts/multi-hot expansion\")\n",
    "counts_df = count_quantized_per_pt_sim(quantized_labs_df, num_bins, id_header)\n",
    "end = time.time()\n",
    "print(end - start)"
   ]
  },
  {
   "cell_type": "code",
   "execution_count": 584,
   "metadata": {},
   "outputs": [
    {
     "data": {
      "text/html": [
       "<div>\n",
       "<style scoped>\n",
       "    .dataframe tbody tr th:only-of-type {\n",
       "        vertical-align: middle;\n",
       "    }\n",
       "\n",
       "    .dataframe tbody tr th {\n",
       "        vertical-align: top;\n",
       "    }\n",
       "\n",
       "    .dataframe thead th {\n",
       "        text-align: right;\n",
       "    }\n",
       "</style>\n",
       "<table border=\"1\" class=\"dataframe\">\n",
       "  <thead>\n",
       "    <tr style=\"text-align: right;\">\n",
       "      <th></th>\n",
       "      <th>WBC_1</th>\n",
       "      <th>WBC_2</th>\n",
       "      <th>WBC_3</th>\n",
       "      <th>WBC_4</th>\n",
       "      <th>WBC_5</th>\n",
       "      <th>WBC_6</th>\n",
       "      <th>WBC_7</th>\n",
       "      <th>WBC_8</th>\n",
       "      <th>WBC_9</th>\n",
       "      <th>WBC_10</th>\n",
       "      <th>...</th>\n",
       "      <th>PCO2V_11</th>\n",
       "      <th>PCO2V_12</th>\n",
       "      <th>PCO2V_13</th>\n",
       "      <th>PCO2V_14</th>\n",
       "      <th>PCO2V_15</th>\n",
       "      <th>PCO2V_16</th>\n",
       "      <th>PCO2V_17</th>\n",
       "      <th>PCO2V_18</th>\n",
       "      <th>PCO2V_19</th>\n",
       "      <th>PCO2V_20</th>\n",
       "    </tr>\n",
       "    <tr>\n",
       "      <th>CSN</th>\n",
       "      <th></th>\n",
       "      <th></th>\n",
       "      <th></th>\n",
       "      <th></th>\n",
       "      <th></th>\n",
       "      <th></th>\n",
       "      <th></th>\n",
       "      <th></th>\n",
       "      <th></th>\n",
       "      <th></th>\n",
       "      <th></th>\n",
       "      <th></th>\n",
       "      <th></th>\n",
       "      <th></th>\n",
       "      <th></th>\n",
       "      <th></th>\n",
       "      <th></th>\n",
       "      <th></th>\n",
       "      <th></th>\n",
       "      <th></th>\n",
       "      <th></th>\n",
       "    </tr>\n",
       "  </thead>\n",
       "  <tbody>\n",
       "    <tr>\n",
       "      <th>0</th>\n",
       "      <td>0</td>\n",
       "      <td>0</td>\n",
       "      <td>0</td>\n",
       "      <td>0</td>\n",
       "      <td>0</td>\n",
       "      <td>0</td>\n",
       "      <td>0</td>\n",
       "      <td>0</td>\n",
       "      <td>0</td>\n",
       "      <td>0</td>\n",
       "      <td>...</td>\n",
       "      <td>0</td>\n",
       "      <td>0</td>\n",
       "      <td>0</td>\n",
       "      <td>0</td>\n",
       "      <td>0</td>\n",
       "      <td>0</td>\n",
       "      <td>0</td>\n",
       "      <td>0</td>\n",
       "      <td>0</td>\n",
       "      <td>1</td>\n",
       "    </tr>\n",
       "    <tr>\n",
       "      <th>1</th>\n",
       "      <td>0</td>\n",
       "      <td>0</td>\n",
       "      <td>0</td>\n",
       "      <td>0</td>\n",
       "      <td>0</td>\n",
       "      <td>0</td>\n",
       "      <td>0</td>\n",
       "      <td>0</td>\n",
       "      <td>0</td>\n",
       "      <td>0</td>\n",
       "      <td>...</td>\n",
       "      <td>0</td>\n",
       "      <td>0</td>\n",
       "      <td>0</td>\n",
       "      <td>0</td>\n",
       "      <td>0</td>\n",
       "      <td>0</td>\n",
       "      <td>0</td>\n",
       "      <td>0</td>\n",
       "      <td>0</td>\n",
       "      <td>0</td>\n",
       "    </tr>\n",
       "    <tr>\n",
       "      <th>2</th>\n",
       "      <td>0</td>\n",
       "      <td>0</td>\n",
       "      <td>0</td>\n",
       "      <td>0</td>\n",
       "      <td>0</td>\n",
       "      <td>0</td>\n",
       "      <td>0</td>\n",
       "      <td>0</td>\n",
       "      <td>0</td>\n",
       "      <td>0</td>\n",
       "      <td>...</td>\n",
       "      <td>1</td>\n",
       "      <td>0</td>\n",
       "      <td>0</td>\n",
       "      <td>0</td>\n",
       "      <td>0</td>\n",
       "      <td>0</td>\n",
       "      <td>0</td>\n",
       "      <td>0</td>\n",
       "      <td>0</td>\n",
       "      <td>0</td>\n",
       "    </tr>\n",
       "    <tr>\n",
       "      <th>3</th>\n",
       "      <td>0</td>\n",
       "      <td>0</td>\n",
       "      <td>0</td>\n",
       "      <td>1</td>\n",
       "      <td>0</td>\n",
       "      <td>0</td>\n",
       "      <td>0</td>\n",
       "      <td>0</td>\n",
       "      <td>0</td>\n",
       "      <td>0</td>\n",
       "      <td>...</td>\n",
       "      <td>0</td>\n",
       "      <td>0</td>\n",
       "      <td>0</td>\n",
       "      <td>0</td>\n",
       "      <td>0</td>\n",
       "      <td>0</td>\n",
       "      <td>0</td>\n",
       "      <td>0</td>\n",
       "      <td>0</td>\n",
       "      <td>0</td>\n",
       "    </tr>\n",
       "    <tr>\n",
       "      <th>6</th>\n",
       "      <td>0</td>\n",
       "      <td>0</td>\n",
       "      <td>0</td>\n",
       "      <td>0</td>\n",
       "      <td>0</td>\n",
       "      <td>0</td>\n",
       "      <td>0</td>\n",
       "      <td>0</td>\n",
       "      <td>0</td>\n",
       "      <td>0</td>\n",
       "      <td>...</td>\n",
       "      <td>0</td>\n",
       "      <td>0</td>\n",
       "      <td>0</td>\n",
       "      <td>2</td>\n",
       "      <td>0</td>\n",
       "      <td>0</td>\n",
       "      <td>0</td>\n",
       "      <td>0</td>\n",
       "      <td>0</td>\n",
       "      <td>0</td>\n",
       "    </tr>\n",
       "  </tbody>\n",
       "</table>\n",
       "<p>5 rows × 420 columns</p>\n",
       "</div>"
      ],
      "text/plain": [
       "     WBC_1  WBC_2  WBC_3  WBC_4  WBC_5  WBC_6  WBC_7  WBC_8  WBC_9  WBC_10  \\\n",
       "CSN                                                                          \n",
       "0        0      0      0      0      0      0      0      0      0       0   \n",
       "1        0      0      0      0      0      0      0      0      0       0   \n",
       "2        0      0      0      0      0      0      0      0      0       0   \n",
       "3        0      0      0      1      0      0      0      0      0       0   \n",
       "6        0      0      0      0      0      0      0      0      0       0   \n",
       "\n",
       "     ...  PCO2V_11  PCO2V_12  PCO2V_13  PCO2V_14  PCO2V_15  PCO2V_16  \\\n",
       "CSN  ...                                                               \n",
       "0    ...         0         0         0         0         0         0   \n",
       "1    ...         0         0         0         0         0         0   \n",
       "2    ...         1         0         0         0         0         0   \n",
       "3    ...         0         0         0         0         0         0   \n",
       "6    ...         0         0         0         2         0         0   \n",
       "\n",
       "     PCO2V_17  PCO2V_18  PCO2V_19  PCO2V_20  \n",
       "CSN                                          \n",
       "0           0         0         0         1  \n",
       "1           0         0         0         0  \n",
       "2           0         0         0         0  \n",
       "3           0         0         0         0  \n",
       "6           0         0         0         0  \n",
       "\n",
       "[5 rows x 420 columns]"
      ]
     },
     "execution_count": 584,
     "metadata": {},
     "output_type": "execute_result"
    }
   ],
   "source": [
    "counts_df.head()"
   ]
  },
  {
   "cell_type": "code",
   "execution_count": 585,
   "metadata": {},
   "outputs": [
    {
     "data": {
      "text/plain": [
       "(24391, 420)"
      ]
     },
     "execution_count": 585,
     "metadata": {},
     "output_type": "execute_result"
    }
   ],
   "source": [
    "counts_df.shape"
   ]
  }
 ],
 "metadata": {
  "kernelspec": {
   "display_name": "Python 3",
   "language": "python",
   "name": "python3"
  },
  "language_info": {
   "codemirror_mode": {
    "name": "ipython",
    "version": 3
   },
   "file_extension": ".py",
   "mimetype": "text/x-python",
   "name": "python",
   "nbconvert_exporter": "python",
   "pygments_lexer": "ipython3",
   "version": "3.6.6"
  }
 },
 "nbformat": 4,
 "nbformat_minor": 4
}

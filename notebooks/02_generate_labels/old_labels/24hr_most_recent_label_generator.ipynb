{
 "cells": [
  {
   "cell_type": "markdown",
   "metadata": {},
   "source": [
    "# 24 hour most recent labels\n",
    "\n",
    "This notebook generates labels according to the most recent level of care a patient receives prior to the 24 hour mark.\n",
    "\n",
    "A patient has label\n",
    "* 1 if they are in critical care in the most recent event before the 24hr mark after being admitted as an inpatient\n",
    "* 0 otherwise\n",
    "\n"
   ]
  },
  {
   "cell_type": "code",
   "execution_count": null,
   "metadata": {},
   "outputs": [],
   "source": [
    "import pandas as pd\n",
    "import numpy as np\n",
    "from datetime import datetime\n",
    "from datetime import timedelta\n",
    "import matplotlib.pyplot as plt\n",
    "import seaborn as sns"
   ]
  },
  {
   "cell_type": "code",
   "execution_count": null,
   "metadata": {},
   "outputs": [],
   "source": [
    "%load_ext google.cloud.bigquery"
   ]
  },
  {
   "cell_type": "markdown",
   "metadata": {},
   "source": [
    "### Download adjusted_cohort table from BQ"
   ]
  },
  {
   "cell_type": "code",
   "execution_count": null,
   "metadata": {},
   "outputs": [],
   "source": [
    "%%bigquery triage_cohort_adjusted\n",
    "select *\n",
    "from traige_TE.triage_cohort_adjusted"
   ]
  },
  {
   "cell_type": "code",
   "execution_count": null,
   "metadata": {},
   "outputs": [],
   "source": [
    "triage_cohort_adjusted.to_csv(\"triage_cohort_adjusted.csv\", index=False)"
   ]
  },
  {
   "cell_type": "markdown",
   "metadata": {},
   "source": [
    "### Get the labels for different windows\n",
    "\n",
    "We need to use the ADT table to get the labels for the different CSNs since we need to know the trajectories."
   ]
  },
  {
   "cell_type": "code",
   "execution_count": null,
   "metadata": {},
   "outputs": [],
   "source": [
    "triage_cohort_adjusted = pd.read_csv(\"triage_cohort_adjusted.csv\")"
   ]
  },
  {
   "cell_type": "code",
   "execution_count": null,
   "metadata": {},
   "outputs": [],
   "source": [
    "triage_cohort_adjusted"
   ]
  },
  {
   "cell_type": "code",
   "execution_count": null,
   "metadata": {},
   "outputs": [],
   "source": [
    "# load in a fresh copy of the adjusted cohort table here\n",
    "\n",
    "# read in the cohort after saving the first time\n",
    "adj_cohort_adt_file = \"adjusted_cohort_adt.csv\"\n",
    "adjusted_cohort_adt = pd.read_csv(adj_cohort_adt_file)\n",
    "\n",
    "# change the effective time to datetime since read in from csv\n",
    "adjusted_cohort_adt.effective_time_jittered_utc = pd.to_datetime(adjusted_cohort_adt.effective_time_jittered_utc)\n",
    "\n",
    "adjusted_cohort_adt.sort_values(['pat_enc_csn_id_coded', 'seq_num_in_enc'], inplace=True)\n",
    "\n",
    "# use this to hide ID columns from view\n",
    "hidecols = ['jc_uid', 'pat_enc_csn_id_coded']\n",
    "\n",
    "# join the adt table with the adjusted cohort table\n",
    "joined_adjusted_cohort_adt = triage_cohort_adjusted.merge(adjusted_cohort_adt, \n",
    "                                                          on = ['jc_uid', 'pat_enc_csn_id_coded'])\n",
    "joined_adjusted_cohort_adt.admit_time = pd.to_datetime(joined_adjusted_cohort_adt.admit_time)\n",
    "joined_adjusted_cohort_adt.head()\n"
   ]
  },
  {
   "cell_type": "code",
   "execution_count": null,
   "metadata": {},
   "outputs": [],
   "source": [
    "# we still have all of the adt events\n",
    "print(adjusted_cohort_adt.pat_enc_csn_id_coded.nunique())\n",
    "print(joined_adjusted_cohort_adt.pat_enc_csn_id_coded.nunique())"
   ]
  },
  {
   "cell_type": "code",
   "execution_count": null,
   "metadata": {},
   "outputs": [],
   "source": [
    "# compute the time since event\n",
    "joined_adjusted_cohort_adt['time_since_admit'] = joined_adjusted_cohort_adt.apply(\n",
    "    lambda x: x.effective_time_jittered_utc - x.admit_time, axis=1)\n",
    "joined_adjusted_cohort_adt.head()"
   ]
  },
  {
   "cell_type": "code",
   "execution_count": null,
   "metadata": {},
   "outputs": [],
   "source": [
    "# remove all events that occurr prior to admit and also after 24 hours after admit\n",
    "keep_adt = joined_adjusted_cohort_adt[(joined_adjusted_cohort_adt.time_since_admit \n",
    "                                       <= timedelta(hours=24))\n",
    "                                     & (joined_adjusted_cohort_adt.time_since_admit \n",
    "                                       >= timedelta(hours=0))]\n",
    "print(keep_adt.time_since_admit.describe())\n",
    "keep_adt.head()"
   ]
  },
  {
   "cell_type": "code",
   "execution_count": null,
   "metadata": {},
   "outputs": [],
   "source": [
    "# sort the dataframe\n",
    "sorted_adt = keep_adt.sort_values(by = ['jc_uid', 'pat_enc_csn_id_coded', 'time_since_admit'])\n",
    "sorted_adt\n",
    "\n",
    "# group by encounter and keep only the last time\n",
    "last_adt = sorted_adt.groupby('pat_enc_csn_id_coded').tail(1)\n",
    "last_adt.head()"
   ]
  },
  {
   "cell_type": "markdown",
   "metadata": {},
   "source": [
    "## Look here\n",
    "\n",
    "This is something to watch out for. When we grab the last event that occurs before the 24 hour mark, the minimum time is 5 minutes. This person probably went straight to critical care from the ER. Might not reflect what we are trying to capture with this label though.\n",
    "\n",
    "We can look into this 5 minute individual in the next few code blocks."
   ]
  },
  {
   "cell_type": "code",
   "execution_count": null,
   "metadata": {},
   "outputs": [],
   "source": [
    "# we have one row for each event now - each row is the last entry for each event prior to 24 hr mark\n",
    "print(last_adt.pat_enc_csn_id_coded.nunique())\n",
    "print(last_adt.shape)\n",
    "\n",
    "last_adt.time_since_admit.describe()"
   ]
  },
  {
   "cell_type": "code",
   "execution_count": null,
   "metadata": {
    "scrolled": true
   },
   "outputs": [],
   "source": [
    "last_adt[last_adt.time_since_admit < timedelta(hours=1)].sort_values('time_since_admit')"
   ]
  },
  {
   "cell_type": "code",
   "execution_count": null,
   "metadata": {},
   "outputs": [],
   "source": [
    "adjusted_cohort_adt[adjusted_cohort_adt.pat_enc_csn_id_coded == 131110146103]"
   ]
  },
  {
   "cell_type": "markdown",
   "metadata": {},
   "source": [
    "## continue with labels again"
   ]
  },
  {
   "cell_type": "code",
   "execution_count": null,
   "metadata": {},
   "outputs": [],
   "source": [
    "# look at the level of care assignments across all individuals\n",
    "last_adt.pat_lv_of_care.value_counts()"
   ]
  },
  {
   "cell_type": "code",
   "execution_count": null,
   "metadata": {},
   "outputs": [],
   "source": [
    "last_adt['24hr_recent_label'] = (last_adt.pat_lv_of_care == 'Critical Care').astype(int)\n",
    "last_adt.head()"
   ]
  },
  {
   "cell_type": "code",
   "execution_count": null,
   "metadata": {},
   "outputs": [],
   "source": [
    "# grab relevant columns\n",
    "labels = last_adt[['jc_uid', 'pat_enc_csn_id_coded', 'inpatient_data_id_coded', 'admit_time', '24hr_recent_label']]\n",
    "labels"
   ]
  },
  {
   "cell_type": "code",
   "execution_count": null,
   "metadata": {},
   "outputs": [],
   "source": [
    "# save the data\n",
    "labels.to_csv(\"adjusted_cohort_24hr_recent_labels.csv\", index=False)"
   ]
  }
 ],
 "metadata": {
  "kernelspec": {
   "display_name": "Python 3",
   "language": "python",
   "name": "python3"
  },
  "language_info": {
   "codemirror_mode": {
    "name": "ipython",
    "version": 3
   },
   "file_extension": ".py",
   "mimetype": "text/x-python",
   "name": "python",
   "nbconvert_exporter": "python",
   "pygments_lexer": "ipython3",
   "version": "3.8.5"
  }
 },
 "nbformat": 4,
 "nbformat_minor": 2
}

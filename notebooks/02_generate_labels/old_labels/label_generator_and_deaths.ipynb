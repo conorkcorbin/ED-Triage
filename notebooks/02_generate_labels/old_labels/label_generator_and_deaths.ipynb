{
 "cells": [
  {
   "cell_type": "markdown",
   "metadata": {},
   "source": [
    "# Labels\n",
    "\n",
    "This notebook grabs two labels for our adjusted cohort.\n",
    "\n",
    "1) Outcome labels: labels that we're trying to predict\n",
    "\n",
    "2) Switch labels: indicator of people this predictor can help\n",
    "\n",
    "## Part 1: Outcome labels\n",
    "Get the labels for different windows (12 and 24 hours) after admission. \n",
    "\n",
    "0 if patient doesn't go to critical care within X hours\n",
    "\n",
    "1 if patient goes to critical care within X hours\n",
    "\n",
    "Find the labels for the adjusted cohort. Attach to the BQ dataframe."
   ]
  },
  {
   "cell_type": "code",
   "execution_count": null,
   "metadata": {},
   "outputs": [],
   "source": [
    "import pandas as pd\n",
    "import numpy as np\n",
    "from datetime import datetime\n",
    "from datetime import timedelta\n",
    "import matplotlib.pyplot as plt\n",
    "import seaborn as sns\n",
    "from scipy import stats"
   ]
  },
  {
   "cell_type": "code",
   "execution_count": null,
   "metadata": {},
   "outputs": [],
   "source": [
    "%load_ext google.cloud.bigquery"
   ]
  },
  {
   "cell_type": "markdown",
   "metadata": {},
   "source": [
    "### Download adjusted_cohort table from BQ"
   ]
  },
  {
   "cell_type": "code",
   "execution_count": null,
   "metadata": {},
   "outputs": [],
   "source": [
    "%%bigquery triage_cohort_adjusted\n",
    "select *\n",
    "from traige_TE.triage_cohort_adjusted"
   ]
  },
  {
   "cell_type": "code",
   "execution_count": null,
   "metadata": {},
   "outputs": [],
   "source": [
    "triage_cohort_adjusted.to_csv(\"triage_cohort_adjusted.csv\", index=False)"
   ]
  },
  {
   "cell_type": "code",
   "execution_count": null,
   "metadata": {},
   "outputs": [],
   "source": [
    "# select the deaths for our adjusted cohorts\n",
    "%%bigquery triage_adjusted_cohort_deaths\n",
    "select rit_uid, death_date_jittered from starr_datalake2018.demographic\n",
    "where rit_uid in \n",
    "  (\n",
    "  select jc_uid from traige_TE.triage_cohort_adjusted\n",
    "  )"
   ]
  },
  {
   "cell_type": "code",
   "execution_count": null,
   "metadata": {},
   "outputs": [],
   "source": [
    "triage_adjusted_cohort_deaths.to_csv(\"triage_adjusted_cohort_deaths.csv\", index=False)"
   ]
  },
  {
   "cell_type": "markdown",
   "metadata": {},
   "source": [
    "### Get the labels for different windows\n",
    "\n",
    "We need to use the ADT table to get the labels for the different CSNs since we need to know the trajectories."
   ]
  },
  {
   "cell_type": "code",
   "execution_count": null,
   "metadata": {},
   "outputs": [],
   "source": [
    "triage_cohort_adjusted = pd.read_csv(\"triage_cohort_adjusted.csv\")"
   ]
  },
  {
   "cell_type": "code",
   "execution_count": null,
   "metadata": {},
   "outputs": [],
   "source": [
    "# load in a fresh copy of the adjusted cohort table here\n",
    "\n",
    "# read in the cohort after saving the first time\n",
    "adj_cohort_adt_file = \"adjusted_cohort_adt.csv\"\n",
    "adjusted_cohort_adt = pd.read_csv(adj_cohort_adt_file)\n",
    "\n",
    "# change the effective time to datetime since read in from csv\n",
    "adjusted_cohort_adt.effective_time_jittered_utc = pd.to_datetime(adjusted_cohort_adt.effective_time_jittered_utc)\n",
    "\n",
    "adjusted_cohort_adt.sort_values(['pat_enc_csn_id_coded', 'seq_num_in_enc'], inplace=True)\n",
    "\n",
    "# use this to hide ID columns from view\n",
    "hidecols = ['jc_uid', 'pat_enc_csn_id_coded']\n",
    "\n",
    "\n",
    "def get_labels(window_hours):\n",
    "    # setting up variables to use conor's code\n",
    "    df_change = adjusted_cohort_adt\n",
    "    df_lofc = adjusted_cohort_adt\n",
    "    inpatient_ids = set(adjusted_cohort_adt.pat_enc_csn_id_coded.values)\n",
    "\n",
    "    # conor's code\n",
    "    df_admit_times = df_change[df_change['pat_enc_csn_id_coded'].isin(inpatient_ids)]\n",
    "    df_admit_times = df_admit_times[df_admit_times['pat_class'] == 'Inpatient'].groupby(\n",
    "         'pat_enc_csn_id_coded').first().reset_index()[['pat_enc_csn_id_coded', 'effective_time_jittered_utc']].rename(\n",
    "         columns={'effective_time_jittered_utc' : 'admit_time_jittered'})\n",
    "    df_admit_times\n",
    "\n",
    "    # Merge to df_lofc and create column called time_since_admit\n",
    "    df_lofc = pd.merge(df_lofc, df_admit_times, how='left', on='pat_enc_csn_id_coded')\n",
    "    df_lofc['time_since_admit'] = df_lofc.apply(lambda x: x.effective_time_jittered_utc - x.admit_time_jittered, axis=1)\n",
    "    # Filter df_lofc so that we only look window_hours hours into admission\n",
    "    df_lofc = df_lofc[df_lofc['time_since_admit'] < timedelta(hours=window_hours)]\n",
    "\n",
    "    def was_placed_in_critical_care(arr):\n",
    "        \"\"\"Returns true if patient placed in crtical care within 24 hours of admit\n",
    "           Assumes we have already done the 24 hours logic\n",
    "           Assumes no overlapping csn ids... \"\"\"\n",
    "        for a in arr:\n",
    "            if a == 'Critical Care':\n",
    "                return 1\n",
    "        return 0\n",
    "\n",
    "    label_name = \"label_{}hr\".format(window_hours)\n",
    "    \n",
    "    df_labels = df_lofc.groupby('pat_enc_csn_id_coded').agg({\n",
    "        'jc_uid' : 'first',\n",
    "        'admit_time_jittered' : 'first',\n",
    "        'pat_lv_of_care' : was_placed_in_critical_care}).rename(\n",
    "        columns={\"pat_lv_of_care\" : label_name}).reset_index()[['jc_uid', 'pat_enc_csn_id_coded', 'admit_time_jittered', label_name]]\n",
    "    df_labels.head()\n",
    "\n",
    "    print(df_labels.groupby(label_name).count())\n",
    "    \n",
    "    return df_labels"
   ]
  },
  {
   "cell_type": "code",
   "execution_count": null,
   "metadata": {},
   "outputs": [],
   "source": [
    "labels_24hr = get_labels(24)\n",
    "labels_12hr = get_labels(12)"
   ]
  },
  {
   "cell_type": "markdown",
   "metadata": {},
   "source": [
    "### Connect 24 hour labels to the adjusted_cohort table\n",
    "\n",
    "These labels should be the same as those already in the table. Use this as a check to make sure we're doing things properly.\n",
    "\n",
    "Everything matches so we're good!"
   ]
  },
  {
   "cell_type": "code",
   "execution_count": null,
   "metadata": {},
   "outputs": [],
   "source": [
    "# connect the new labels to the adjusted cohort\n",
    "triage_cohort_adjusted_label24 = triage_cohort_adjusted.merge(labels_24hr, \n",
    "                                                             on=['jc_uid', 'pat_enc_csn_id_coded']\n",
    "                                                             )\n",
    "\n",
    "# check that the labels match the previous ones\n",
    "triage_cohort_adjusted_label24[triage_cohort_adjusted_label24.label != \n",
    "                              triage_cohort_adjusted_label24.label_24hr]"
   ]
  },
  {
   "cell_type": "markdown",
   "metadata": {},
   "source": [
    "### Connect the 12 hour labels "
   ]
  },
  {
   "cell_type": "code",
   "execution_count": null,
   "metadata": {},
   "outputs": [],
   "source": [
    "# connect the new labels to the adjusted cohort\n",
    "triage_cohort_adjusted_label24_label12 = triage_cohort_adjusted_label24.merge(labels_12hr, \n",
    "                                                             on=['jc_uid', 'pat_enc_csn_id_coded'])\n",
    "\n",
    "# remove the admit time columns that we added from the ADT tables\n",
    "triage_cohort_adjusted_label24_label12_clean = triage_cohort_adjusted_label24_label12.drop(\n",
    "    ['admit_time_jittered_x', 'admit_time_jittered_y', 'label'], axis=1)\n",
    "\n",
    "hidecols=['jc_uid', 'pat_enc_csn_id_coded'] # use this to hide output\n",
    "triage_cohort_adjusted_label24_label12_clean.drop(hidecols, axis=1)"
   ]
  },
  {
   "cell_type": "markdown",
   "metadata": {},
   "source": [
    "## Part 2: Switch labels\n",
    "\n",
    "Now we add the switch labels. These labels tell us whether a patient was placed into acute care prior to critical care and then was switched to critical care within our window time.\n",
    "\n",
    "1 for patients who were in acute care and then moved to critical care within X hours\n",
    "\n",
    "0 otherwise"
   ]
  },
  {
   "cell_type": "code",
   "execution_count": null,
   "metadata": {},
   "outputs": [],
   "source": [
    "# run this code just to get the admit time and the time_since_admit columns\n",
    "# also filtering events down to a 24 hour window\n",
    "window_hours = 24\n",
    "\n",
    "# setting up variables to use conor's code\n",
    "df_change = adjusted_cohort_adt\n",
    "df_lofc = adjusted_cohort_adt\n",
    "inpatient_ids = set(adjusted_cohort_adt.pat_enc_csn_id_coded.values)\n",
    "\n",
    "# conor's code\n",
    "df_admit_times = df_change[df_change['pat_enc_csn_id_coded'].isin(inpatient_ids)]\n",
    "df_admit_times = df_admit_times[df_admit_times['pat_class'] == 'Inpatient'].groupby(\n",
    "     'pat_enc_csn_id_coded').first().reset_index()[['pat_enc_csn_id_coded', 'effective_time_jittered_utc']].rename(\n",
    "     columns={'effective_time_jittered_utc' : 'admit_time_jittered'})\n",
    "df_admit_times\n",
    "\n",
    "# Merge to df_lofc and create column called time_since_admit\n",
    "df_lofc = pd.merge(df_lofc, df_admit_times, how='left', on='pat_enc_csn_id_coded')\n",
    "df_lofc['time_since_admit'] = df_lofc.apply(lambda x: x.effective_time_jittered_utc - x.admit_time_jittered, axis=1)\n",
    "# Filter df_lofc so that we only look window_hours hours into admission\n",
    "df_lofc = df_lofc[df_lofc['time_since_admit'] < timedelta(hours=window_hours)]"
   ]
  },
  {
   "cell_type": "code",
   "execution_count": null,
   "metadata": {},
   "outputs": [],
   "source": [
    "# get the labels for switching from acutre to critical care within the window time\n",
    "\n",
    "# assumes that outcome labels for this window_hours has already been created, \n",
    "# will not work unless this is true!\n",
    "\n",
    "def get_switch_labels(window_hours, cohort_df):\n",
    "    print(\"Creating switch labels for {} hours\".format(window_hours))\n",
    "    # grab only the cases who were sent to critical care within X hours - just use label we already made\n",
    "    label_col = \"label_{}hr\".format(window_hours)\n",
    "    pos_cases = triage_cohort_adjusted_label24_label12[\n",
    "        triage_cohort_adjusted_label24_label12[label_col] == 1]\n",
    "    pos_csn = pos_cases.pat_enc_csn_id_coded.values\n",
    "    pos_adt = df_lofc[df_lofc.pat_enc_csn_id_coded.isin(pos_csn)]\n",
    "\n",
    "    # filter down to the time window\n",
    "    pos_adt_filtered = pos_adt[pos_adt['time_since_admit'] < timedelta(hours=window_hours)]\n",
    "\n",
    "    # sort values by time\n",
    "    pos_adt_filtered = pos_adt_filtered.sort_values(['pat_enc_csn_id_coded', 'effective_time_jittered_utc'])\n",
    "    pos_adt_filtered\n",
    "\n",
    "\n",
    "    # keep only cases where pat_lv_of_care changed from row above or csn changed\n",
    "    # logic: (row.csn == last.csn) --> (row.care != last.care) ::: p --> q\n",
    "    # equivalent: (!(row.csn == last.csn) OR (row.care != last.care)) ::: !p OR q\n",
    "    pos_adt_changed = pos_adt_filtered[(pos_adt_filtered.shift().pat_enc_csn_id_coded != \n",
    "                                      pos_adt_filtered.pat_enc_csn_id_coded) |\n",
    "                                        (pos_adt_filtered.shift().pat_lv_of_care != \n",
    "                                      pos_adt_filtered.pat_lv_of_care) \n",
    "                                      ]\n",
    "    pos_adt_changed.drop(hidecols, axis=1)\n",
    "\n",
    "    # modified this function from conor's code\n",
    "    def has_critical_after_acute(arr):\n",
    "        \"\"\"Assumes arr is ordered by time\"\"\"\n",
    "        has_acute = False\n",
    "\n",
    "        # must see Critical Care AFTER not Critical Care\n",
    "        for a in arr:\n",
    "            if a != 'Critical Care':\n",
    "                has_acute = True\n",
    "            elif a == 'Critical Care' and has_acute == True:\n",
    "                return True\n",
    "            else:\n",
    "                return False\n",
    "\n",
    "        return False\n",
    "\n",
    "\n",
    "    # Get labels for patients that switched from acute -> critical care within window\n",
    "    df_temp = pos_adt_changed[['pat_enc_csn_id_coded', 'pat_lv_of_care']].dropna().groupby('pat_enc_csn_id_coded').agg(\n",
    "    {'pat_lv_of_care' : has_critical_after_acute}).reset_index()\n",
    "    inpatient_ids = set(df_temp[df_temp['pat_lv_of_care'] == True]['pat_enc_csn_id_coded'].values)\n",
    "\n",
    "    newlab = \"acute_to_critical_{}hr\".format(window_hours)\n",
    "    df_temp.rename({'pat_lv_of_care': newlab}, axis=1, inplace=True)\n",
    "    \n",
    "    \n",
    "    # join these labels to our adjusted cohort\n",
    "    cohort_label24_label12_atc = cohort_df.merge(\n",
    "                                    df_temp, on=['pat_enc_csn_id_coded'], how='left')\n",
    "    # switch NaNs and False, then convert everything to ints\n",
    "    cohort_label24_label12_atc[newlab].fillna(False, inplace=True)\n",
    "    cohort_label24_label12_atc[newlab] = cohort_label24_label12_atc[newlab].astype(int)\n",
    "\n",
    "    print(cohort_label24_label12_atc[newlab].value_counts())\n",
    "    \n",
    "    return(cohort_label24_label12_atc)"
   ]
  },
  {
   "cell_type": "code",
   "execution_count": null,
   "metadata": {},
   "outputs": [],
   "source": [
    "# create a new cohort table for the labels\n",
    "cohort_label24_label12_atc = triage_cohort_adjusted_label24_label12_clean\n",
    "\n",
    "# get the labels for 24 hours\n",
    "cohort_label24_label12_atc = get_switch_labels(24, cohort_label24_label12_atc)\n",
    "\n",
    "print()\n",
    "# get the labels for 12 hours\n",
    "cohort_label24_label12_atc = get_switch_labels(12, cohort_label24_label12_atc)"
   ]
  },
  {
   "cell_type": "code",
   "execution_count": null,
   "metadata": {},
   "outputs": [],
   "source": [
    "cohort_label24_label12_atc.drop(hidecols, axis=1)"
   ]
  },
  {
   "cell_type": "code",
   "execution_count": null,
   "metadata": {},
   "outputs": [],
   "source": [
    "# convert the inpatient IDs to strings to get rid of decimal\n",
    "cohort_label24_label12_atc.inpatient_data_id_coded = cohort_label24_label12_atc.inpatient_data_id_coded.astype(str).str.split('.').str[0]"
   ]
  },
  {
   "cell_type": "code",
   "execution_count": null,
   "metadata": {},
   "outputs": [],
   "source": [
    "cohort_label24_label12_atc.to_csv(\"triage_cohort_adjusted_multilabel.csv\", index=False)"
   ]
  },
  {
   "cell_type": "code",
   "execution_count": null,
   "metadata": {
    "scrolled": true
   },
   "outputs": [],
   "source": [
    "triage_cohort_labels = triage_cohort_adjusted\n",
    "\n",
    "# get the labels for a range of hours\n",
    "hours = 48\n",
    "for i in range(hours):\n",
    "    print(\"Getting labels for hour \", i)\n",
    "    labels = get_labels(i)\n",
    "    triage_cohort_labels = triage_cohort_labels.merge(labels, \n",
    "                                                             on=['jc_uid', 'pat_enc_csn_id_coded'])\n",
    "    \n",
    "triage_cohort_labels"
   ]
  },
  {
   "cell_type": "code",
   "execution_count": null,
   "metadata": {},
   "outputs": [],
   "source": [
    "## get labels for many different hour marks\n",
    "dropcols = [x for x in triage_cohort_labels.columns if 'admit_time_jittered' in x]\n",
    "triage_cohort_labels_clean = triage_cohort_labels.drop(dropcols, axis=1)\n",
    "\n",
    "triage_cohort_labels_clean.to_csv(\"traige_cohort_all_labels_clean.csv\")\n"
   ]
  },
  {
   "cell_type": "code",
   "execution_count": null,
   "metadata": {},
   "outputs": [],
   "source": [
    "triage_cohort_labels_clean = pd.read_csv(\"traige_cohort_all_labels_clean.csv\")"
   ]
  },
  {
   "cell_type": "markdown",
   "metadata": {},
   "source": [
    "Find out how percentage of positive labels change as we move the window to create our labels."
   ]
  },
  {
   "cell_type": "code",
   "execution_count": null,
   "metadata": {},
   "outputs": [],
   "source": [
    "\n",
    "pos_count = []\n",
    "neg_count = []\n",
    "cols = []\n",
    "\n",
    "hours=48\n",
    "for i in range(hours):\n",
    "    col = \"label_{}hr\".format(i)\n",
    "    cols.append(col)\n",
    "    labels = triage_cohort_labels_clean[col]\n",
    "    pos = sum(labels)\n",
    "    neg = len(labels) - pos\n",
    "    pos_count.append(pos)\n",
    "    neg_count.append(neg)\n",
    "\n",
    "print(pos_count)\n",
    "print(neg_count)\n",
    "\n",
    "pos_perc = np.array(pos_count) / (np.array(pos_count) + np.array(neg_count)) * 100\n",
    "neg_perc = np.array(neg_count) / (np.array(pos_count) + np.array(neg_count)) * 100\n",
    "\n",
    "print(pos_perc)\n",
    "print(neg_perc)"
   ]
  },
  {
   "cell_type": "code",
   "execution_count": null,
   "metadata": {
    "scrolled": false
   },
   "outputs": [],
   "source": [
    "# plot\n",
    "names = [x for x in range(48)]\n",
    "plt.figure(figsize=(15,8))\n",
    "# Create green Bars\n",
    "barlist = plt.bar(names, pos_perc, color='cornflowerblue', edgecolor='whitesmoke')\n",
    "barlist[24].set_color('palevioletred')\n",
    "\n",
    "# Custom x axis\n",
    "\n",
    "plt.xticks(names)\n",
    "plt.xlabel(\"Hours since admit\")\n",
    "plt.ylabel(\"Percent positive cases\")\n",
    "plt.title(\"Percent positive labels X hours after admission\")\n",
    " \n",
    "# Show graphic\n",
    "plt.show()\n",
    "\n",
    "\n",
    "# plot\n",
    "names = [x for x in range(48)]\n",
    "plt.figure(figsize=(15,8))\n",
    "# Create green Bars\n",
    "barlist = plt.plot(names, pos_perc, color='cornflowerblue')\n",
    "\n",
    "# Custom x axis\n",
    "\n",
    "plt.xticks(names)\n",
    "plt.xlabel(\"Hours since admit\")\n",
    "plt.ylabel(\"Percent positive cases\")\n",
    "plt.title(\"Percent positive labels X hours after admission\")\n",
    " \n",
    "# Show graphic\n",
    "plt.show()\n",
    "\n",
    "\n",
    "\n",
    "\n",
    "\n",
    "# plot\n",
    "names = [x for x in range(1,48)]\n",
    "plt.figure(figsize=(15,8))\n",
    "# Create green Bars\n",
    "barlist = plt.plot(names, pos_perc[1:], color='cornflowerblue')\n",
    "\n",
    "# Custom x axis\n",
    "\n",
    "plt.xticks(names)\n",
    "plt.xlabel(\"Hours since admit\")\n",
    "plt.ylabel(\"Percent positive cases\")\n",
    "plt.title(\"Percent positive labels X hours after admission\")\n",
    " \n",
    "# Show graphic\n",
    "plt.show()"
   ]
  },
  {
   "cell_type": "code",
   "execution_count": null,
   "metadata": {
    "scrolled": false
   },
   "outputs": [],
   "source": [
    "# plot\n",
    "names = [x for x in range(48)]\n",
    "plt.figure(figsize=(15,8))\n",
    "# Create green Bars\n",
    "barlist = plt.bar(names, pos_count, color='slateblue', edgecolor='white')\n",
    "barlist[24].set_color('r')\n",
    "\n",
    "# Custom x axis\n",
    "\n",
    "plt.xticks(names)\n",
    "plt.xlabel(\"Hours since admit\")\n",
    "plt.ylabel(\"Positive cases\")\n",
    "plt.title(\"Positive labels X hours after admission\")\n",
    " \n",
    "# Show graphic\n",
    "plt.show()\n",
    "\n",
    "\n",
    "# plot\n",
    "names = [x for x in range(48)]\n",
    "plt.figure(figsize=(15,8))\n",
    "# Create green Bars\n",
    "barlist = plt.plot(names, pos_count, color='cornflowerblue')\n",
    "\n",
    "# Custom x axis\n",
    "\n",
    "plt.xticks(names)\n",
    "plt.xlabel(\"Hours since admit\")\n",
    "plt.ylabel(\"Positive cases\")\n",
    "plt.title(\"Positive labels X hours after admission\")\n",
    " \n",
    "# Show graphic\n",
    "plt.show()\n",
    "\n",
    "\n",
    "\n",
    "# plot\n",
    "names = [x for x in range(1,48)]\n",
    "plt.figure(figsize=(15,8))\n",
    "# Create green Bars\n",
    "barlist = plt.plot(names, pos_count[1:], color='cornflowerblue')\n",
    "\n",
    "# Custom x axis\n",
    "\n",
    "plt.xticks(names)\n",
    "plt.xlabel(\"Hours since admit\")\n",
    "plt.ylabel(\"Positive cases\")\n",
    "plt.title(\"Positive labels X hours after admission\")\n",
    " \n",
    "# Show graphic\n",
    "plt.show()"
   ]
  },
  {
   "cell_type": "code",
   "execution_count": null,
   "metadata": {},
   "outputs": [],
   "source": [
    "perc24 = pos_perc[24]\n",
    "perc24\n",
    "\n",
    "diffs = pos_perc - perc24\n",
    "diffs\n",
    "\n",
    "# plot\n",
    "names = [x for x in range(48)]\n",
    "plt.figure(figsize=(15,8))\n",
    "# Create green Bars\n",
    "barlist = plt.bar(names, diffs, color='dodgerblue', edgecolor='white')\n",
    "# barlist[24].set_color('crimson')\n",
    "\n",
    "# Custom x axis\n",
    "\n",
    "plt.xticks(names)\n",
    "plt.xlabel(\"Hours since admit\")\n",
    "plt.ylabel(\"Percent positive cases at 24hrs - Percent positive cases at X hours\")\n",
    "plt.title(\"Difference in percentage of positive labels at X hours after admission vs 24 hours after admission\")\n",
    " \n",
    "# Show graphic\n",
    "plt.show()\n",
    "\n",
    "\n",
    "\n",
    "# plot\n",
    "names = [x for x in range(1,48)]\n",
    "plt.figure(figsize=(15,8))\n",
    "# Create green Bars\n",
    "barlist = plt.bar(names, diffs[1:], color='dodgerblue', edgecolor='white')\n",
    "# barlist[24].set_color('crimson')\n",
    "\n",
    "# Custom x axis\n",
    "\n",
    "plt.xticks(names)\n",
    "plt.xlabel(\"Hours since admit\")\n",
    "plt.ylabel(\"Percent positive cases at 24hrs - Percent positive cases at X hours\")\n",
    "plt.title(\"Difference in percentage of positive labels at X hours after admission vs 24 hours after admission\")\n",
    " \n",
    "# Show graphic\n",
    "plt.show()"
   ]
  },
  {
   "cell_type": "code",
   "execution_count": null,
   "metadata": {
    "scrolled": true
   },
   "outputs": [],
   "source": [
    "# get the labels for switching\n",
    "cohort_label24_label12_atc = pd.read_csv(\"triage_cohort_adjusted_multilabel.csv\")\n",
    "\n",
    "# get those who died\n",
    "died = triage_adjusted_cohort_deaths[~triage_adjusted_cohort_deaths.death_date_jittered.isnull()]\n",
    "\n",
    "# join death dates to the atc\n",
    "died['jc_uid'] = died.rit_uid\n",
    "joined = cohort_label24_label12_atc.merge(died, on='jc_uid', how='inner')\n",
    "\n",
    "# find out how much time has passed since admit time and death\n",
    "joined['admit_time'] = pd.to_datetime(joined.admit_time) \n",
    "joined['death_date_jittered'] = pd.to_datetime(joined.death_date_jittered)\n",
    "# joined['death_date_jittered'] = pd.Timestamp.to_pydatetime(joined.death_date_jittered)\n",
    "# get the date from admit time\n",
    "joined['admit_date'] = joined.admit_time.dt.date\n",
    "\n",
    "# joined.dtypes\n",
    "joined['admit_date'] = pd.to_datetime(joined.admit_date)\n",
    "# calculate time between death and admit\n",
    "joined['admit_death_delta'] = joined.death_date_jittered - joined.admit_date\n",
    "\n",
    "joined"
   ]
  },
  {
   "cell_type": "code",
   "execution_count": null,
   "metadata": {},
   "outputs": [],
   "source": [
    "died_7days = joined[joined.admit_death_delta <= timedelta(days=7)]\n",
    "\n",
    "died_7days"
   ]
  },
  {
   "cell_type": "code",
   "execution_count": null,
   "metadata": {},
   "outputs": [],
   "source": [
    "print(died_7days.acute_to_critical_24hr.value_counts())\n",
    "\n",
    "print(died_7days.label_24hr.value_counts())"
   ]
  },
  {
   "cell_type": "markdown",
   "metadata": {},
   "source": [
    "## Choose days until death here"
   ]
  },
  {
   "cell_type": "code",
   "execution_count": null,
   "metadata": {},
   "outputs": [],
   "source": [
    "# join the death deltas to the label table\n",
    "joined_clean = joined[['jc_uid', 'pat_enc_csn_id_coded', 'death_date_jittered', 'admit_death_delta']]\n",
    "all_labels = triage_cohort_labels_clean.merge(joined_clean, on=['jc_uid', 'pat_enc_csn_id_coded'], how='left')\n",
    "\n",
    "days=14\n",
    "# create label for whether patient died within X days\n",
    "all_labels['death_{}days'.format(days)] = all_labels.admit_death_delta < timedelta(days=days)\n",
    "\n",
    "# find out interaction between death in 7days and labels at different hours\n",
    "for i in range(48):\n",
    "    key = \"death_{}days_label{}\".format(days, i)\n",
    "    all_labels[key] = all_labels[\"label_{}hr\".format(i)] * all_labels['death_{}days'.format(days)]\n",
    "\n",
    "\n",
    "all_labels"
   ]
  },
  {
   "cell_type": "code",
   "execution_count": null,
   "metadata": {
    "scrolled": true
   },
   "outputs": [],
   "source": [
    "# find out proportions for the labels created\n",
    "props = []\n",
    "\n",
    "for i in range(48):\n",
    "    prop = sum(all_labels[\"death_{}days_label{}\".format(days, i)]) / sum(all_labels[\"label_{}hr\".format(i)]) *100\n",
    "    props.append(prop)\n",
    "\n",
    "props"
   ]
  },
  {
   "cell_type": "code",
   "execution_count": null,
   "metadata": {},
   "outputs": [],
   "source": [
    "# plot\n",
    "names = [x for x in range(1,48)]\n",
    "plt.figure(figsize=(15,8))\n",
    "# Create green Bars\n",
    "barlist = plt.plot(names, props[1:], color='darkslategray')\n",
    "# barlist[24].set_color('gold')\n",
    "\n",
    "# Custom x axis\n",
    "\n",
    "plt.xticks(names)\n",
    "plt.title(\"Percentage of deaths within {} days for patients transfered to ICU within X hours\".format(days))\n",
    "plt.ylabel(\"Percentage of deaths within {} days\".format(days))\n",
    "plt.xlabel(\"Hours since admit\")\n",
    " \n",
    "# Show graphic\n",
    "plt.show()"
   ]
  },
  {
   "cell_type": "code",
   "execution_count": null,
   "metadata": {
    "scrolled": true
   },
   "outputs": [],
   "source": [
    "# find out proportions for the labels created\n",
    "counts = []\n",
    "\n",
    "for i in range(48):\n",
    "    count = sum(all_labels[\"death_{}days_label{}\".format(days, i)])\n",
    "    counts.append(count)\n",
    "\n",
    "counts"
   ]
  },
  {
   "cell_type": "code",
   "execution_count": null,
   "metadata": {},
   "outputs": [],
   "source": [
    "# plot\n",
    "names = [x for x in range(1,48)]\n",
    "plt.figure(figsize=(15,8))\n",
    "# Create green Bars\n",
    "barlist = plt.plot(names, counts[1:], color='darkslategray')\n",
    "\n",
    "# Custom x axis\n",
    "\n",
    "plt.xticks(names)\n",
    "plt.title(\"Number of deaths within {} days for patients transfered to ICU within X hours\".format(days))\n",
    "plt.ylabel(\"Number of deaths within {} days\".format(days))\n",
    "plt.xlabel(\"Hours since admit\")\n",
    " \n",
    "# Show graphic\n",
    "plt.show()"
   ]
  },
  {
   "cell_type": "code",
   "execution_count": null,
   "metadata": {},
   "outputs": [],
   "source": [
    "# # how many people move to the ICU\n",
    "moved = []\n",
    "\n",
    "for i in range(48):\n",
    "    labels = all_labels[\"label_{}hr\".format(i)]\n",
    "    moved.append(sum(labels))\n",
    "\n",
    "# plot\n",
    "names = [x for x in range(48)]\n",
    "plt.figure(figsize=(15,8))\n",
    "# Create green Bars\n",
    "barlist = plt.plot(names, moved, color='darkslategray')\n",
    "# barlist[24].set_color('gold')\n",
    "\n",
    "# Custom x axis\n",
    "\n",
    "plt.xticks(names)\n",
    "plt.title(\"Percentage of deaths within {} days for patients transfered to ICU within X hours\".format(days))\n",
    "plt.ylabel(\"Percentage of deaths within {} days\".format(days))\n",
    "plt.xlabel(\"Hours since admit\")\n",
    " \n",
    "# Show graphic\n",
    "plt.show()"
   ]
  },
  {
   "cell_type": "markdown",
   "metadata": {},
   "source": [
    "# Admits only during that hour\n",
    "\n",
    "Look at admits only at that hour to separate the cumulative effect that's going on with the earlier graphs."
   ]
  },
  {
   "cell_type": "code",
   "execution_count": null,
   "metadata": {},
   "outputs": [],
   "source": [
    "all_labels[\"admit_at_{}hr\".format(0)] = all_labels[\"label_0hr\"]\n",
    "for i in range(1,48):\n",
    "        key = \"admit_at_{}hr\".format(i)\n",
    "        all_labels[key] = all_labels[\"label_{}hr\".format(i)] & ~all_labels[\"label_{}hr\".format(i-1)]\n",
    "\n",
    "cols = [x for x in all_labels.columns if \"admit_at\" in x]\n",
    "all_labels[cols]"
   ]
  },
  {
   "cell_type": "code",
   "execution_count": null,
   "metadata": {},
   "outputs": [],
   "source": [
    "at_props = []\n",
    "\n",
    "# find out interaction between death in 7days and labels at different hours\n",
    "for i in range(48):\n",
    "    key = \"death_{}days_admit_at_{}hr\".format(days, i)\n",
    "    all_labels[key] = all_labels[\"admit_at_{}hr\".format(i)] * all_labels['death_{}days'.format(days)]\n",
    "\n",
    "\n",
    "all_labels\n",
    "\n",
    "for i in range(48):\n",
    "    prop = sum(all_labels[\"death_{}days_admit_at_{}hr\".format(days, i)]) / sum(all_labels[\"admit_at_{}hr\".format(i)]) *100\n",
    "    at_props.append(prop)\n",
    "\n",
    "print(at_props)"
   ]
  },
  {
   "cell_type": "code",
   "execution_count": null,
   "metadata": {},
   "outputs": [],
   "source": [
    "# plot\n",
    "names = [x for x in range(48)]\n",
    "plt.figure(figsize=(15,8))\n",
    "# Create plot\n",
    "sns.regplot(names, at_props, fit_reg=True)\n",
    "\n",
    "# Custom x axis\n",
    "\n",
    "plt.xticks(names)\n",
    "plt.title(\"Percentage of patient deaths within {} days for patients transfered to ICU at X hours\".format(days))\n",
    "plt.ylabel(\"Percentage of patient deaths within {} days\".format(days))\n",
    "plt.xlabel(\"Hours since admit\")\n",
    " \n",
    "# Show graphic\n",
    "plt.show()\n",
    "\n",
    "np.polyfit(x=names, y=at_props, deg=1)\n",
    "\n",
    "stats.linregress(x=names, y=at_props)"
   ]
  },
  {
   "cell_type": "code",
   "execution_count": null,
   "metadata": {},
   "outputs": [],
   "source": [
    "# try binning rows\n",
    "binned = []\n",
    "binned_x = []\n",
    "\n",
    "n=3\n",
    "# print(len(at_props))\n",
    "for i in range(int(48/n)):\n",
    "    binned_x.append(i*n)\n",
    "    binned.append(sum(at_props[i*n:(i+1)*n]))\n",
    "\n",
    "binned\n",
    "\n",
    "model = stats.linregress(x=binned_x, y=binned)\n",
    "print(model)\n",
    "\n",
    "\n",
    "\n",
    "# plot\n",
    "names = [x for x in range(int(48/n))]\n",
    "plt.figure(figsize=(15,8))\n",
    "# Create green Bars\n",
    "# barlist = plt.scatter(names, at_props, color='darkslategray')\n",
    "# barlist[24].set_color('gold')\n",
    "sns.regplot(binned_x, binned, fit_reg=True)\n",
    "\n",
    "# Custom x axis\n",
    "\n",
    "labels = [\"{}-{}\".format(x*3,(x+1)*3) for x in range(int(48/n))]\n",
    "plt.xticks(binned_x, labels=labels)\n",
    "plt.title(\"Percentage of patient deaths within {} days for patients transfered to ICU at X hours\".format(days))\n",
    "plt.ylabel(\"Percentage of deaths within {} days\".format(days))\n",
    "plt.xlabel(\"Hours since admit\")\n",
    " \n",
    "# Show graphic\n",
    "plt.show()"
   ]
  },
  {
   "cell_type": "code",
   "execution_count": null,
   "metadata": {},
   "outputs": [],
   "source": [
    "# looking at normality of data and residuals\n",
    "slope,intercept,_,_,_ = model\n",
    "\n",
    "residuals = binned - (np.array(intercept) + np.array(slope)*np.array(binned_x))\n",
    "\n",
    "plt.hist(binned)\n",
    "plt.show()\n",
    "\n",
    "plt.scatter(binned_x, residuals)\n",
    "plt.show()"
   ]
  }
 ],
 "metadata": {
  "kernelspec": {
   "display_name": "Python 3",
   "language": "python",
   "name": "python3"
  },
  "language_info": {
   "codemirror_mode": {
    "name": "ipython",
    "version": 3
   },
   "file_extension": ".py",
   "mimetype": "text/x-python",
   "name": "python",
   "nbconvert_exporter": "python",
   "pygments_lexer": "ipython3",
   "version": "3.8.5"
  }
 },
 "nbformat": 4,
 "nbformat_minor": 2
}

{
 "cells": [
  {
   "cell_type": "code",
   "execution_count": 1,
   "metadata": {},
   "outputs": [
    {
     "name": "stderr",
     "output_type": "stream",
     "text": [
      "/share/sw/open/anaconda/3/lib/python3.6/site-packages/google/auth/_default.py:66: UserWarning: Your application has authenticated using end user credentials from Google Cloud SDK. We recommend that most server applications use service accounts instead. If your application continues to use end user credentials from Cloud SDK, you might receive a \"quota exceeded\" or \"API not enabled\" error. For more information about service accounts, see https://cloud.google.com/docs/authentication/\n",
      "  warnings.warn(_CLOUD_SDK_CREDENTIALS_WARNING)\n"
     ]
    }
   ],
   "source": [
    "import pandas as pd\n",
    "import matplotlib.pyplot as plt\n",
    "import numpy as np\n",
    "import os \n",
    "\n",
    "os.environ['GOOGLE_APPLICATION_CREDENTIALS'] = '/home/ccorbin/.config/gcloud/application_default_credentials.json' \n",
    "os.environ['GCLOUD_PROJECT'] = 'mining-clinical-decisions' \n",
    "%load_ext google.cloud.bigquery\n",
    "\n",
    "from google.cloud import bigquery\n",
    "client=bigquery.Client()"
   ]
  },
  {
   "cell_type": "code",
   "execution_count": 2,
   "metadata": {},
   "outputs": [
    {
     "name": "stdout",
     "output_type": "stream",
     "text": [
      "mining-clinical-decisions\n"
     ]
    }
   ],
   "source": [
    "##Checking Google cloud project authentication\n",
    "datasets = list(client.list_datasets())\n",
    "project = client.project\n",
    "print (project)"
   ]
  },
  {
   "cell_type": "code",
   "execution_count": 3,
   "metadata": {},
   "outputs": [
    {
     "name": "stdout",
     "output_type": "stream",
     "text": [
      "Datasets in project mining-clinical-decisions:\n",
      "\tahrq_ccsr\n",
      "\talert_2019\n",
      "\tclinical_inpatient\n",
      "\tclinical_item2018\n",
      "\tconor_db\n",
      "\tdatalake_47618\n",
      "\tdatalake_47618_sample\n",
      "\theme_stamp\n",
      "\timon_db\n",
      "\tlpch\n",
      "\tshc_test\n",
      "\tstarr_datalake2018\n",
      "\tstride_2008_2017\n",
      "\ttest_dataset\n"
     ]
    }
   ],
   "source": [
    "##List Datasets and Tables in project\n",
    "if datasets:\n",
    "    print('Datasets in project {}:'.format(project))\n",
    "    for dataset in datasets:  # API request(s)\n",
    "        print('\\t{}'.format(dataset.dataset_id))\n",
    "else:\n",
    "    print('{} project does not contain any datasets.'.format(project))"
   ]
  },
  {
   "cell_type": "code",
   "execution_count": 4,
   "metadata": {},
   "outputs": [],
   "source": [
    "query = \"\"\"\n",
    "SELECT jc_uid, pat_enc_csn_id_coded, effective_time_jittered_utc\n",
    "FROM starr_datalake2018.adt\n",
    "WHERE EXTRACT(YEAR from effective_time_jittered_utc) = 2017\n",
    "ORDER BY jc_uid, effective_time_jittered_utc\n",
    "\"\"\"\n",
    "query_job =client.query(query)\n",
    "df=query_job.to_dataframe()\n"
   ]
  },
  {
   "cell_type": "code",
   "execution_count": null,
   "metadata": {},
   "outputs": [],
   "source": [
    "df.head()"
   ]
  },
  {
   "cell_type": "code",
   "execution_count": 14,
   "metadata": {},
   "outputs": [],
   "source": [
    "def count_overlapping_encounter_ids():\n",
    "    counter = 0\n",
    "    encounter_ids = set()\n",
    "    encounters = []\n",
    "    encs = df['pat_enc_csn_id_coded'].values\n",
    "    temp_encounter_id = encs[0]\n",
    "    for i in range(len(df)):\n",
    "        if encs[i] == temp_encounter_id:\n",
    "            pass\n",
    "        else:\n",
    "            if temp_encounter_id in encounter_ids:\n",
    "                counter += 1  \n",
    "                encounters.append(temp_encounter_id)\n",
    "            encounter_ids.add(temp_encounter_id)\n",
    "            temp_encounter_id = encs[i]\n",
    "            \n",
    "    return counter, encounters\n",
    "        \n",
    "counter, encs = count_overlapping_encounter_ids()     "
   ]
  },
  {
   "cell_type": "code",
   "execution_count": 15,
   "metadata": {},
   "outputs": [
    {
     "data": {
      "text/plain": [
       "[131241011902, 131240956469, 131225009679, 131225009683, 131238826600]"
      ]
     },
     "execution_count": 15,
     "metadata": {},
     "output_type": "execute_result"
    }
   ],
   "source": [
    "encs[0:5]"
   ]
  },
  {
   "cell_type": "code",
   "execution_count": null,
   "metadata": {},
   "outputs": [],
   "source": [
    "df=query_job.to_dataframe()"
   ]
  },
  {
   "cell_type": "code",
   "execution_count": null,
   "metadata": {},
   "outputs": [],
   "source": [
    "ids = set()\n",
    "encounters = df['pat_enc_csn_id_coded'].values\n",
    "for i in range(len(encounters)):\n",
    "    "
   ]
  }
 ],
 "metadata": {
  "kernelspec": {
   "display_name": "Python 3",
   "language": "python",
   "name": "python3"
  },
  "language_info": {
   "codemirror_mode": {
    "name": "ipython",
    "version": 3
   },
   "file_extension": ".py",
   "mimetype": "text/x-python",
   "name": "python",
   "nbconvert_exporter": "python",
   "pygments_lexer": "ipython3",
   "version": "3.8.5"
  }
 },
 "nbformat": 4,
 "nbformat_minor": 4
}

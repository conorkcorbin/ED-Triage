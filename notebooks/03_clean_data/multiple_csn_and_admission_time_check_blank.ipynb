{
 "cells": [
  {
   "cell_type": "markdown",
   "metadata": {},
   "source": [
    "## Looking into the CSN's for encounters"
   ]
  },
  {
   "cell_type": "code",
   "execution_count": null,
   "metadata": {},
   "outputs": [],
   "source": [
    "import pandas as pd\n",
    "import matplotlib.pyplot as plt\n",
    "import numpy as np\n",
    "from datetime import datetime, timedelta\n",
    "from dateutil.parser import parse\n",
    "import os "
   ]
  },
  {
   "cell_type": "markdown",
   "metadata": {},
   "source": [
    "## Query the ADT table\n",
    "\n",
    "I just grab a 2017 data to look at here."
   ]
  },
  {
   "cell_type": "code",
   "execution_count": null,
   "metadata": {
    "scrolled": true
   },
   "outputs": [],
   "source": [
    "### THIS IS MEANT TO RUN ON NERO - NEEDS TO BE CHANGED IF YOU RUN LOCALLY\n",
    "# os.environ['GOOGLE_APPLICATION_CREDENTIALS'] = '/home/eulalio/.config/gcloud/application_default_credentials.json' \n",
    "# os.environ['GCLOUD_PROJECT'] = 'mining-clinical-decisions' \n",
    "\n",
    "from google.cloud import bigquery\n",
    "from google.cloud.bigquery import dbapi;\n",
    "\n",
    "# set up the connection\n",
    "client = bigquery.Client()\n",
    "conn = dbapi.connect(client);\n",
    "cursor = conn.cursor();"
   ]
  },
  {
   "cell_type": "code",
   "execution_count": null,
   "metadata": {},
   "outputs": [],
   "source": [
    "# function to query the database\n",
    "def query_data(query, savefile):\n",
    "    # make the query\n",
    "    resultsDF = pd.read_sql_query(query, conn);\n",
    "    resultsDF.head()\n",
    "    \n",
    "    # save the results to a file\n",
    "    resultsDF.to_csv(savefile, sep = '\\t')\n",
    "\n",
    "    # return the results as data frame\n",
    "    return resultsDF"
   ]
  },
  {
   "cell_type": "code",
   "execution_count": null,
   "metadata": {},
   "outputs": [],
   "source": [
    "# query the adt (admission, discharge, transfer) table for 2017 data\n",
    "\n",
    "# things to extract: \n",
    "fieldstr = str(\"jc_uid, pat_enc_csn_id_coded, effective_time_jittered_utc, event_id_coded, event_type, event_subtype\"\n",
    "\", department_id, pat_class, base_pat_class, pat_service, status_of_bed, pat_lv_of_care\" \n",
    "\", xfer_event_id_coded, swap_event_id_coded, reason_for_admit, accomodation, accom_reason_c\"\n",
    "\", adm_event_id_coded, dis_event_id_coded, xfer_in_event_id_coded, next_out_event_id_coded\"\n",
    "\", last_in_event_id_coded, prev_event_id_coded, in_event_type, out_event_type, from_base_class\"\n",
    "\", to_base_class, seq_num_in_enc, seq_num_in_bed_min, labor_status_c, first_ip_in_ip_yn\"\n",
    "\", loa_reason_c\")\n",
    "\n",
    "# build query\n",
    "query = \"select {} from `starr_datalake2018.adt` WHERE EXTRACT(YEAR from effective_time_jittered_utc) = 2017\".format(fieldstr)\n",
    "\n",
    "outfile = \"adt_selectcolumns_2017.txt\"\n",
    "\n",
    "# commenting this out after the first time because it's already saved on my computer\n",
    "# adt_df = query_data(query, outfile)\n",
    "adt_df"
   ]
  },
  {
   "cell_type": "code",
   "execution_count": null,
   "metadata": {},
   "outputs": [],
   "source": [
    "# load the adt_df file\n",
    "adt_df = pd.read_csv(\"adt_selectcolumns_2017.txt\", sep='\\t')\n",
    "adt_df"
   ]
  },
  {
   "cell_type": "code",
   "execution_count": null,
   "metadata": {},
   "outputs": [],
   "source": [
    "# add a datetime date to the dataframe\n",
    "\n",
    "# need to convert the effective_time_jittered_utc to a datetime objects since it's been stored as a string\n",
    "adt_df['effective_datetime'] = pd.to_datetime(adt_df.effective_time_jittered_utc, format=(\"%Y-%m-%d\"))\n",
    "\n",
    "# create a new column for the day extracted from effective_time_jittered_utc\n",
    "# adt_df['effective_date'] = adt_df.apply(lambda row: row['effective_datetime'].strftime(\"%Y-%m-%d\"), axis = 1)\n",
    "adt_df['effective_date'] = adt_df.apply(lambda row: row['effective_datetime'].date(), axis = 1)"
   ]
  },
  {
   "cell_type": "code",
   "execution_count": null,
   "metadata": {},
   "outputs": [],
   "source": [
    "adt_df.columns"
   ]
  },
  {
   "cell_type": "markdown",
   "metadata": {},
   "source": [
    "## Filter to Inpatient encounters\n",
    "\n",
    "Checking to see if there are any patients with multiple CSN's within an inpatient encounter."
   ]
  },
  {
   "cell_type": "code",
   "execution_count": null,
   "metadata": {},
   "outputs": [],
   "source": [
    "# filter the table down to only Inpatient pat class since this is how we build the cohort\n",
    "inpatient_adt = pd.DataFrame(adt_df[adt_df.pat_class == 'Inpatient'])\n",
    "inpatient_adt"
   ]
  },
  {
   "cell_type": "markdown",
   "metadata": {},
   "source": [
    "### Group by the effective date\n",
    "\n",
    "We'll group down to the granularity of a single day to see whether we find multiple CSNs in a single day for a patient."
   ]
  },
  {
   "cell_type": "code",
   "execution_count": null,
   "metadata": {},
   "outputs": [],
   "source": [
    "# count the number of unique CSNs that occur on one day\n",
    "# sort so we can see instances where multiple CSNs occur on the same day\n",
    "\n",
    "# group by jc_uid and effective_date\n",
    "dup_counts = inpatient_adt.groupby(['jc_uid', 'effective_date']).pat_enc_csn_id_coded.nunique().sort_values(ascending=False)\n",
    "print(\"There are\", len(dup_counts), \"patient-dates with multiple CSNs\")\n",
    "dup_counts[:20]"
   ]
  },
  {
   "cell_type": "markdown",
   "metadata": {},
   "source": [
    "## Look for instances that affect us\n",
    "\n",
    "I looked into several of these manually and they were kind of weird so I wanted to see whether any of them would even fall into our cohort. I checked entries from the list above in the original adt_data dataframe that was pulled in the beginning to see if any of them had pat_class \"Emergency Services\" to \"Inpatient\" events."
   ]
  },
  {
   "cell_type": "code",
   "execution_count": null,
   "metadata": {},
   "outputs": [],
   "source": [
    "# check to see if any of our list above might fall into our cohort queries\n",
    "i = 0\n",
    "output = []\n",
    "\n",
    "# look through the list above\n",
    "for idx in dup_counts.index:\n",
    "    # only check those that have multiple CSNs on the same day\n",
    "    if dup_counts[idx] > 1:\n",
    "        jid, date = idx\n",
    "\n",
    "        # grab this patient jc_uid and the effective_date entries\n",
    "        adt = adt_df[adt_df.jc_uid == jid]\n",
    "        adt = adt[adt.effective_date == date]\n",
    "    \n",
    "        # check if \"Emergency Services\" is contained in this dataframe\n",
    "        # if yes, then print the jc_uid and the date, \n",
    "        # stop once we find at least 10 because it take forever to check the entire list\n",
    "        adt = adt[adt.pat_class == \"Emergency Services\"]\n",
    "        if adt.shape[0] > 0:\n",
    "            print(jid, date)\n",
    "            output.append((jid, date))\n",
    "            i += 1\n",
    "    \n",
    "    if i == 10:\n",
    "        break\n"
   ]
  },
  {
   "cell_type": "markdown",
   "metadata": {},
   "source": [
    "## Manually check the jc_uid and dates \n",
    "\n",
    "Check to see what's going on with the entries found above"
   ]
  },
  {
   "cell_type": "code",
   "execution_count": null,
   "metadata": {},
   "outputs": [],
   "source": [
    "# this function grabs the rows for the input jc_uid and date + some range of following dates\n",
    "# sorts them by time and returns the dataframe\n",
    "# it's used to query those dup dates above\n",
    "def view_adt(jid, date):\n",
    "    n = 7\n",
    "    \n",
    "    # grab the jc_uid and then the date from the original adt_df data\n",
    "    dups = adt_df[adt_df.jc_uid == jid]\n",
    "    \n",
    "    # check out entries that occur within n days\n",
    "    dups = dups[dups.effective_date >= date]\n",
    "    dups = dups[dups.effective_date <= date + timedelta(hours=n*24)]\n",
    "    sorted_dups = dups.sort_values('effective_time_jittered_utc')\n",
    "    \n",
    "    sorted_dups['time_order'] = sorted_dups.reset_index().index\n",
    "    \n",
    "    return(sorted_dups)\n",
    "    "
   ]
  },
  {
   "cell_type": "markdown",
   "metadata": {},
   "source": [
    "### After looking through these examples, it seems like\n",
    "\n",
    "1) `pat_lv_of_care` labels shouldn't be affected by the change in CSN because overlapping CSNs don't seem to change that without this being reflected in the original CSN.\n",
    "\n",
    "2) The can reflect cases where the patient is already in the hospital prior to the \"Emergency Services --> Inpatient\" CSN occurs. This is a little weird and we'd miss any labs/vitals/orders associated with these earlier CSNs. \n",
    "\n",
    "3) Overlapping CSNs after the Inpatient status aren't really that important because we don't take any labs/vitals/orders after admission anyways."
   ]
  },
  {
   "cell_type": "markdown",
   "metadata": {},
   "source": [
    "## Case 1\n",
    "\n",
    "Check out the first case. We look at the full dataframe, followed by select columns afterwards."
   ]
  },
  {
   "cell_type": "code",
   "execution_count": null,
   "metadata": {
    "scrolled": true
   },
   "outputs": [],
   "source": [
    "j = 0\n",
    "jid, date = output[j]\n",
    "view_adt(jid, date)"
   ]
  },
  {
   "cell_type": "markdown",
   "metadata": {},
   "source": [
    "### Select columns are viewed here\n",
    "\n",
    "The CSN that would be pulled through Conor's query would be `131217107843` since it's the one that goes from \"Emergency Services\" followed by \"Inpatient\". "
   ]
  },
  {
   "cell_type": "code",
   "execution_count": null,
   "metadata": {},
   "outputs": [],
   "source": [
    "test = view_adt(jid, date)\n",
    "test[['jc_uid', 'pat_enc_csn_id_coded', 'effective_time_jittered_utc', 'pat_class', 'pat_lv_of_care', 'time_order']]"
   ]
  },
  {
   "cell_type": "markdown",
   "metadata": {},
   "source": [
    "## Case 2-10 follows\n",
    "\n",
    "Check out the next case. We look at the full dataframe, followed by select columns afterwards."
   ]
  },
  {
   "cell_type": "code",
   "execution_count": null,
   "metadata": {
    "scrolled": true
   },
   "outputs": [],
   "source": [
    "j = 1\n",
    "jid, date = output[j]\n",
    "view_adt(jid, date)"
   ]
  },
  {
   "cell_type": "code",
   "execution_count": null,
   "metadata": {},
   "outputs": [],
   "source": [
    "test = view_adt(jid, date)\n",
    "test[['jc_uid', 'pat_enc_csn_id_coded', 'effective_time_jittered_utc', 'pat_class', 'pat_lv_of_care']]"
   ]
  },
  {
   "cell_type": "code",
   "execution_count": null,
   "metadata": {
    "scrolled": true
   },
   "outputs": [],
   "source": [
    "j = 2\n",
    "jid, date = output[j]\n",
    "view_adt(jid, date)"
   ]
  },
  {
   "cell_type": "code",
   "execution_count": null,
   "metadata": {},
   "outputs": [],
   "source": [
    "test = view_adt(jid, date)\n",
    "test[['jc_uid', 'pat_enc_csn_id_coded', 'effective_time_jittered_utc', 'pat_class', 'pat_lv_of_care']]"
   ]
  },
  {
   "cell_type": "code",
   "execution_count": null,
   "metadata": {
    "scrolled": true
   },
   "outputs": [],
   "source": [
    "j = 3\n",
    "jid, date = output[j]\n",
    "view_adt(jid, date)"
   ]
  },
  {
   "cell_type": "code",
   "execution_count": null,
   "metadata": {},
   "outputs": [],
   "source": [
    "test = view_adt(jid, date)\n",
    "test[['jc_uid', 'pat_enc_csn_id_coded', 'effective_time_jittered_utc', 'pat_class', 'pat_lv_of_care']]"
   ]
  },
  {
   "cell_type": "code",
   "execution_count": null,
   "metadata": {
    "scrolled": true
   },
   "outputs": [],
   "source": [
    "j = 4\n",
    "jid, date = output[j]\n",
    "view_adt(jid, date)"
   ]
  },
  {
   "cell_type": "code",
   "execution_count": null,
   "metadata": {},
   "outputs": [],
   "source": [
    "test = view_adt(jid, date)\n",
    "test[['jc_uid', 'pat_enc_csn_id_coded', 'effective_time_jittered_utc', 'pat_class', 'pat_lv_of_care']]"
   ]
  },
  {
   "cell_type": "code",
   "execution_count": null,
   "metadata": {
    "scrolled": true
   },
   "outputs": [],
   "source": [
    "j = 5\n",
    "jid, date = output[j]\n",
    "view_adt(jid, date)"
   ]
  },
  {
   "cell_type": "code",
   "execution_count": null,
   "metadata": {},
   "outputs": [],
   "source": [
    "test = view_adt(jid, date)\n",
    "test[['jc_uid', 'pat_enc_csn_id_coded', 'effective_time_jittered_utc', 'pat_class', 'pat_lv_of_care']]"
   ]
  },
  {
   "cell_type": "code",
   "execution_count": null,
   "metadata": {
    "scrolled": true
   },
   "outputs": [],
   "source": [
    "j = 6\n",
    "jid, date = output[j]\n",
    "view_adt(jid, date)"
   ]
  },
  {
   "cell_type": "code",
   "execution_count": null,
   "metadata": {},
   "outputs": [],
   "source": [
    "test = view_adt(jid, date)\n",
    "test[['jc_uid', 'pat_enc_csn_id_coded', 'effective_time_jittered_utc', 'pat_class', 'pat_lv_of_care']]"
   ]
  },
  {
   "cell_type": "code",
   "execution_count": null,
   "metadata": {
    "scrolled": true
   },
   "outputs": [],
   "source": [
    "j = 7\n",
    "jid, date = output[j]\n",
    "view_adt(jid, date)"
   ]
  },
  {
   "cell_type": "code",
   "execution_count": null,
   "metadata": {},
   "outputs": [],
   "source": [
    "j = 8\n",
    "jid, date = output[j]\n",
    "view_adt(jid, date)"
   ]
  },
  {
   "cell_type": "code",
   "execution_count": null,
   "metadata": {
    "scrolled": true
   },
   "outputs": [],
   "source": [
    "j = 9\n",
    "jid, date = output[j]\n",
    "view_adt(jid, date)"
   ]
  },
  {
   "cell_type": "markdown",
   "metadata": {},
   "source": [
    "## Check the admit time for weird patients\n",
    "\n",
    "### Order admission time < ADT admission time\n",
    "\n",
    "This looks like the patient goes into surgery and it's already known that the patient will need to be admitted afterwards. \n",
    "\n",
    "**Decision: Use the Order admission time because it is the earliest time when the doctors already knew the patient would be admitted.**"
   ]
  },
  {
   "cell_type": "code",
   "execution_count": null,
   "metadata": {},
   "outputs": [],
   "source": [
    "fields = ['jc_uid', 'pat_enc_csn_id_coded', 'effective_time_jittered_utc', '' 'event_type', 'pat_class', 'pat_lv_of_care']\n",
    "\n",
    "adt_df[adt_df.jc_uid == 'JCcb68fc'].sort_values('effective_time_jittered_utc')[fields]"
   ]
  },
  {
   "cell_type": "markdown",
   "metadata": {},
   "source": [
    "### More extreme case\n",
    "\n",
    "The order was placed two days before the patient reached the Inpatient status.\n",
    "\n",
    "**Decision: ALWAYS take the earliest time**"
   ]
  },
  {
   "cell_type": "code",
   "execution_count": null,
   "metadata": {},
   "outputs": [],
   "source": [
    "jid = 'JCd282bf'\n",
    "adt_df[adt_df.jc_uid == jid].sort_values('effective_time_jittered_utc')[fields]"
   ]
  },
  {
   "cell_type": "markdown",
   "metadata": {},
   "source": [
    "## Check the admit time for weird patients\n",
    "\n",
    "### Order admission time > ADT admission time\n",
    "\n",
    "Looks like the order just went in late. The patient was clearly an inpatient.\n",
    "\n",
    "**Decision: Always take the earliest time, i.e. take the ADT admission time in this case**"
   ]
  },
  {
   "cell_type": "code",
   "execution_count": null,
   "metadata": {
    "scrolled": true
   },
   "outputs": [],
   "source": [
    "jid = 'JCcbc391'\n",
    "adt_df[adt_df.jc_uid == jid].sort_values('effective_time_jittered_utc')[fields]"
   ]
  }
 ],
 "metadata": {
  "kernelspec": {
   "display_name": "Python 3",
   "language": "python",
   "name": "python3"
  },
  "language_info": {
   "codemirror_mode": {
    "name": "ipython",
    "version": 3
   },
   "file_extension": ".py",
   "mimetype": "text/x-python",
   "name": "python",
   "nbconvert_exporter": "python",
   "pygments_lexer": "ipython3",
   "version": "3.8.5"
  }
 },
 "nbformat": 4,
 "nbformat_minor": 4
}

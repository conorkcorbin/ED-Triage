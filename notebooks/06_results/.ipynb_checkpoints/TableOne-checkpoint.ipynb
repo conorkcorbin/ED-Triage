{
 "cells": [
  {
   "cell_type": "code",
   "execution_count": 40,
   "metadata": {},
   "outputs": [],
   "source": [
    "df = read.csv(file = 'full_df_wide_numeric.csv', header=TRUE)"
   ]
  },
  {
   "cell_type": "code",
   "execution_count": 1,
   "metadata": {},
   "outputs": [],
   "source": [
    "# head(df)"
   ]
  },
  {
   "cell_type": "code",
   "execution_count": 42,
   "metadata": {},
   "outputs": [
    {
     "data": {
      "text/html": [
       "<style>\n",
       ".list-inline {list-style: none; margin:0; padding: 0}\n",
       ".list-inline>li {display: inline-block}\n",
       ".list-inline>li:not(:last-child)::after {content: \"\\00b7\"; padding: 0 .5ex}\n",
       "</style>\n",
       "<ol class=list-inline><li>21317</li><li>40</li></ol>\n"
      ],
      "text/latex": [
       "\\begin{enumerate*}\n",
       "\\item 21317\n",
       "\\item 40\n",
       "\\end{enumerate*}\n"
      ],
      "text/markdown": [
       "1. 21317\n",
       "2. 40\n",
       "\n",
       "\n"
      ],
      "text/plain": [
       "[1] 21317    40"
      ]
     },
     "metadata": {},
     "output_type": "display_data"
    }
   ],
   "source": [
    "dim(df)"
   ]
  },
  {
   "cell_type": "code",
   "execution_count": 43,
   "metadata": {},
   "outputs": [
    {
     "name": "stdout",
     "output_type": "stream",
     "text": [
      "\n",
      "The downloaded binary packages are in\n",
      "\t/var/folders/8c/wsg_lv0n6bv2zm3k7zd1sxd00000gp/T//RtmpLrKEpU/downloaded_packages\n"
     ]
    }
   ],
   "source": [
    "# install.packages(\"knitr\")\n",
    "library(tableone)\n",
    "library(knitr)"
   ]
  },
  {
   "cell_type": "code",
   "execution_count": 44,
   "metadata": {},
   "outputs": [],
   "source": [
    "categorical = c('Engl','delta_H','delta_W',\n",
    "                'gender1.Female','gender1.Male',\n",
    "                'medis1','race1.Asian','race1.Black',\n",
    "                'race1.Native.American','race1.Other',\n",
    "                'race1.Pacific.Islander','race1.Unknown',\n",
    "                'race1.White','label')\n",
    "drops = c(\"pat_enc_csn_id_coded\")\n",
    "df = df[ , !(names(df) %in% drops)]"
   ]
  },
  {
   "cell_type": "code",
   "execution_count": 47,
   "metadata": {},
   "outputs": [],
   "source": [
    "mytable = CreateTableOne(strata=\"label\", data=df, factorVars=categorical, \n",
    "                         includeNA=FALSE, test=FALSE)    "
   ]
  },
  {
   "cell_type": "code",
   "execution_count": 48,
   "metadata": {},
   "outputs": [
    {
     "data": {
      "text/plain": [
       "\n",
       "\\begin{tabular}{l|l|l}\n",
       "\\hline\n",
       "  & 0 & 1\\\\\n",
       "\\hline\n",
       "n & 18554 & 2763\\\\\n",
       "\\hline\n",
       "Hemoglobin (mean (SD)) & 12.43 (2.30) & 12.73 (2.35)\\\\\n",
       "\\hline\n",
       "ALT..SGPT...Ser.Plas (mean (SD)) & 37.18 (27.31) & 39.56 (27.66)\\\\\n",
       "\\hline\n",
       "Glucose.by.Meter (mean (SD)) & 178.83 (96.53) & 187.57 (103.08)\\\\\n",
       "\\hline\n",
       "Sodium..Ser.Plas (mean (SD)) & 136.09 (4.32) & 135.88 (5.11)\\\\\n",
       "\\hline\n",
       "Potassium..Ser.Plas (mean (SD)) & 3.99 (0.55) & 4.06 (0.64)\\\\\n",
       "\\hline\n",
       "Total.Bilirubin..Ser.Plas (mean (SD)) & 0.66 (0.51) & 0.70 (0.51)\\\\\n",
       "\\hline\n",
       "WBC (mean (SD)) & 9.69 (4.63) & 10.84 (5.17)\\\\\n",
       "\\hline\n",
       "Creatinine..Ser.Plas (mean (SD)) & 1.09 (0.59) & 1.20 (0.68)\\\\\n",
       "\\hline\n",
       "Anion.Gap (mean (SD)) & 8.78 (3.17) & 9.58 (4.07)\\\\\n",
       "\\hline\n",
       "CO2..Ser.Plas (mean (SD)) & 26.27 (3.53) & 25.64 (4.41)\\\\\n",
       "\\hline\n",
       "AST..SGOT...Ser.Plas (mean (SD)) & 34.48 (26.60) & 39.42 (28.54)\\\\\n",
       "\\hline\n",
       "Magnesium..Ser.Plas (mean (SD)) & 1.95 (0.33) & 1.98 (0.39)\\\\\n",
       "\\hline\n",
       "Neutrophil..Absolute (mean (SD)) & 7.31 (4.16) & 8.14 (4.56)\\\\\n",
       "\\hline\n",
       "Albumin..Ser.Plas (mean (SD)) & 3.40 (0.66) & 3.34 (0.67)\\\\\n",
       "\\hline\n",
       "BUN..Ser.Plas (mean (SD)) & 19.43 (12.28) & 22.80 (13.93)\\\\\n",
       "\\hline\n",
       "Platelet.count (mean (SD)) & 246.11 (106.80) & 230.48 (92.75)\\\\\n",
       "\\hline\n",
       "Weight1 (mean (SD)) & 76.44 (23.01) & 76.99 (22.79)\\\\\n",
       "\\hline\n",
       "Pulse (mean (SD)) & 88.65 (18.66) & 91.71 (23.39)\\\\\n",
       "\\hline\n",
       "race1.White = 1 (\\%) & 9592 (51.7) & 1433 ( 51.9)\\\\\n",
       "\\hline\n",
       "gender1.Female = 1 (\\%) & 9168 (49.4) & 1139 ( 41.2)\\\\\n",
       "\\hline\n",
       "Temp (mean (SD)) & 36.93 (0.58) & 36.83 (0.72)\\\\\n",
       "\\hline\n",
       "medis1 = 1 (\\%) & 9145 (49.3) & 1338 ( 48.4)\\\\\n",
       "\\hline\n",
       "RR (mean (SD)) & 18.57 (2.85) & 20.43 (5.21)\\\\\n",
       "\\hline\n",
       "SBP (mean (SD)) & 131.08 (21.19) & 132.48 (28.38)\\\\\n",
       "\\hline\n",
       "label = 1 (\\%) & 0 ( 0.0) & 2763 (100.0)\\\\\n",
       "\\hline\n",
       "race1.Unknown = 1 (\\%) & 161 ( 0.9) & 85 (  3.1)\\\\\n",
       "\\hline\n",
       "SpO2 (mean (SD)) & 97.25 (2.18) & 96.61 (3.29)\\\\\n",
       "\\hline\n",
       "DBP (mean (SD)) & 76.72 (13.53) & 78.69 (17.50)\\\\\n",
       "\\hline\n",
       "race1.Asian = 1 (\\%) & 2693 (14.5) & 425 ( 15.4)\\\\\n",
       "\\hline\n",
       "age1 (mean (SD)) & 56.83 (18.96) & 60.52 (18.21)\\\\\n",
       "\\hline\n",
       "race1.Black = 1 (\\%) & 1364 ( 7.4) & 184 (  6.7)\\\\\n",
       "\\hline\n",
       "race1.Pacific.Islander = 1 (\\%) & 343 ( 1.8) & 71 (  2.6)\\\\\n",
       "\\hline\n",
       "race1.Other = 1 (\\%) & 4300 (23.2) & 554 ( 20.1)\\\\\n",
       "\\hline\n",
       "delta\\_W = 1 (\\%) & 180 ( 1.0) & 23 (  0.8)\\\\\n",
       "\\hline\n",
       "Height1 (mean (SD)) & 167.66 (11.00) & 168.48 (11.12)\\\\\n",
       "\\hline\n",
       "race1.Native.American = 1 (\\%) & 101 ( 0.5) & 11 (  0.4)\\\\\n",
       "\\hline\n",
       "delta\\_H = 1 (\\%) & 665 ( 3.6) & 156 (  5.6)\\\\\n",
       "\\hline\n",
       "Engl = 1 (\\%) & 15730 (84.8) & 2323 ( 84.1)\\\\\n",
       "\\hline\n",
       "gender1.Male = 1 (\\%) & 9386 (50.6) & 1624 ( 58.8)\\\\\n",
       "\\hline\n",
       "\\end{tabular}"
      ]
     },
     "metadata": {},
     "output_type": "display_data"
    }
   ],
   "source": [
    "p = print(mytable, printToggle=FALSE, noSpaces=FALSE)\n",
    "kable(p, format=\"latex\")"
   ]
  },
  {
   "cell_type": "code",
   "execution_count": null,
   "metadata": {},
   "outputs": [],
   "source": []
  }
 ],
 "metadata": {
  "kernelspec": {
   "display_name": "R",
   "language": "R",
   "name": "ir"
  },
  "language_info": {
   "codemirror_mode": "r",
   "file_extension": ".r",
   "mimetype": "text/x-r-source",
   "name": "R",
   "pygments_lexer": "r",
   "version": "4.0.3"
  }
 },
 "nbformat": 4,
 "nbformat_minor": 4
}

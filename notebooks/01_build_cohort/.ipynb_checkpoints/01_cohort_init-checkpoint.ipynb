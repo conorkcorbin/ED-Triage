{
 "cells": [
  {
   "cell_type": "code",
   "execution_count": null,
   "metadata": {},
   "outputs": [],
   "source": [
    "import pandas as pd\n",
    "import matplotlib.pyplot as plt\n",
    "import numpy as np\n",
    "import os \n",
    "\n",
    "### THIS IS MEANT TO RUN ON NERO - NEEDS TO BE CHANGED IF YOU RUN LOCALLY\n",
    "os.environ['GOOGLE_APPLICATION_CREDENTIALS'] = '/home/ccorbin/.config/gcloud/application_default_credentials.json' \n",
    "os.environ['GCLOUD_PROJECT'] = 'mining-clinical-decisions' \n",
    "%load_ext google.cloud.bigquery\n",
    "\n",
    "from google.cloud import bigquery\n",
    "client=bigquery.Client()"
   ]
  },
  {
   "cell_type": "markdown",
   "metadata": {},
   "source": [
    "# Check Me\n",
    "### Query ADT and return rows where patient encounter id is associated with an ED visit\n",
    "* Get ER stays that BEGIN between 2015 and 2019. Some of our index times will be in 2020 because the ER visit will start on 12-31-2019 and ADT has 2020 data. \n",
    "* Assumes patient encounters associated with an ED visit START with an ED visit which is probably always true? But might want to check this. \n",
    "* Assumes we can trust pat_enc_csn_id_coded as a patient encounter - which we can't always.  Encounters are weird, and sometimes multiple pat_enc_csn_id_coded's will overlap in time for a particular patient (Stephen knows more about this). UPDATE - ER encounters should have unique csns. "
   ]
  },
  {
   "cell_type": "code",
   "execution_count": null,
   "metadata": {},
   "outputs": [],
   "source": [
    "query = \"\"\"\n",
    "\n",
    "WITH er_admit_times AS (\n",
    "SELECT pat_enc_csn_id_coded, MIN(EXTRACT(YEAR FROM event_time_jittered_utc)) admit_year\n",
    "FROM shc_core.adt\n",
    "WHERE pat_class_c=\"112\"\n",
    "AND pat_service = \"Emergency\"\n",
    "GROUP BY pat_enc_csn_id_coded\n",
    ")\n",
    "\n",
    "SELECT er.anon_id, er.pat_enc_csn_id_coded, er.effective_time_jittered_utc, er.event_time_jittered_utc, er.pat_lv_of_care, er.base_pat_class_c, er.pat_class, er.event_type\n",
    "FROM shc_core.adt as er\n",
    "INNER JOIN er_admit_times\n",
    "USING (pat_enc_csn_id_coded)\n",
    "WHERE er_admit_times.admit_year BETWEEN 2015 AND 2019\n",
    "ORDER BY anon_id, event_time_jittered_utc\n",
    "\"\"\"\n",
    "query_job =client.query(query)\n",
    "df=query_job.to_dataframe()"
   ]
  },
  {
   "cell_type": "code",
   "execution_count": null,
   "metadata": {},
   "outputs": [],
   "source": [
    "df.head()"
   ]
  },
  {
   "cell_type": "markdown",
   "metadata": {},
   "source": [
    "### Get counts on unique patient trajectories (ie where they were sent throughout their stay - this is at the granularity of inpatient vs observation vs discharged straight from ER - not the unit they are sent to).\n",
    "Trajectories of patient encounter ids.\n",
    "* Most get discharged directly from ER.\n",
    "* Next most common is ER -> inpatient (which is what we're focusing on). \n",
    "* Next is ER to observation\n",
    "* Next is ER to observation to inpatient etc. \n"
   ]
  },
  {
   "cell_type": "code",
   "execution_count": null,
   "metadata": {},
   "outputs": [],
   "source": [
    "# Filter for rows where pat_class changes\n",
    "df_change = df[~df['base_pat_class_c'].isna()]\n",
    "\n",
    "# Collapse pat class on patient encounter id, create trajectories, group by trajectories, count patient encounters with those trajectories. \n",
    "df_change[['pat_enc_csn_id_coded', 'pat_class']].groupby('pat_enc_csn_id_coded').agg(\n",
    "{'pat_class' : lambda x: ' -> '.join([c for c in x])}).reset_index().groupby('pat_class').agg(\n",
    "{'pat_enc_csn_id_coded' : 'count'}).reset_index().sort_values('pat_enc_csn_id_coded', ascending=False)"
   ]
  },
  {
   "cell_type": "markdown",
   "metadata": {},
   "source": [
    "### Patient Level of Care Column is the indicator we want - but it seems to be missing a lot (update: its just not always on the same row as the change in pat code status ie inpatient vs observation vs emergency services)\n",
    "#### Lets filter for patients with an inpatient code immediately after emergency services and create trajectories"
   ]
  },
  {
   "cell_type": "code",
   "execution_count": null,
   "metadata": {},
   "outputs": [],
   "source": [
    "import datetime\n",
    "def has_inpatient_code(arr):\n",
    "    for a in arr:\n",
    "        if a == 'Inpatient':\n",
    "            return True\n",
    "    return False\n",
    "\n",
    "def has_inpatient_code_after_er(arr):\n",
    "    \"\"\"Assumes arr is ordered by time\"\"\"\n",
    "    has_er = False\n",
    "    for a in arr:\n",
    "        if a == 'Emergency Services':\n",
    "            has_er = True\n",
    "        elif a == 'Inpatient' and has_er == True:\n",
    "            return True\n",
    "        else:\n",
    "            has_er = False\n",
    "        \n",
    "    return False\n",
    "\n",
    "def get_trajectory(arr):\n",
    "    # Creates trajectory but only adds to path when level of care changes\n",
    "    traj = []\n",
    "    for i, a in enumerate(arr):\n",
    "        if len(traj) == 0:\n",
    "            traj.append(a)\n",
    "        elif a != traj[-1]:\n",
    "            traj.append(a)\n",
    "    return ' -> '.join(traj)\n",
    "\n",
    "# Get a set of patient_encounter_ids that have an inpatient code\n",
    "df_temp = df_change[['pat_enc_csn_id_coded', 'pat_class']].groupby('pat_enc_csn_id_coded').agg(\n",
    "{'pat_class' : has_inpatient_code_after_er}).reset_index()\n",
    "inpatient_ids = set(df_temp[df_temp['pat_class'] == True]['pat_enc_csn_id_coded'].values)\n",
    "\n",
    "# Filter original df for patients in this set and create level of care trajectories.\n",
    "df_lofc = df[df['pat_enc_csn_id_coded'].isin(inpatient_ids)]\n",
    "\n",
    "# Get df of csn_ids and admit timestamps\n",
    "df_admit_times = df_change[df_change['pat_enc_csn_id_coded'].isin(inpatient_ids)]\n",
    "df_admit_times = df_admit_times[df_admit_times['pat_class'] == 'Inpatient'].groupby(\n",
    "    'pat_enc_csn_id_coded').first().reset_index()[['pat_enc_csn_id_coded', 'effective_time_jittered_utc']].rename(\n",
    "    columns={'effective_time_jittered_utc' : 'admit_time_jittered'})\n",
    "df_admit_times.head()\n",
    "\n",
    "# Should now be querying adt again for jc_uids that match each er CSN id and then look ahead 24 hours to mitigate overlapping csn issue\n",
    "\n",
    "# Merge to df_lofc and create column called time_since_admit\n",
    "df_lofc = pd.merge(df_lofc, df_admit_times, how='left', on='pat_enc_csn_id_coded')\n",
    "df_lofc['time_since_admit'] = df_lofc.apply(lambda x: x.effective_time_jittered_utc - x.admit_time_jittered, axis=1)\n",
    "\n",
    "# Filter df_lofc so that we only look 24 hours into admission\n",
    "df_lofc = df_lofc[df_lofc['time_since_admit'] < datetime.timedelta(hours=24)]\n"
   ]
  },
  {
   "cell_type": "markdown",
   "metadata": {},
   "source": [
    "### Print the trajectories 24 hours into admission"
   ]
  },
  {
   "cell_type": "code",
   "execution_count": null,
   "metadata": {},
   "outputs": [],
   "source": [
    "# Merge this to df_lofc and \n",
    "df_traj = df_lofc[['pat_enc_csn_id_coded', 'pat_lv_of_care']].dropna().groupby(\n",
    "'pat_enc_csn_id_coded').agg({'pat_lv_of_care' : get_trajectory}).reset_index().groupby(\n",
    "'pat_lv_of_care').count().reset_index().sort_values('pat_enc_csn_id_coded', ascending=False)\n",
    "\n",
    "# Print cause these trajectories are long\n",
    "for i in range(len(df_traj)):\n",
    "    print(df_traj['pat_lv_of_care'].values[i], ' : ', df_traj['pat_enc_csn_id_coded'].values[i])\n",
    "\n",
    "# Count number of encounters with a trajectory. \n",
    "print('Number of encounters with a trajectory : ', df_traj['pat_enc_csn_id_coded'].sum())\n",
    "print('Total Number of inpatient encounters : ', len(inpatient_ids))"
   ]
  },
  {
   "cell_type": "markdown",
   "metadata": {},
   "source": [
    "### Create Labelling function \n",
    "For each csn id, we'll create positive or negative labels based on whether within 24 hours of admit they have a critical care label in pat_lv_of_care.  This means that if they are originally place in critical care but then sent to acute care we'll still label them as crit care.  Label is thus the max level of care within 24 ours of admit\n",
    "\n",
    "Output dataframe should have jc_uid, csn_id, admit_time, label\n",
    "\n",
    "NOTE : this isn't completley correct because i've grouped on pat_enc_csn_id_coded.  I really should be taking the jc_uid from each er csn id and looking ahead 24 hours in the adt table to see if there exist other csn id's associated with the encounter where the level of care changes... \n"
   ]
  },
  {
   "cell_type": "code",
   "execution_count": null,
   "metadata": {},
   "outputs": [],
   "source": [
    "def was_placed_in_critical_care(arr):\n",
    "    \"\"\"Returns true if patient placed in crtical care within 24 hours of admit\n",
    "       Assumes we have already done the 24 hours logic\n",
    "       Assumes no overlapping csn ids... \"\"\"\n",
    "    for a in arr:\n",
    "        if a == 'Critical Care':\n",
    "            return 1\n",
    "    return 0\n",
    "\n",
    "df_labels = df_lofc.groupby('pat_enc_csn_id_coded').agg({\n",
    "    'anon_id' : 'first',\n",
    "    'admit_time_jittered' : 'first',\n",
    "    'pat_lv_of_care' : was_placed_in_critical_care}).rename(\n",
    "    columns={\"pat_lv_of_care\" : 'label'}).reset_index()[['anon_id', 'pat_enc_csn_id_coded', 'admit_time_jittered', 'label']]\n",
    "df_labels.head()"
   ]
  },
  {
   "cell_type": "code",
   "execution_count": null,
   "metadata": {},
   "outputs": [],
   "source": [
    "df_labels.groupby('label').count()"
   ]
  },
  {
   "cell_type": "code",
   "execution_count": null,
   "metadata": {},
   "outputs": [],
   "source": [
    "### Save to CSV - I'll upload to bq locally\n",
    "df_labels.to_csv('cohort.csv', index=None)"
   ]
  },
  {
   "cell_type": "markdown",
   "metadata": {},
   "source": [
    "### Save to big query"
   ]
  },
  {
   "cell_type": "code",
   "execution_count": null,
   "metadata": {},
   "outputs": [],
   "source": [
    "table_schema = [{'name' : 'anon_id', 'type' : 'STRING'},\n",
    "                {'name' : 'pat_enc_csn_id_coded', 'type' : 'INTEGER'},\n",
    "                {'name' : 'admit_time_jittered', 'type' : 'TIMESTAMP'},\n",
    "                {'name' : 'label', 'type' : 'INTEGER'}],\n",
    "                       \n",
    "DATASET_NAME = 'conor_db'\n",
    "TABLE_NAME = 'triage_cohort_draft_2019'\n",
    "df_labels.to_gbq(destination_table='conor_db.%s' % TABLE_NAME,\n",
    "                 project_id='mining-clinical-decisions',\n",
    "                 table_schema=table_schema,\n",
    "                 if_exists='replace')"
   ]
  }
 ],
 "metadata": {
  "kernelspec": {
   "display_name": "Python 3",
   "language": "python",
   "name": "python3"
  },
  "language_info": {
   "codemirror_mode": {
    "name": "ipython",
    "version": 3
   },
   "file_extension": ".py",
   "mimetype": "text/x-python",
   "name": "python",
   "nbconvert_exporter": "python",
   "pygments_lexer": "ipython3",
   "version": "3.6.6"
  }
 },
 "nbformat": 4,
 "nbformat_minor": 2
}

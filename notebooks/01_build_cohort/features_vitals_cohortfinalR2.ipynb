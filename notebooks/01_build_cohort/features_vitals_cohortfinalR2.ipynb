{
 "cells": [
  {
   "cell_type": "markdown",
   "metadata": {},
   "source": [
    "### Description:\n",
    "* Clean variables from flowsheet, finalized with vital signs and GCS scores only\n",
    "* Keep SBP/DBP (BP num_value1 and num_value2), RR, Heart Rate, SpO2, Temp (2 units, num_value1 and num_value2), and GCS (check details). The rest has NA info\n",
    "\n",
    "Inputs:\n",
    "* flowsheet.csv (SQL), cohort.csv (1st pass of processed cohort from R1 notebook)\n",
    "* cohort_labels (from Tiffany's) to get the final cohort with at least 1 complete set of VS\n",
    "* cohort_demo_final to combine with summary stats for the simple data set\n",
    "\n",
    "Output files: \n",
    "\n",
    "* **vitals_clean.csv** --> cleaned vs for joining later\n",
    "* **vs1st_complete** -- for ESI imputation, cohort with at least a complete set of first VS\n",
    "* **cohort_final** - patients who have a complete set of vital sign values (and with availabe labels from Tiffany's cohort)\n",
    "* **data_simple** - simple set of data with summary statistics of vs and demographic"
   ]
  },
  {
   "cell_type": "markdown",
   "metadata": {},
   "source": [
    "### Importing R libraries"
   ]
  },
  {
   "cell_type": "code",
   "execution_count": null,
   "metadata": {
    "ExecuteTime": {
     "end_time": "2020-05-21T00:38:06.078240Z",
     "start_time": "2020-05-21T00:38:02.778Z"
    }
   },
   "outputs": [],
   "source": [
    "library(caret) # import this before glmnet to avoid rlang version problem\n",
    "library(xgboost)\n",
    "library(data.table)\n",
    "library(tidyverse)\n",
    "library(lubridate)\n",
    "library(Matrix)\n",
    "# library(slam)\n",
    "library(glmnet)\n",
    "library(bit64)\n",
    "# library(mtools) for one hot coder, not available on Nero or use caret or tidyr\n",
    "library(mice)\n",
    "options(repr.matrix.max.rows=100, repr.matrix.max.cols=20)"
   ]
  },
  {
   "cell_type": "markdown",
   "metadata": {},
   "source": [
    "### Check other flowsheet variables, mainly vital signs:\n",
    "   * Combine/collapse similar names into standard names for the below features\n",
    "   * Look at how common these are, look at the distributions, check extreme values on either sides\n",
    "   * Investigate some of these to see how far they are off from normal range to be considered errorneous.\n",
    "   * Note: num_value1 vs. num_value2, see details below\n",
    "   * Replace erroneous values as \"NA\".\n",
    "   \n",
    "1. Blood pressure: \n",
    "* DBP: num_value2 --> return NA if SBP > 10*DBP (12000 value in datalake2018 not here)\n",
    "* There's no DBP without an SBP\n",
    "* Return NA for BP if both DBP and SBP are 0\n",
    "* SBP: return NA if < 30 or 33, same effect\n",
    "\n",
    "2. Pulse: return NA if < 21\n",
    "\n",
    "3. Temp: exist in both num_value1 and num_value2\n",
    "* num_value2 is not NA only when there's num_value1. if num_value1 is NA then num_value2 is also NA\n",
    "* For num_value1 <= 60, take it as Celcius degree\n",
    "* For num_value1 > 60, convert this temp in F to C\n",
    "* Return NA for num_value1 < 20 --> only 2: 0.1 and 9.4 (lowest 26C)\n",
    "\n",
    "4. RR: return NA for < 4 or > 60\n",
    "\n",
    "5. SpO2: return NA for < 40%\n",
    "\n",
    "6. GCS: points are different from scores, only use scores\n",
    "* num_value2 are the normal GCS score, num_value1 can be just points on 0-4 scale"
   ]
  },
  {
   "cell_type": "code",
   "execution_count": null,
   "metadata": {},
   "outputs": [],
   "source": [
    "vitals0 <- read.csv(\"./Data/flowsheet.csv\")\n",
    "cohort <- read.csv(\"./Data/cohort.csv\")\n",
    "nrow(vitals0)\n",
    "nrow(cohort) # 43493"
   ]
  },
  {
   "cell_type": "code",
   "execution_count": null,
   "metadata": {},
   "outputs": [],
   "source": [
    "head(cohort, n=1)\n",
    "head(vitals0, n=1)"
   ]
  },
  {
   "cell_type": "code",
   "execution_count": null,
   "metadata": {},
   "outputs": [],
   "source": [
    "vitals0 %>% group_by(units) %>% count()"
   ]
  },
  {
   "cell_type": "code",
   "execution_count": null,
   "metadata": {},
   "outputs": [],
   "source": [
    "# combine cohort with vitals sign, calculate difftime\n",
    "vitals0 <- vitals0 %>% \n",
    "                select(-c(admit_time, label_max24, template, units)) %>%\n",
    "                rename(recorded_time = recorded_time_utc)\n",
    "\n",
    "vitals0 <- left_join(cohort, vitals0) %>% \n",
    "            mutate(timediff = as.numeric(difftime(admit_time, recorded_time, units = \"mins\"))) %>%\n",
    "            distinct()\n",
    "#             filter(ymd_hms(recorded_time) < ymd_hms(admit_time)) %>% # no need this one, SQL took care of this\n",
    "\n",
    "nrow(vitals0) # 1024402 for non-distinct vs 1019404 for distinct\n",
    "summary(vitals0$timediff) # all positive --> recorded time is before admit time"
   ]
  },
  {
   "cell_type": "code",
   "execution_count": null,
   "metadata": {},
   "outputs": [],
   "source": [
    "head(vitals0, n=1)"
   ]
  },
  {
   "cell_type": "code",
   "execution_count": null,
   "metadata": {},
   "outputs": [],
   "source": [
    "# check summary to see num_value1 vs num_value\n",
    "display_summary_num1and2 <- function(df, var1, var2){\n",
    "    suppressWarnings(\n",
    "        df %>% summarise(n=n(), \n",
    "                        mean1 = mean({{var1}}, na.rm=T), mean2 = mean({{var2}}, na.rm=T),\n",
    "                        median1 = median({{var1}}, na.rm=T), median2 = median({{var2}}, na.rm=T),\n",
    "                        min1 = min({{var1}}, na.rm=T), min2 = min({{var2}}, na.rm=T), \n",
    "                        max1 = max({{var1}}, na.rm=T), max2 = max({{var2}}, na.rm=T)) %>%\n",
    "                arrange(desc(n))\n",
    "    )\n",
    "}"
   ]
  },
  {
   "cell_type": "code",
   "execution_count": null,
   "metadata": {},
   "outputs": [],
   "source": [
    "# check the original vitals data,\n",
    "# some variables have no values, temp and gcs scores have 2 different units/scales, BP has SBP and DBP\n",
    "vitals0 %>% group_by(row_disp_name) %>% display_summary_num1and2(num_value1, num_value2)# %>% arrange(desc(n))"
   ]
  },
  {
   "cell_type": "raw",
   "metadata": {},
   "source": [
    "# replace GCS Score in num_value1 by num_value2. Do it here because there's an overlap (value of 3, 4 for GCS score vs point)\n",
    "# Temp doesn't need to be processed here because there is no overlap for C and F degrees\n",
    "\n",
    "# vitals0 <- vitals0 %>% mutate(num_value1 = ifelse(row_disp_name == \"GCS Score\", num_value2, num_value1))\n",
    "# summary(vitals0 %>% filter(row_disp_name == \"Glasgow Coma Scale Score\") %>% select(num_value1, num_value2))"
   ]
  },
  {
   "cell_type": "code",
   "execution_count": null,
   "metadata": {},
   "outputs": [],
   "source": [
    "# rename the variables, combine similar ones\n",
    "# only 1 name: SpO2 and BP\n",
    "GCS = c(\"Glasgow\", \"GCS Score\") # 40654 + 44 = 40698 # not using GCS points, different scale\n",
    "Pulse = c(\"Pulse\", \"Heart Rate\") \n",
    "RR = c(\"Resp\", \"Resp Rate\") # not using Respiratory Rate, different scale\n",
    "\n",
    "# will name BP as SBP and take num_value1 only, DBP will be processed separately\n",
    "# distinct will reduce many rows, that have values with same recorded time\n",
    "vitals <- vitals0 %>% rename(features = row_disp_name) %>% \n",
    "                mutate(features = ifelse(str_detect(features, paste(GCS, collapse=\"|\")), \"GCS\",\n",
    "                                    ifelse(features == \"BP\", \"SBP\",\n",
    "                                    ifelse(features %in% Pulse, \"Pulse\", \n",
    "                                    ifelse(features == \"SpO2\", \"SpO2\",\n",
    "                                    ifelse(str_detect(features, \"Temp\"), \"Temp\", \n",
    "                                    ifelse(features %in% RR, \"RR\", as.character(features)))))))) %>% # last ... in ifelse(cond, iftrue, ...)\n",
    "                distinct()\n",
    "nrow(vitals)       \n",
    "unique(vitals$features)\n",
    "fs_feats <- c(\"Pulse\", \"SpO2\", \"RR\", \"SBP\", \"Temp\", \"GCS\")\n",
    "vitals %>% filter(features %in% fs_feats) %>% group_by(features) %>% display_summary_num1and2(num_value1, num_value2)"
   ]
  },
  {
   "cell_type": "markdown",
   "metadata": {},
   "source": [
    "### num_value1 vs num_value2:\n",
    "* Temp: num_value1 (in C when num_value2 is not NA) and num_value2 (F)  vs. Temp(in C) num_value1\n",
    "* BP --> SBP: num_value1; DBP: num_value2. Do not use Blood Pressure (0-2 scale)\n",
    "* GCS: Glasgow Coma Scale Score's num_value1 and GCS Score's num_value1. Do not use POINTS, it's different scale 0-4\n",
    "* SpO2, Pulse & Heart Rate, RR or Resp Rate (Do not use Respiratory Rate --> different scale) : num_value1"
   ]
  },
  {
   "cell_type": "markdown",
   "metadata": {},
   "source": [
    "### Check Temperatures\n",
    "* Only check Temp becuase Temp in C only has num_value1 in C where as Temp has both C and F degrees"
   ]
  },
  {
   "cell_type": "code",
   "execution_count": null,
   "metadata": {},
   "outputs": [],
   "source": [
    "# when num_value2 is not NA, take num_value1, equivalent, in C --> all look correct\n",
    "summary(vitals0 %>% filter(row_disp_name == \"Temp\" & !is.na(num_value2)) %>% select(num_value1, num_value2))\n",
    "\n",
    "# when num_value2 is NA or num_value1 is not NA, --> need further checking\n",
    "summary(vitals0 %>% filter(row_disp_name == \"Temp\" & is.na(num_value2)) %>% select(num_value1, num_value2))\n",
    "summary(vitals0 %>% filter(row_disp_name == \"Temp\" & !is.na(num_value1)) %>% select(num_value1, num_value2))\n",
    "\n",
    "# when num_value1 is less than 3, num_value2 = NA\n",
    "summary(vitals0 %>% filter(row_disp_name == \"Temp\" & num_value1 < 3) %>% select(num_value1, num_value2))\n",
    "\n",
    "# when num_value1 is NA --> num_value2 is also NA\n",
    "summary(vitals0 %>% filter(row_disp_name == \"Temp\" & is.na(num_value1)) %>% select(num_value1, num_value2))"
   ]
  },
  {
   "cell_type": "code",
   "execution_count": null,
   "metadata": {},
   "outputs": [],
   "source": [
    "# check when num_value2 is NA:\n",
    "# for num_value1 <= 60, take it, and for num_value1 > 60, convert to C\n",
    "# return NA for < 10 (or 20) --> only 2: 0.1 and 9.4,  \n",
    "temp1 <- vitals0 %>% filter(row_disp_name==\"Temp\"  & is.na(num_value2)) %>% arrange(num_value1)\n",
    "hist(temp1$num_value1, ylim=c(0, 50))\n",
    "\n",
    "hist(temp1[temp1$num_value1<=60, ]$num_value1, xlim=c(0, 60), ylim=c(0,30))\n",
    "hist(temp1[temp1$num_value1>60, ]$num_value1, xlim=c(60, 120))\n",
    "\n",
    "# now check the other temp variable, max is 43.6\n",
    "hist(vitals0[vitals0$row_disp_name==\"Temp (in Celsius)\" & vitals0$num_value1 < 30, ]$num_value1)\n",
    "vitals0 %>% filter(row_disp_name ==\"Temp (in Celsius)\" & num_value1 < 30) %>% arrange(desc(num_value1))"
   ]
  },
  {
   "cell_type": "markdown",
   "metadata": {},
   "source": [
    "### Check GCS scores\n",
    "* GCS, num_value2 is good, but GCS Score num_value1 is on 0-2 scale --> either repalce num_value1 by num_value2 earlier then only use num_value1 \n",
    "* if use GCS points --> 0- 4 in num_value1 (points) --> not using this\n",
    "* or, here, just use num_value1 for all >= 3 and for any <3, use num_value2 (no overlapping). \n",
    "* If there's overlapping like GCS points, then we need to process this prior to combining the names as above"
   ]
  },
  {
   "cell_type": "code",
   "execution_count": null,
   "metadata": {},
   "outputs": [],
   "source": [
    "gcs <- vitals %>% filter(features == \"GCS\")\n",
    "summary(gcs %>% select(num_value1, num_value2)) \n",
    "\n",
    "# if num_value1 is na, then no num_value2 --> no num_value2 without num_value1\n",
    "gcs2 <- gcs %>% filter(is.na(num_value1)) %>% arrange(num_value2)\n",
    "summary(gcs2$num_value2)\n",
    "\n",
    "# when num_value1 >= 3, then all NA for num_value2 --> take all num_value1 >= 3\n",
    "nrow(gcs %>% filter(num_value1 >= 3) %>% drop_na(num_value2))\n",
    "# for num_value1  < 3, only 7 has num_value2 --> take these\n",
    "gcs %>% filter(num_value1 < 3 | is.na(num_value1)) %>% drop_na(num_value2)\n",
    "\n",
    "# if num_value2 is na, there are still num_value1\n",
    "gcs1 <- gcs %>% filter(is.na(num_value2)) %>% arrange(num_value1)\n",
    "summary(gcs1$num_value1)"
   ]
  },
  {
   "cell_type": "code",
   "execution_count": null,
   "metadata": {},
   "outputs": [],
   "source": [
    "# GCS: cannot < 3 --> take all num_value1 >=3 (no num_value2), otherwise, replace num_value1 by num_value2 (only 7 entries)\n",
    "# keep this one separate as we will row bind later\n",
    "gcs <- gcs %>% mutate(num_value1 = ifelse(num_value1 >=3, num_value1, num_value2)) %>% \n",
    "                    drop_na(num_value1) %>% mutate(features = \"GCS\") %>% \n",
    "                    select(-c(num_value2, timediff)) %>%\n",
    "                    rename(values = num_value1)\n",
    "nrow(gcs)\n",
    "summary(gcs$values)\n",
    "\n",
    "# looks for errors GCS 4 and 15 at the same time\n",
    "gcs %>% filter(pat_enc_csn_id_coded %in% c(131187403487) | anon_id ==\"JCec2887\")\n",
    "\n",
    "# remove total GCS points solved the problem of GCS 4 and 15 at the same time\n",
    "# here, check if any rows that are the same except for values\n",
    "gcs %>% group_by_at(vars(-values)) %>% filter(n() > 1) "
   ]
  },
  {
   "cell_type": "markdown",
   "metadata": {},
   "source": [
    "### Check DBP and process this separately, to bind rows afterward"
   ]
  },
  {
   "cell_type": "code",
   "execution_count": null,
   "metadata": {},
   "outputs": [],
   "source": [
    "# check DBP (num_value2). Note: BP always have 2 values\n",
    "nrow(vitals %>% filter(features == \"SBP\" & is.na(num_value1) & !is.na(num_value2)))\n",
    "nrow(vitals %>% filter(features == \"SBP\" & is.na(num_value2) & !is.na(num_value1)))\n",
    "\n",
    "# display some extrem values of DBP\n",
    "options(repr.matrix.max.rows=150, repr.matrix.max.cols=20)\n",
    "vitals %>% filter(features == 'SBP' & (num_value2 > 200 | num_value2 < 25)) %>% arrange(num_value2)"
   ]
  },
  {
   "cell_type": "code",
   "execution_count": null,
   "metadata": {},
   "outputs": [],
   "source": [
    "# again, DBP value is num_value2\n",
    "summary(vitals$num_value2)\n",
    "nrow(vitals %>% filter(num_value2 > 200))\n",
    "nrow(vitals %>% filter(num_value2 < 15))\n",
    "\n",
    "hist(vitals[vitals$num_value2 > 150 & vitals$num_value2 < 200,]$num_value2, breaks =50)\n",
    "hist(vitals[vitals$num_value2 < 30,]$num_value2, breaks = 30)"
   ]
  },
  {
   "cell_type": "markdown",
   "metadata": {},
   "source": [
    "### Clean DBP "
   ]
  },
  {
   "cell_type": "code",
   "execution_count": null,
   "metadata": {},
   "outputs": [],
   "source": [
    "# remove erroneous values for DBP if SBP > 10*DBP, and both SBP and DBP = 0\n",
    "# will bind rows later --> so ok to filter instead of replacing by NA\n",
    "DBP <- vitals %>% filter(features == \"SBP\" & num_value1*num_value2 !=0) %>% \n",
    "                    mutate(num_value2 = ifelse(num_value1 > 10*num_value2, NA, num_value2)) %>%\n",
    "                    drop_na(num_value2) \n",
    "nrow(DBP)\n",
    "summary(DBP$num_value2)\n",
    "hist(DBP$num_value2, col = \"dodgerblue\", breaks = 125)"
   ]
  },
  {
   "cell_type": "code",
   "execution_count": null,
   "metadata": {},
   "outputs": [],
   "source": [
    "# check DBP and SBP\n",
    "DBP %>% filter(num_value2 <20) %>% arrange(num_value2)"
   ]
  },
  {
   "cell_type": "code",
   "execution_count": null,
   "metadata": {},
   "outputs": [],
   "source": [
    "# change variable name and drop SBP\n",
    "DBP <- DBP %>% mutate(features = \"DBP\") %>% \n",
    "        select(-c(num_value1, timediff)) %>%\n",
    "        rename(values = num_value2) %>% distinct()\n",
    "\n",
    "# remove the one duplicated row\n",
    "nrow(DBP %>% distinct())\n",
    "DBP[duplicated(DBP), ]\n",
    "\n",
    "# rows that are the same except for values, ok to keep\n",
    "DBP %>% group_by_at(vars(-values)) %>% filter(n() > 1) "
   ]
  },
  {
   "cell_type": "code",
   "execution_count": null,
   "metadata": {},
   "outputs": [],
   "source": [
    "# how many GCS score per patient: 35 max\n",
    "summary(vitals %>% filter(features == \"GCS\") %>% \n",
    "                    group_by(anon_id, pat_enc_csn_id_coded) %>% \n",
    "                    count(num_value1) %>% select(num_value1, n))"
   ]
  },
  {
   "cell_type": "code",
   "execution_count": null,
   "metadata": {},
   "outputs": [],
   "source": [
    "# this set, we look at num_value1 only, no DBP, but first, process GCS: take num_value1 unless:\n",
    "# GCS num_value1 < 3 (on 0-2 scale), then replaced by num_value2 (only abt 7 patients)\n",
    "vitals <- vitals %>% mutate(num_value1 = ifelse(features == \"GCS\",\n",
    "                                                ifelse(num_value1 >= 3, num_value1, num_value2),\n",
    "                                                num_value1))\n",
    "# keep only variable in the list of VS\n",
    "vitals <- vitals %>% filter(features %in% fs_feats) %>%\n",
    "                        select(-c(num_value2)) %>% rename(values=num_value1) %>% distinct()\n",
    "\n",
    "# check for distributions of these\n",
    "nrow(vitals) # 929382 vs 929186\n",
    "for (f in fs_feats){\n",
    "    print(f)\n",
    "    df = vitals %>% select(features, values) %>%  filter(features==f)\n",
    "    val = df$values\n",
    "    print(summary(val))\n",
    "    hist(val, main = f, breaks = 100)\n",
    "}"
   ]
  },
  {
   "cell_type": "markdown",
   "metadata": {},
   "source": [
    "### Explore the rest of VS"
   ]
  },
  {
   "cell_type": "code",
   "execution_count": null,
   "metadata": {},
   "outputs": [],
   "source": [
    "df <- vitals %>% filter(features == \"SBP\")\n",
    "nrow(filter(df, values > 310 | values <33))\n",
    "\n",
    "vitals %>% filter(features == 'SBP' & (values > 300 | values < 50)) %>% arrange(values)\n",
    "\n",
    "hist(df[df$values > 250,]$values, breaks=100)\n",
    "hist(df[df$values < 50,]$values, breaks = 50)"
   ]
  },
  {
   "cell_type": "code",
   "execution_count": null,
   "metadata": {},
   "outputs": [],
   "source": [
    "df <- vitals %>% filter(features == \"Pulse\")\n",
    "nrow(filter(df, values > 250 | values < 25)) #remove <10 only\n",
    "filter(df, values > 250 | values < 25 & values > 6) %>% arrange(values)\n",
    "\n",
    "hist(df[df$values > 250,]$values, breaks=100)\n",
    "hist(df[df$values < 30,]$values, breaks=25)"
   ]
  },
  {
   "cell_type": "code",
   "execution_count": null,
   "metadata": {},
   "outputs": [],
   "source": [
    "df <- vitals %>% filter(features == \"RR\")\n",
    "nrow(filter(df, values > 70 | values < 5))\n",
    "\n",
    "filter(df, values > 70 | values < 8 & values > 0) %>% arrange(values)\n",
    "\n",
    "hist(df[df$values > 50,]$values, breaks=100)\n",
    "hist(df[df$values < 10,]$values, breaks=10)"
   ]
  },
  {
   "cell_type": "code",
   "execution_count": null,
   "metadata": {},
   "outputs": [],
   "source": [
    "df <- vitals %>% filter(features == \"SpO2\")\n",
    "nrow(filter(df, values < 40))\n",
    "filter(df, values < 50 & values > 10) %>% arrange(values)\n",
    "\n",
    "hist(df[df$values < 70 & df$values > 10,]$values, breaks=35)"
   ]
  },
  {
   "cell_type": "code",
   "execution_count": null,
   "metadata": {},
   "outputs": [],
   "source": [
    "df <-vitals %>% filter(features == \"Temp\")\n",
    "nrow(filter(df, values < 30 & values > 0))\n",
    "hist(df[df$values < 30,]$values, breaks=30, xlim=c(20, 30))"
   ]
  },
  {
   "cell_type": "code",
   "execution_count": null,
   "metadata": {},
   "outputs": [],
   "source": [
    "unique(vitals$features)\n",
    "summary(vitals$values)\n",
    "\n",
    "head(vitals)"
   ]
  },
  {
   "cell_type": "markdown",
   "metadata": {},
   "source": [
    "### Now clean the variables:\n",
    "* Note, we did process the GCS first as above: use num_value1, and replace num_value1 < 3 by num_value2\n",
    "* Then here, we clean temp first as it's a bit more complicated than the rest, but it's only involved num_value1"
   ]
  },
  {
   "cell_type": "code",
   "execution_count": null,
   "metadata": {},
   "outputs": [],
   "source": [
    "# process temp: num_value2 is na, for num_value1 <= 60, take it, and for num_value1 > 60, convert to C\n",
    "# replace num_value1 < 10 (or 20) --> only 2: 0.1 and 9.4 for Temp, and a bunch for Temp(in C)\n",
    "vitals <- vitals %>% \n",
    "            mutate(values=ifelse(features==\"Temp\",                                  \n",
    "                                 ifelse(values < 20, NA,\n",
    "                                         ifelse(values <= 60, values, round((values - 32)*5.0/9.0))),\n",
    "                                 values))\n",
    "\n",
    "summary(vitals %>% filter(features == \"Temp\") %>% select(values))"
   ]
  },
  {
   "cell_type": "code",
   "execution_count": null,
   "metadata": {},
   "outputs": [],
   "source": [
    "# remove  all NA's, by each feature, as the data is in the long format,\n",
    "# keep only distinct rows, ok with recorded_time same but different values\n",
    "vitals <- vitals %>% \n",
    "            mutate(values = ifelse(features == \"SBP\" & (values < 33), NA, # < 33 or 30 same effect & > 310 old\n",
    "                             ifelse(features == \"Pulse\" & values < 21, NA, # 25 before\n",
    "                                 ifelse(features == \"RR\" & (values < 4 | values > 60), NA, # 60 before (tried 70)\n",
    "                                     ifelse(features == \"SpO2\" & values < 40, NA, # 40 before (tried 30)\n",
    "                                         ifelse(features == \"Temp\" & values < 25, NA, values)))))) %>%  # 29 before, 26 min here\n",
    "            drop_na(values) %>% distinct()\n",
    "\n",
    "nrow(vitals)\n",
    "\n",
    "vitals %>% count(features) %>% arrange(desc(n))\n",
    "nrow(vitals %>% select(anon_id, pat_enc_csn_id_coded) %>% distinct())\n",
    "summary(vitals$values)"
   ]
  },
  {
   "cell_type": "code",
   "execution_count": null,
   "metadata": {},
   "outputs": [],
   "source": [
    "for (f in fs_feats){\n",
    "    print(f)\n",
    "    df = vitals %>% select(features, values) %>%  filter(features==f)\n",
    "    val = df$values\n",
    "    print(summary(val))\n",
    "    hist(val, main = f, col=\"dodgerblue\", xlim=c(min(val), max(val)), breaks= 120)\n",
    "}"
   ]
  },
  {
   "cell_type": "code",
   "execution_count": null,
   "metadata": {},
   "outputs": [],
   "source": [
    "# look at duplicates rows with same recorded time, but different values. These are close, ok to keep\n",
    "for (f in fs_feats){\n",
    "    print(f)\n",
    "    df <- vitals %>% filter(features == f) %>% group_by_at(vars(-values)) %>% filter(n() > 1)\n",
    "    print(nrow(df))\n",
    "}"
   ]
  },
  {
   "cell_type": "code",
   "execution_count": null,
   "metadata": {},
   "outputs": [],
   "source": [
    "vitals %>% filter(features == \"SBP\") %>% group_by_at(vars(-values)) %>% filter(n() > 1)\n",
    "vitals %>% filter(features == \"SpO2\") %>% group_by_at(vars(-values)) %>% filter(n() > 1)\n",
    "vitals %>% filter(features == \"RR\") %>% group_by_at(vars(-values)) %>% filter(n() > 1)"
   ]
  },
  {
   "cell_type": "code",
   "execution_count": null,
   "metadata": {},
   "outputs": [],
   "source": [
    "df_pulse <- vitals %>% filter(features == \"Pulse\") %>% group_by_at(vars(-values)) %>% filter(n() > 1) %>% \n",
    "                arrange(anon_id, pat_enc_csn_id_coded, features, recorded_time, values)\n",
    "head(df_pulse, n=10)"
   ]
  },
  {
   "cell_type": "code",
   "execution_count": null,
   "metadata": {},
   "outputs": [],
   "source": [
    "df_temp <- vitals %>% filter(features == \"Temp\") %>% group_by_at(vars(-values)) %>% filter(n() > 1) %>% \n",
    "                arrange(anon_id, pat_enc_csn_id_coded, features, recorded_time, values)\n",
    "head(df_temp, n=10)"
   ]
  },
  {
   "cell_type": "markdown",
   "metadata": {},
   "source": [
    "### Combined DBP back to VS!"
   ]
  },
  {
   "cell_type": "code",
   "execution_count": null,
   "metadata": {},
   "outputs": [],
   "source": [
    "head(DBP, n=1)\n",
    "head(vitals, n=1)"
   ]
  },
  {
   "cell_type": "code",
   "execution_count": null,
   "metadata": {},
   "outputs": [],
   "source": [
    "nrow(DBP)\n",
    "nrow(vitals)\n",
    "nrow(cohort)\n",
    "\n",
    "vitals <- vitals %>% select(-timediff)\n",
    "vitals <- bind_rows(vitals, DBP) %>% mutate(feature_type = \"vitals\") \n",
    "summary(vitals$values)\n",
    "nrow(vitals)\n",
    "nrow(vitals %>% select(anon_id, pat_enc_csn_id_coded) %>% distinct())"
   ]
  },
  {
   "cell_type": "code",
   "execution_count": null,
   "metadata": {},
   "outputs": [],
   "source": [
    "head(vitals, n=1)"
   ]
  },
  {
   "cell_type": "code",
   "execution_count": null,
   "metadata": {},
   "outputs": [],
   "source": [
    "summary(vitals$values)"
   ]
  },
  {
   "cell_type": "code",
   "execution_count": null,
   "metadata": {},
   "outputs": [],
   "source": [
    "# save cohort vital signs after cleaning, no NA's here, has recorded time, used for binning\n",
    "# 43230 encounters, will remove those without vital signs (except for GCS)\n",
    "write.csv(vitals, file = \"./Data/vitals_clean.csv\", row.names=FALSE)"
   ]
  },
  {
   "cell_type": "markdown",
   "metadata": {},
   "source": [
    "### Get the first set of vital signs\n",
    "Use this to combine with demographic table to impute ESI, under the *features_demographicR1.ipynb*"
   ]
  },
  {
   "cell_type": "code",
   "execution_count": null,
   "metadata": {},
   "outputs": [],
   "source": [
    "vitals <- read.csv(\"./Data/vitals_clean.csv\")"
   ]
  },
  {
   "cell_type": "raw",
   "metadata": {},
   "source": [
    "# this takes a long time to run! 17min\n",
    "head(vitals, n=1)\n",
    "vs1st <- vitals %>% group_by(anon_id, pat_enc_csn_id_coded, features) %>% \n",
    "                    mutate(time = ymd_hms(recorded_time), first_val = mean(values[time == min(time, na.rm=TRUE)]))  %>%\n",
    "                    ungroup() %>% select(anon_id, pat_enc_csn_id_coded, features, first_val) %>% distinct()"
   ]
  },
  {
   "cell_type": "code",
   "execution_count": null,
   "metadata": {},
   "outputs": [],
   "source": [
    "# same as above, but takes ~7min to run\n",
    "vs1st <- vitals %>% mutate(recorded_time = ymd_hms(recorded_time)) %>% \n",
    "            group_by(anon_id, pat_enc_csn_id_coded, features) %>%\n",
    "            top_n(n=-1, recorded_time) %>%\n",
    "            summarise(first_val = mean(values, na.rm=TRUE)) %>% distinct()"
   ]
  },
  {
   "cell_type": "code",
   "execution_count": null,
   "metadata": {},
   "outputs": [],
   "source": [
    "nrow(vs1st)\n",
    "nrow(vs1st %>% distinct(anon_id, pat_enc_csn_id_coded, features))\n",
    "nrow(vs1st %>% distinct(anon_id, pat_enc_csn_id_coded)) # 43320\n",
    "head(vs1st)"
   ]
  },
  {
   "cell_type": "code",
   "execution_count": null,
   "metadata": {},
   "outputs": [],
   "source": [
    "write.csv(vs1st, \"./Data/vs1st.csv\", row.names=FALSE)"
   ]
  },
  {
   "cell_type": "markdown",
   "metadata": {},
   "source": [
    "### Get VS for imputation and summary statistics for simple data/model: USE cohort with labels from Tiffany's\n",
    "* Demographic features\n",
    "* Vital signs (no GCS): first and last values, summary statistics, difference from last - first and max - min\n",
    "* Cohort with labels from Tiffany's and only contains those with at least a complete set of vital signs\n",
    "\n",
    "Take vs1st already done (or redo faster with top_n), find most recent values, and summary stats\n",
    "\n",
    "Note that first and last values at the same time might have more than 1, take the average if this happens"
   ]
  },
  {
   "cell_type": "code",
   "execution_count": null,
   "metadata": {},
   "outputs": [],
   "source": [
    "# cohort_labels is Tiffany's final cohort of 43,008 encounters\n",
    "# will update this to remove patients without a complete set of vital signs\n",
    "# update vs1st, to redo imputation for ESI --> update features_demos_vitals\n",
    "vitals <- read.csv(\"./Data/vitals_clean.csv\")\n",
    "cohort <- read.csv(\"./Data/cohort_labels.csv\")\n",
    "vs1st <- read.csv(\"./Data/vs1st.csv\") # 291538\n",
    "nrow(vitals)\n",
    "nrow(cohort)\n",
    "nrow(vs1st)"
   ]
  },
  {
   "cell_type": "code",
   "execution_count": null,
   "metadata": {},
   "outputs": [],
   "source": [
    "nrow(vs1st %>% drop_na() %>% distinct())\n",
    "nrow(vs1st %>% drop_na() %>% distinct(pat_enc_csn_id_coded))"
   ]
  },
  {
   "cell_type": "code",
   "execution_count": null,
   "metadata": {},
   "outputs": [],
   "source": [
    "head(vitals, n=1)\n",
    "head(cohort, n=1)\n",
    "head(vs1st, n=1)"
   ]
  },
  {
   "cell_type": "code",
   "execution_count": null,
   "metadata": {},
   "outputs": [],
   "source": [
    "# get the most recent value of each feature, top_n(n=1, recorded_time) or slice_max\n",
    "# top_n(n=-1, recorded_time) for earliest value, slice_min\n",
    "vs_last <- vitals %>% mutate(recorded_time = ymd_hms(recorded_time)) %>% \n",
    "            group_by(anon_id, pat_enc_csn_id_coded, features) %>%\n",
    "            top_n(n=1, recorded_time) %>%\n",
    "            summarise(last_val = mean(values, na.rm=TRUE)) %>% distinct()"
   ]
  },
  {
   "cell_type": "code",
   "execution_count": null,
   "metadata": {},
   "outputs": [],
   "source": [
    "### DO NOT RUN THIS CELL, it won't produce the same result here\n",
    "# this is prior to taking the mean values, we have 2 temp recorded at the same time\n",
    "vs_last %>% filter(pat_enc_csn_id_coded == 131231466934) %>% arrange(features)"
   ]
  },
  {
   "cell_type": "raw",
   "metadata": {},
   "source": [
    "vs_last2 <- vs_last %>% group_by(anon_id, pat_enc_csn_id_coded, features) %>% \n",
    "                summarise(last_val = mean(values))\n",
    "vs_last2 %>% \n",
    "  group_by(features) %>% \n",
    "  summarize(mean = mean(last_val))"
   ]
  },
  {
   "cell_type": "code",
   "execution_count": null,
   "metadata": {},
   "outputs": [],
   "source": [
    "### DO NOT RUN THIS CELL\n",
    "# THIS IS AFTER taking the mean values for those recorded at the same time, temp is 36.8 avg of 37 and 36.6\n",
    "vs_last2 %>% filter(pat_enc_csn_id_coded == 131231466934) %>% arrange(features)"
   ]
  },
  {
   "cell_type": "code",
   "execution_count": null,
   "metadata": {},
   "outputs": [],
   "source": [
    "vs_last %>% filter(pat_enc_csn_id_coded == 131231466934) %>% arrange(features)"
   ]
  },
  {
   "cell_type": "code",
   "execution_count": null,
   "metadata": {},
   "outputs": [],
   "source": [
    "vitals %>% filter(pat_enc_csn_id_coded == 131231466934) %>% arrange(features, recorded_time)"
   ]
  },
  {
   "cell_type": "code",
   "execution_count": null,
   "metadata": {},
   "outputs": [],
   "source": [
    "nrow(cohort %>% select(pat_enc_csn_id_coded) %>% distinct())"
   ]
  },
  {
   "cell_type": "code",
   "execution_count": null,
   "metadata": {},
   "outputs": [],
   "source": [
    "# exclude GCS from first set of VS and for simple data\n",
    "cohortID <- cohort %>% select(anon_id, pat_enc_csn_id_coded)\n",
    "vitals <- vitals %>% select(anon_id, pat_enc_csn_id_coded, features, values) %>% \n",
    "            filter(features != \"GCS\")\n",
    "vs1st <- vs1st %>% filter(features != \"GCS\") %>% drop_na()\n",
    "vs_last <- vs_last %>% filter(features != \"GCS\") %>% \n",
    "            select(anon_id, pat_enc_csn_id_coded, features, last_val)"
   ]
  },
  {
   "cell_type": "code",
   "execution_count": null,
   "metadata": {},
   "outputs": [],
   "source": [
    "# get the the cohort with 1st complete set of VS for ESI imputation\n",
    "cohort1vs <- left_join(cohortID, vs1st) %>% spread(features, first_val) %>% drop_na() \n",
    "nrow(cohort1vs %>% distinct(pat_enc_csn_id_coded)) # 40953??? if join with cohort directly \n",
    "head(cohort1vs, n=1)"
   ]
  },
  {
   "cell_type": "code",
   "execution_count": null,
   "metadata": {},
   "outputs": [],
   "source": [
    "# use this for imputation of ESI, better cohort, more complete\n",
    "write.csv(cohort1vs, './Data/vs1st_complete.csv', row.names = FALSE)"
   ]
  },
  {
   "cell_type": "code",
   "execution_count": null,
   "metadata": {},
   "outputs": [],
   "source": [
    "head(cohort1vs)"
   ]
  },
  {
   "cell_type": "code",
   "execution_count": null,
   "metadata": {},
   "outputs": [],
   "source": [
    "# join first, last, and the rest of values for vitals\n",
    "vitals0 <- left_join(cohortID, vs1st) %>% left_join(vs_last) %>% left_join(vitals) \n",
    "nrow(vitals0)\n",
    "vitals0 %>% group_by(features) %>% count()\n",
    "head(vitals0, n=1)"
   ]
  },
  {
   "cell_type": "code",
   "execution_count": null,
   "metadata": {},
   "outputs": [],
   "source": [
    "head(vitals0)"
   ]
  },
  {
   "cell_type": "code",
   "execution_count": null,
   "metadata": {},
   "outputs": [],
   "source": [
    "# get summary stats, including differences for first and last (0 if 1 value), min and max\n",
    "# all the NA were actually already dropped, so na.rm here is redundant\n",
    "vsum <- vitals0 %>% \n",
    "            group_by(anon_id, pat_enc_csn_id_coded, features, first_val, last_val) %>%\n",
    "            summarise(count = n(), meanx = mean(values, na.rm=TRUE), medianx = median(values, na.rm=TRUE), \n",
    "                      minx = min(values, na.rm=TRUE), maxx = max(values, na.rm=TRUE), sdx = sd(values, na.rm=TRUE),\n",
    "                      madx = mad(values, na.rm=TRUE), IQRx = IQR(values, na.rm=TRUE)) %>%\n",
    "            mutate(mmdiff = round(maxx - minx, 1), fldiff = round(last_val - first_val, 1)) #"
   ]
  },
  {
   "cell_type": "code",
   "execution_count": null,
   "metadata": {},
   "outputs": [],
   "source": [
    "head(vsum)"
   ]
  },
  {
   "cell_type": "code",
   "execution_count": null,
   "metadata": {},
   "outputs": [],
   "source": [
    "nrow(vsum)\n",
    "head(vsum, n=1)\n",
    "summary(vsum)"
   ]
  },
  {
   "cell_type": "code",
   "execution_count": null,
   "metadata": {},
   "outputs": [],
   "source": [
    "# replace na of sdx (due to denominator of n-1) as 0\n",
    "# wide to long on multiple cols to wide\n",
    "# remove rows with any na --> only complete cases of 1 set of vital signs\n",
    "vsum_wide <- vsum %>% mutate(sdx = ifelse(is.na(sdx), 0, sdx)) %>%\n",
    "                gather(variable, value, first_val:fldiff) %>%\n",
    "                unite(temp, features, variable) %>%\n",
    "                spread(temp, value) %>% drop_na()"
   ]
  },
  {
   "cell_type": "code",
   "execution_count": null,
   "metadata": {},
   "outputs": [],
   "source": [
    "# remove further 1354 patients from 43,008 = 41654\n",
    "colnames(vsum_wide)\n",
    "nrow(vsum_wide %>% select(pat_enc_csn_id_coded) %>% distinct()) \n",
    "summary(vsum_wide)"
   ]
  },
  {
   "cell_type": "markdown",
   "metadata": {},
   "source": [
    "### Get the dataset for simple models:\n",
    "A cohort with complete set of VS, with labels (43008 --> 41654), with the following features\n",
    "* get back the demographics (with imputed ESI using 1st set of vs)\n",
    "* vital signs (first values and summary statistics) only (no GCS)"
   ]
  },
  {
   "cell_type": "code",
   "execution_count": null,
   "metadata": {},
   "outputs": [],
   "source": [
    "demos <- read.csv(\"./Data/cohort_demo_final.csv\")\n",
    "nrow(demos)\n",
    "colnames(demos)"
   ]
  },
  {
   "cell_type": "code",
   "execution_count": null,
   "metadata": {},
   "outputs": [],
   "source": [
    "# add demographic features to this data with vital signs\n",
    "demos <- demos %>% select(-c(inpatient_data_id_coded, label_max24, admit_time))\n",
    "data_simple <- left_join(vsum_wide, demos)\n",
    "dim(data_simple)\n",
    "nrow(data_simple %>% select(pat_enc_csn_id_coded) %>% distinct())\n",
    "colnames(data_simple)\n",
    "summary(data_simple)"
   ]
  },
  {
   "cell_type": "code",
   "execution_count": null,
   "metadata": {},
   "outputs": [],
   "source": [
    "# update cohort with labels to include only patients with a complete set of VS\n",
    "# cohort <- read.csv(\"./Data/cohort_labels.csv\")\n",
    "cohort_final <- data_simple %>% select(anon_id, pat_enc_csn_id_coded) %>% left_join(cohort) %>%\n",
    "                select(-c(int64_field_0))\n",
    "\n",
    "dim(cohort_final)\n",
    "head(cohort_final, n=1)"
   ]
  },
  {
   "cell_type": "code",
   "execution_count": null,
   "metadata": {},
   "outputs": [],
   "source": [
    "colnames(cohort_final)\n",
    "summary(cohort_final)"
   ]
  },
  {
   "cell_type": "code",
   "execution_count": null,
   "metadata": {},
   "outputs": [],
   "source": [
    "# updata data simple to include labels:\n",
    "data_simple <- left_join(cohort_final, data_simple)\n",
    "dim(data_simple)\n",
    "colnames(data_simple)"
   ]
  },
  {
   "cell_type": "code",
   "execution_count": null,
   "metadata": {},
   "outputs": [],
   "source": [
    "write.csv(cohort_final, './Data/cohort_final.csv', row.names = FALSE)"
   ]
  },
  {
   "cell_type": "code",
   "execution_count": null,
   "metadata": {},
   "outputs": [],
   "source": [
    "write.csv(data_simple, \"./Data/data_simple.csv\", row.names=FALSE)"
   ]
  },
  {
   "cell_type": "markdown",
   "metadata": {},
   "source": [
    "### EXTRA"
   ]
  },
  {
   "cell_type": "code",
   "execution_count": null,
   "metadata": {},
   "outputs": [],
   "source": [
    "# did not miss any BP\n",
    "added_vs <- read.csv(\"./Data/added_vs.csv\")\n",
    "nrow(added_vs)\n",
    "added_vs %>% count(row_disp_name)\n",
    "head(added_vs)"
   ]
  }
 ],
 "metadata": {
  "environment": {
   "name": "r-cpu.4-0.m71",
   "type": "gcloud",
   "uri": "gcr.io/deeplearning-platform-release/r-cpu.4-0:m71"
  },
  "kernelspec": {
   "display_name": "Python 3",
   "language": "python",
   "name": "python3"
  },
  "language_info": {
   "codemirror_mode": {
    "name": "ipython",
    "version": 3
   },
   "file_extension": ".py",
   "mimetype": "text/x-python",
   "name": "python",
   "nbconvert_exporter": "python",
   "pygments_lexer": "ipython3",
   "version": "3.8.5"
  },
  "toc": {
   "base_numbering": 1,
   "nav_menu": {},
   "number_sections": true,
   "sideBar": true,
   "skip_h1_title": false,
   "title_cell": "Table of Contents",
   "title_sidebar": "Contents",
   "toc_cell": false,
   "toc_position": {},
   "toc_section_display": true,
   "toc_window_display": false
  },
  "varInspector": {
   "cols": {
    "lenName": 16,
    "lenType": 16,
    "lenVar": 40
   },
   "kernels_config": {
    "python": {
     "delete_cmd_postfix": "",
     "delete_cmd_prefix": "del ",
     "library": "var_list.py",
     "varRefreshCmd": "print(var_dic_list())"
    },
    "r": {
     "delete_cmd_postfix": ") ",
     "delete_cmd_prefix": "rm(",
     "library": "var_list.r",
     "varRefreshCmd": "cat(var_dic_list()) "
    }
   },
   "types_to_exclude": [
    "module",
    "function",
    "builtin_function_or_method",
    "instance",
    "_Feature"
   ],
   "window_display": false
  }
 },
 "nbformat": 4,
 "nbformat_minor": 4
}

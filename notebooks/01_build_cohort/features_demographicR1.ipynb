{
 "cells": [
  {
   "cell_type": "markdown",
   "metadata": {},
   "source": [
    "### Descriptions:\n",
    "Main: process parts of cohort and demographic variables.\n",
    "\n",
    "**Inputs**: Ccohort (Conor's original cohort), encounters (SQL), code_status (SQL), flowsheet_HW (SQL), vs1st or vs1st_complete (from R3 notebook)\n",
    "\n",
    "* Check Conor's cohort (such as years of admission 2015 - 2019)\n",
    "* Join with encounter table to get ESI and inpatient ID information\n",
    "* Exclude patients who have any order for EXISTING code status that is not full prior to and within 24hrs after inpatient admission (even if code was cancelled later)\n",
    "* Exclude patients who are < 18 year old and later on, exclude patients who do not have at least a complete set of vital signs\n",
    "\n",
    "--> *cohort_demo* only contains demographic and ESI --> **cohort**: first pass of processed cohort, same info as with *cohort_demo*\n",
    "\n",
    "* Process language --> English: yes/no\n",
    "* Process insurance (medicare/caid/cal - contains \"MEDI\" in insurance) --> medis: yes/no\n",
    "* Process height and weight: combine with flowsheet H&W as first take\n",
    "* Use *vs1s_complete* to impute ESI with MICE --> *cohort_demo_clean_imputedHW* \n",
    "* One hot coding gender and race\n",
    "\n",
    "**Outputs**: \n",
    "* **cohort**: first pass of processed cohort, same info as with *cohort_demo*\n",
    "* **cohort_demo_final**: final cohort with demographic variables processed and imputed\n",
    "\n",
    "OLD -- Modify Conor's cohort with admit time (UTC) from order_proc and code status. --> Admit time is the earlier from either \"Admit to Inpatient\" order time from the order_proc table, or from effective time from adt table. When admit time from order_proc is NA, take admit time from ADT table, always available. \n",
    "\n",
    "OLD -- Remove 1 obs whose gender is unknown"
   ]
  },
  {
   "cell_type": "markdown",
   "metadata": {},
   "source": [
    "### Importing R libraries"
   ]
  },
  {
   "cell_type": "code",
   "execution_count": null,
   "metadata": {
    "ExecuteTime": {
     "end_time": "2020-05-21T00:38:06.078240Z",
     "start_time": "2020-05-21T00:38:02.778Z"
    }
   },
   "outputs": [],
   "source": [
    "library(caret) # import this before glmnet to avoid rlang version problem\n",
    "library(xgboost)\n",
    "library(data.table)\n",
    "library(tidyverse)\n",
    "library(lubridate)\n",
    "library(Matrix)\n",
    "# library(slam)\n",
    "library(glmnet)\n",
    "library(bit64)\n",
    "# library(mtools) for one hot coder, not available on Nero or use caret or tidyr\n",
    "library(mice)\n",
    "options(repr.matrix.max.rows=200, repr.matrix.max.cols=30)"
   ]
  },
  {
   "cell_type": "markdown",
   "metadata": {},
   "source": [
    "### Testing"
   ]
  },
  {
   "cell_type": "code",
   "execution_count": null,
   "metadata": {},
   "outputs": [],
   "source": [
    "# coh %>% filter(pat_enc_csn_id_coded == 131227093710) # old datalake2018 has no inpatient_id_coded"
   ]
  },
  {
   "cell_type": "markdown",
   "metadata": {},
   "source": [
    "### OLD --- Call the cohort from Conor's or with inpatient IDs from Tiffany's\n",
    "* Use both mrn and csn: anon_id and pat_enc_csn_id_coded as the unique combo\n",
    "* For our cohort, the csn is still unique. Not true for the entire EHR data (a few errors)\n",
    "* Tiffany filtered out further patients who has no inpatient ID, as these can be erroneous in the ADT table where effective time is before the admission time\n",
    "* Ccohort is the original draft cohort, available on BigQuery under conor_db\n",
    "* Ccohort_inptid.csv is Conor's cohort with inpatient ID, done by Tiffany, available on BQ, Traige\n",
    "* Size is 52318, from 2015 - 2019"
   ]
  },
  {
   "cell_type": "markdown",
   "metadata": {},
   "source": [
    "### NEW --- with shc_core\n",
    "* Use Conor's original cohort, with admit_time (this is the effective time < event time for admission) from adt table\n",
    "* No longer checking for admission order from order_proc because these orders don't have the level of care\n",
    "* Get inpatient id and acuity_level = ESI from encounter table\n",
    "* Keep patients with FULL CODE status and >=18 year old\n",
    "* Keep aptients with admit years from 2015 - 2019"
   ]
  },
  {
   "cell_type": "code",
   "execution_count": null,
   "metadata": {},
   "outputs": [],
   "source": [
    "# Ccohort.csv is the original draft cohort using Conor's query\n",
    "# fread here gives data.table, and read.csv gives dataframe\n",
    "# cohort <- as.data.frame(cohort) # if use fread\n",
    "\n",
    "ccohort <- read.csv(\"./Data/Ccohort.csv\") \n",
    "nrow(ccohort) "
   ]
  },
  {
   "cell_type": "code",
   "execution_count": null,
   "metadata": {},
   "outputs": [],
   "source": [
    "# Check admit years. Conor cohort still has 2020 \n",
    "ccohort <- ccohort %>% mutate(admit_time = ymd_hms(admit_time_jittered), \n",
    "                              adm_year = year(admit_time))\n",
    "unique(ccohort$adm_year)\n",
    "nrow(ccohort %>% filter(adm_year==2020))"
   ]
  },
  {
   "cell_type": "code",
   "execution_count": null,
   "metadata": {},
   "outputs": [],
   "source": [
    "# remove patients with admit year 2020\n",
    "# rename the label as max level of care at 24 hour\n",
    "# change to date_time, but when saved, it goes back to factor!\n",
    "ccohort <- ccohort %>% mutate(admit_time = ymd_hms(admit_time_jittered), \n",
    "                              adm_year = year(admit_time)) %>% \n",
    "                        filter(adm_year != 2020) %>% select(-c(admit_time_jittered, adm_year)) %>%\n",
    "                        rename(label_max24 = label)\n",
    "nrow(ccohort)"
   ]
  },
  {
   "cell_type": "code",
   "execution_count": null,
   "metadata": {},
   "outputs": [],
   "source": [
    "# 1 MRN (patient) can have multiple CSN (visits/encounters)\n",
    "# but 1 CSN is associated with 1 MRN, not true for the whole EHR data\n",
    "\n",
    "nrow(ccohort %>% distinct(anon_id))\n",
    "nrow(ccohort %>% distinct(pat_enc_csn_id_coded))\n",
    "nrow(ccohort %>% distinct(anon_id, pat_enc_csn_id_coded))\n",
    "# nrow(cohort %>% group_by(anon_id, pat_enc_csn_id_coded, inpatient_data_id_coded) %>% unique()) # unique rows"
   ]
  },
  {
   "cell_type": "code",
   "execution_count": null,
   "metadata": {},
   "outputs": [],
   "source": [
    "# count how many visits/csn each MRN (anon_id) has\n",
    "ccohort_count <- ccohort %>% count(anon_id, sort = TRUE, name = 'csn')\n",
    "nrow(ccohort_count)\n",
    "summary(ccohort_count$csn)\n",
    "\n",
    "# display histogram of freq of patients who have more than 1 visit\n",
    "hist(ccohort_count[ccohort_count$csn >1, ]$csn, breaks=38, col=\"powderblue\")"
   ]
  },
  {
   "cell_type": "code",
   "execution_count": null,
   "metadata": {},
   "outputs": [],
   "source": [
    "head(ccohort_count, n=1)\n",
    "ccohort %>% filter(pat_enc_csn_id_coded == 131227093710)\n",
    "ccohort %>% filter(anon_id == 'JCe90a9c')\n",
    "ccohort %>% filter(anon_id == \"JCcec38b\")"
   ]
  },
  {
   "cell_type": "markdown",
   "metadata": {},
   "source": [
    "### Check encounter table, joined with Conor's cohort\n",
    "* This table gives us the inpatient id and ESI level\n",
    "* All have Hospital encounter type\n",
    "* All Visit type are NA, as this might be more applicable to outpatient encounters\n",
    "* Acuity levels are ESI with some missing (~1900)\n",
    "\n",
    "==> we can remove enc_type and visit_type\n",
    "* Hospital Admission time (such as ED arrival) is probably before the admit time (to inpatient) from order proc\n",
    "* Admit time from Conor's is effective_time_jittered_utc, same as Hospital admission time, all times are UTC"
   ]
  },
  {
   "cell_type": "code",
   "execution_count": null,
   "metadata": {},
   "outputs": [],
   "source": [
    "enc <- read.csv(\"./Data/encounters.csv\") \n",
    "nrow(enc)"
   ]
  },
  {
   "cell_type": "code",
   "execution_count": null,
   "metadata": {},
   "outputs": [],
   "source": [
    "head(enc, n=1)\n",
    "enc %>% filter(is.na(inpatient_data_id_coded))\n",
    "enc %>% filter(pat_enc_csn_id_coded == 131227093710)"
   ]
  },
  {
   "cell_type": "code",
   "execution_count": null,
   "metadata": {},
   "outputs": [],
   "source": [
    "enc %>% gather(var, value) %>% distinct() %>% count(var) %>% arrange(n)"
   ]
  },
  {
   "cell_type": "code",
   "execution_count": null,
   "metadata": {},
   "outputs": [],
   "source": [
    "summary(enc %>% select(acuity_level, enc_type, visit_type))"
   ]
  },
  {
   "cell_type": "code",
   "execution_count": null,
   "metadata": {},
   "outputs": [],
   "source": [
    "# join the encounter table with cohort table to get the inpatient data id coded\n",
    "enc <- enc %>% select(anon_id, pat_enc_csn_id_coded, inpatient_data_id_coded, \n",
    "                      enc_type, visit_type, ESI = ACUITY_LEVEL_C, hosp_admsn_time = hosp_admsn_time_jittered_utc) %>% \n",
    "                mutate(hosp_admsn_time = ymd_hms(hosp_admsn_time))\n",
    "\n",
    "cohort <- left_join(ccohort, enc) %>% \n",
    "            mutate(ed_time_hr = as.numeric(difftime(admit_time, hosp_admsn_time, units =\"hours\")))\n",
    "\n",
    "summary(cohort$ed_time_hr)\n",
    "hist(cohort$ed_time_hr, xlim=c(0, 20), breaks=300, col=\"blue\")"
   ]
  },
  {
   "cell_type": "code",
   "execution_count": null,
   "metadata": {},
   "outputs": [],
   "source": [
    "cohort %>% filter(pat_enc_csn_id_coded==131227093710)\n",
    "cohort %>% filter(anon_id == \"JCcec38b\")"
   ]
  },
  {
   "cell_type": "markdown",
   "metadata": {},
   "source": [
    "### Skip getting earlier admit time\n",
    "* skip adjusting admission time as the earliest time as done above\n",
    "* Process code status: keep patients whose code status is Full prior to admission or within 24 hour after admission. Otherwise interventions might not match with presentations.\n",
    "* Note that in the display_name, some codes are blank but they are converted to something in description --> use description"
   ]
  },
  {
   "cell_type": "code",
   "execution_count": null,
   "metadata": {},
   "outputs": [],
   "source": [
    "# codestatus.csv is from querying code status order from order_proc\n",
    "code <- read.csv(\"./Data/code_status.csv\") \n",
    "nrow(code) # 162069\n",
    "summary(code %>% select(order_status, display_name, description)) # Full and n/a 117187 + 743 = 117930"
   ]
  },
  {
   "cell_type": "code",
   "execution_count": null,
   "metadata": {},
   "outputs": [],
   "source": [
    "head(code, n=1) "
   ]
  },
  {
   "cell_type": "code",
   "execution_count": null,
   "metadata": {},
   "outputs": [],
   "source": [
    "code <- code %>% select(anon_id, pat_enc_csn_id_coded, description, order_time = order_time_jittered_utc) %>% \n",
    "                    mutate(order_time = ymd_hms(order_time)) %>% distinct() \n",
    "nrow(code) \n",
    "summary(code)   "
   ]
  },
  {
   "cell_type": "code",
   "execution_count": null,
   "metadata": {},
   "outputs": [],
   "source": [
    "# calculate the difference btwn admit time and code status order time\n",
    "code <- left_join(cohort, code) %>% \n",
    "            select(-c(enc_type, visit_type)) %>%\n",
    "            mutate(code_diff_hr = as.numeric(difftime(order_time, admit_time, units = 'hours')))\n",
    "\n",
    "nrow(code %>% group_by(anon_id, pat_enc_csn_id_coded) %>% unique())\n",
    "nrow(code %>% select(anon_id, pat_enc_csn_id_coded) %>% group_by(anon_id, pat_enc_csn_id_coded) %>% unique()) "
   ]
  },
  {
   "cell_type": "code",
   "execution_count": null,
   "metadata": {},
   "outputs": [],
   "source": [
    "head(code, n=1)"
   ]
  },
  {
   "cell_type": "code",
   "execution_count": null,
   "metadata": {},
   "outputs": [],
   "source": [
    "# some do not have code status, time diff in hours\n",
    "summary(code$code_diff_hr)\n",
    "hist(code$code_diff_hr,  xlim=c(-80, 48), breaks=720, col=\"steelblue\")"
   ]
  },
  {
   "cell_type": "code",
   "execution_count": null,
   "metadata": {},
   "outputs": [],
   "source": [
    "# number of patients whose code status are either full or na (if exists, consider na = FULL) \n",
    "# code oder time is prior to or within 24 hours after admission\n",
    "nrow(filter(code, description != \"FULL CODE\" & !is.na(description))) \n",
    "\n",
    "# cohort of patients whose code status before admission or 24 hour after admission is not FULL CODE\n",
    "code_notfull <- code %>% \n",
    "                filter(code_diff_hr <=24 & description != \"FULL CODE\" & !is.na(description)) %>% \n",
    "                select(anon_id, pat_enc_csn_id_coded, inpatient_data_id_coded, admit_time) %>%\n",
    "                distinct()\n",
    "\n",
    "# number of patients whose code status is not full 24\n",
    "nrow(code_notfull)\n",
    "nrow(code_notfull %>% select(anon_id, pat_enc_csn_id_coded) %>% distinct()) # 6341 for 2015-2018\n",
    "head(code_notfull, n=1)"
   ]
  },
  {
   "cell_type": "code",
   "execution_count": null,
   "metadata": {},
   "outputs": [],
   "source": [
    "# remove 8501 non-fullcode non-na code patients from the cohort\n",
    "cohort_code <- anti_join(cohort, code_notfull) %>% select(-c(enc_type, visit_type))\n",
    "nrow(cohort_code)\n",
    "nrow(unique(cohort_code %>% select(anon_id, pat_enc_csn_id_coded))) \n",
    "nrow(filter(cohort_code, is.na(admit_time)))"
   ]
  },
  {
   "cell_type": "code",
   "execution_count": null,
   "metadata": {},
   "outputs": [],
   "source": [
    "head(cohort_code, n=1)\n",
    "code %>% filter(anon_id == \"JCcec38b\")"
   ]
  },
  {
   "cell_type": "code",
   "execution_count": null,
   "metadata": {},
   "outputs": [],
   "source": [
    "# this is the cohort with corrected admit time and full code before and 24hr after admission!\n",
    "write.csv(cohort_code, file = \"./Data/cohort_code.csv\", row.names=FALSE)"
   ]
  },
  {
   "cell_type": "markdown",
   "metadata": {},
   "source": [
    "### Explore and process demographic variables\n",
    "1. Age (only >=18)\n",
    "2. insurance = Medical/care/caid and n/a insurance --> medis =1 otherwise 0\n",
    "3. language --> Engl = 1 for English, otherwise 0\n",
    "4. leave height and weight to be processed with flowsheet age (>=18 only)"
   ]
  },
  {
   "cell_type": "code",
   "execution_count": null,
   "metadata": {},
   "outputs": [],
   "source": [
    "# demographics.csv is the file from querying the demographics table\n",
    "demo0 <- read.csv(\"./Data/demographic.csv\") %>% distinct()\n",
    "nrow(demo0)"
   ]
  },
  {
   "cell_type": "code",
   "execution_count": null,
   "metadata": {},
   "outputs": [],
   "source": [
    "cohort_code %>% filter(pat_enc_csn_id_coded == 131227093710)"
   ]
  },
  {
   "cell_type": "code",
   "execution_count": null,
   "metadata": {},
   "outputs": [],
   "source": [
    "head(demo0, n=3) \n",
    "demo0 %>% filter(anon_id == \"JCcec38b\")"
   ]
  },
  {
   "cell_type": "code",
   "execution_count": null,
   "metadata": {},
   "outputs": [],
   "source": [
    "# calculate age, only keep patients age >=18, (304 < 18)\n",
    "cohort_demo <- left_join(cohort_code, demo0) %>%\n",
    "                    mutate(dob = ymd(dob),\n",
    "                           age = round(as.numeric(difftime(ymd_hms(admit_time), dob, units=\"days\")/365),0)) %>%\n",
    "                    filter(age >= 18) %>% select(-dob)\n",
    "nrow(cohort_demo)"
   ]
  },
  {
   "cell_type": "code",
   "execution_count": null,
   "metadata": {},
   "outputs": [],
   "source": [
    "head(cohort_demo, n=1)"
   ]
  },
  {
   "cell_type": "code",
   "execution_count": null,
   "metadata": {},
   "outputs": [],
   "source": [
    "# checking duplicates\n",
    "nrow(cohort_demo %>% select(anon_id) %>% distinct()) # 30073\n",
    "nrow(cohort_demo %>% select(anon_id, pat_enc_csn_id_coded) %>% distinct()) # 43524\n",
    "cohort_demo[duplicated(cohort_demo[, c('anon_id','pat_enc_csn_id_coded')]),]\n",
    "\n",
    "# cohort_demo %>% filter(anon_id == \"JCd49287\") # pat_enc_csn_id_coded = 131195706986, \n",
    "# cohort_demo <- cohort_demo %>% filter (!(anon_id == \"JCd49287\" & race == \"Unknown\"))"
   ]
  },
  {
   "cell_type": "code",
   "execution_count": null,
   "metadata": {},
   "outputs": [],
   "source": [
    "summary(cohort_demo %>% select(ESI, gender, race, recent_height_cm, recent_weight_kg, age))\n",
    "cohort_demo %>% gather(var, value) %>% distinct() %>% count(var) %>% arrange(n)\n",
    "cohort_demo %>% summarise_each(funs(n_distinct))\n",
    "# cohort_demo %>% summarise(across(all_of(.), count))"
   ]
  },
  {
   "cell_type": "code",
   "execution_count": null,
   "metadata": {},
   "outputs": [],
   "source": [
    "summary(cohort_demo$age)\n",
    "hist(cohort_demo$age, breaks=100, col=\"dodgerblue\")"
   ]
  },
  {
   "cell_type": "code",
   "execution_count": null,
   "metadata": {},
   "outputs": [],
   "source": [
    "options(repr.matrix.max.rows=135, repr.matrix.max.cols=20)\n",
    "cohort_demo %>%                 # filter(!is.na(col)) %>% filter out all rows with NAs in col \n",
    "                group_by(insurance) %>% count() %>% arrange(desc(n))"
   ]
  },
  {
   "cell_type": "code",
   "execution_count": null,
   "metadata": {},
   "outputs": [],
   "source": [
    "cohort_demo %>% filter(str_detect(insurance, \"MEDI\") | insurance == \"\") %>% group_by(insurance) %>% count()"
   ]
  },
  {
   "cell_type": "code",
   "execution_count": null,
   "metadata": {},
   "outputs": [],
   "source": [
    "# turn insurance into medis which has \"MEDI\" under insurance\n",
    "nrow(cohort_demo %>% filter(insurance == \"\")) # | insurance == \"\"\n",
    "cohort_demo <- cohort_demo %>%\n",
    "                    mutate(medis = ifelse(str_detect(insurance, \"MEDI\") | insurance == \"\", 1, 0)) %>%\n",
    "#                     mutate(medis = ifelse(str_detect(insurance, paste(medis, collapse=\"|\")) | insurance==\"\", 1, 0)) %>%\n",
    "                    group_by(anon_id, pat_enc_csn_id_coded) %>%\n",
    "                    mutate(medis = sum(medis)) %>% ungroup() %>% # just to make sure if anyone else has more than 1\n",
    "                    mutate(medis = ifelse(medis>0, 1, medis)) \n",
    "\n",
    "cohort_demo %>% count(medis)"
   ]
  },
  {
   "cell_type": "code",
   "execution_count": null,
   "metadata": {},
   "outputs": [],
   "source": [
    "cohort_demo %>% group_by(language) %>% count() %>% arrange(desc(n))"
   ]
  },
  {
   "cell_type": "code",
   "execution_count": null,
   "metadata": {},
   "outputs": [],
   "source": [
    "cohort_demo <- cohort_demo %>%\n",
    "                    mutate(English = ifelse(language == \"English\", 1, 0)) %>% \n",
    "                    select(-c(language, insurance))\n",
    "\n",
    "cohort_demo %>% count(English)\n",
    "nrow(cohort_demo)\n",
    "summary(cohort_demo %>% select(ESI, gender, race, recent_height_cm, recent_weight_kg, age, medis, English))"
   ]
  },
  {
   "cell_type": "code",
   "execution_count": null,
   "metadata": {},
   "outputs": [],
   "source": [
    "head(cohort_demo, n=1)\n",
    "colnames(cohort_demo)"
   ]
  },
  {
   "cell_type": "markdown",
   "metadata": {},
   "source": [
    "### Save the data: cohort_demo and updated_cohort\n",
    "\n",
    "NEW --\n",
    "* **cohort_demo** is now the new **cohort** but will change after incorporate h and w from flowsheet\n",
    "* cohort will be updated with cohort patients who have at least 1 complete set of vital signs (to have same cohort for both simple and complex dataset approaches)\n",
    "* cohort_demo will be have height and weight combined from flowsheet and imputed\n",
    "* toward the end, combine with the cleaned first set of vital signs (-GCS) to impute missing ESI\n",
    "\n",
    "OLD datalake2018:\n",
    "* 1 unknown gender obs removed\n",
    "* this patient (anon_id == \"JCcf85d5\" & pat_enc_csn_id_coded == 131227093710): nothing in order_proc, no inpatientID, wrong csn with anothe patient mrn, and has effective admit time before admit time in adt table. Tiffany confirmed"
   ]
  },
  {
   "cell_type": "code",
   "execution_count": null,
   "metadata": {},
   "outputs": [],
   "source": [
    "# cohort_demo includes cohort, just more variables\n",
    "write.csv(cohort_demo, file = \"./Data/cohort_demo.csv\", row.names=FALSE) # same name on laptop\n",
    "\n",
    "cohort <- cohort_demo %>% \n",
    "            select(anon_id, pat_enc_csn_id_coded, inpatient_data_id_coded, label_max24, admit_time) \n",
    "\n",
    "write.csv(cohort, file = \"./Data/cohort.csv\", row.names=FALSE)"
   ]
  },
  {
   "cell_type": "code",
   "execution_count": null,
   "metadata": {},
   "outputs": [],
   "source": [
    "nrow(cohort)\n",
    "nrow(cohort_demo)\n",
    "length(unique(cohort$anon_id))\n",
    "cohort_demo %>% filter(anon_id == \"JCcec38b\")"
   ]
  },
  {
   "cell_type": "markdown",
   "metadata": {},
   "source": [
    "### Use Flowsheet (named vitals now) to get Height and Weight\n",
    "* Height in inches and Weight in oz in flowsheet\n",
    "* Clean: return NA for height < 40 or  > 85 and Weight details below\n",
    "* Take the closest value to admit_time\n",
    "* Convert to cm and kg and merge with demographic' Height and Weight\n",
    "* Check for erroneous values again, return NA for H&W using the same rules as above\n",
    "* Patients who don't have H&W from flowsheet will get them from demographic table\n",
    "* Finally, missing H & W will be imputed using the rest of demographic variables\n",
    "* Update: new flowsheetHW, no time restriction!"
   ]
  },
  {
   "cell_type": "code",
   "execution_count": null,
   "metadata": {},
   "outputs": [],
   "source": [
    "cohort <- read.csv(\"./Data/cohort.csv\")\n",
    "\n",
    "vitals_hw <- read.csv(\"./Data/flowsheet_HW.csv\") %>% \n",
    "                select(anon_id, pat_enc_csn_id_coded, inpatient_data_id_coded, row_disp_name, \n",
    "                       recorded_time = recorded_time_utc, num_value1, num_value2)\n",
    "\n",
    "nrow(cohort)\n",
    "nrow(vitals_hw) #208446\n",
    "nrow(cohort %>% select(anon_id) %>% distinct())\n",
    "cohort %>% summarise(n_patients = n_distinct(anon_id))\n",
    "vitals_hw %>% group_by(row_disp_name) %>% count(sort=TRUE)\n",
    "nrow(vitals_hw %>% select(anon_id, pat_enc_csn_id_coded) %>% distinct())"
   ]
  },
  {
   "cell_type": "code",
   "execution_count": null,
   "metadata": {},
   "outputs": [],
   "source": [
    "head(cohort, n=1)\n",
    "head(vitals_hw, n=1)"
   ]
  },
  {
   "cell_type": "code",
   "execution_count": null,
   "metadata": {},
   "outputs": [],
   "source": [
    "# vitals %>% group_by(row_disp_name, units) %>% summarise(count1 = length(num_value1), count2 = num_value2) %>% distinct()\n",
    "vitals_hw %>% group_by(row_disp_name) %>% summarise(n1 = length(num_value1[!is.na(num_value1)]), n2=length(num_value2[!is.na(num_value2)]))\n",
    "summary(vitals_hw %>% select(row_disp_name, num_value1, num_value2))"
   ]
  },
  {
   "cell_type": "code",
   "execution_count": null,
   "metadata": {},
   "outputs": [],
   "source": [
    "# combine cohort with vitals sign, remove num_value2 as H&W are under num_value1\n",
    "vitals_hw <- left_join(cohort, vitals_hw) %>% \n",
    "                select(-num_value2) %>% distinct()\n",
    "\n",
    "nrow(vitals_hw)\n",
    "nrow(vitals_hw %>% select(anon_id, pat_enc_csn_id_coded) %>% distinct())\n",
    "vitals_hw %>% group_by(row_disp_name) %>% count(sort=TRUE)"
   ]
  },
  {
   "cell_type": "markdown",
   "metadata": {},
   "source": [
    "### Height and Weight\n",
    "* Height in demographics is in cm and in flowsheet is inches (num_value1) --> convert to cm.\n",
    "\n",
    "Most are missing from flowsheet, but all look reasonable, keep all in flowsheet, and merge with demo. \n",
    "* Weight in demographics is in kg and in flowsheet is ounces (num_value1) --> convert to kg. \n",
    "\n",
    "Some are missing, not much.\n",
    "Low end: few within 700-1000 ounces --> remove below 600 oz (17kg)\n",
    "\n",
    "The rest look reasonable even with the overweight people, 1 outlier of 317kgs, but yeah, we've seen them.\n",
    "* Use Flowsheet data as the source, closest time to admit time. For missing values, get replacements from demographics\n",
    "\n",
    "Use Date from timestamp as demographics only have Dates, chose the ones closest to Admit Date. Afterward, use mice to impute H&W with the other variables (age, gender, race, medis, (not language))"
   ]
  },
  {
   "cell_type": "code",
   "execution_count": null,
   "metadata": {},
   "outputs": [],
   "source": [
    "# get the closest H and W to admit time by the minutes (longest is 26 days)\n",
    "# drop rows that have both NA in Height and Weight\n",
    "vitals_hw <- vitals_hw %>%\n",
    "                spread(row_disp_name, num_value1) %>%\n",
    "                mutate(mindiff = abs(as.numeric(difftime(admit_time, recorded_time, units = 'mins')))) %>%\n",
    "#                 group_by(anon_id, pat_enc_csn_id_coded) %>%\n",
    "#                 filter(mindiff == min(mindiff)) %>% slice(1L) %>%\n",
    "                filter_at(vars(Weight, Height), any_vars(!is.na(.))) \n",
    "\n",
    "# should remove NA to avoid having a NA col                \n",
    "nrow(vitals_hw) # 173163\n",
    "summary(vitals_hw %>% select(Height, Weight, mindiff))"
   ]
  },
  {
   "cell_type": "code",
   "execution_count": null,
   "metadata": {},
   "outputs": [],
   "source": [
    "head(vitals_hw, n=1)"
   ]
  },
  {
   "cell_type": "code",
   "execution_count": null,
   "metadata": {},
   "outputs": [],
   "source": [
    "# many weights recorded, some are errorenous\n",
    "# filter out encounters with only 1 weight vs more than 1\n",
    "# Weight, looks for within same encounter, and same patient\n",
    "# Height, looks for same patients\n",
    "\n",
    "suppressWarnings(\n",
    "vitals_hw1 <- vitals_hw %>% group_by(anon_id, pat_enc_csn_id_coded) %>% \n",
    "                mutate(nWe = length(Weight[!is.na(Weight)]), nHe = length(Height[!is.na(Height)])) %>%\n",
    "                group_by(anon_id) %>% \n",
    "                mutate(nWp = length(Weight[!is.na(Weight)]), nHp = length(Height[!is.na(Height)]),\n",
    "                       minW = min(Weight, na.rm=TRUE), maxW = max(Weight, na.rm=TRUE),\n",
    "                       rmaxw = round(maxW/Weight, 2)) %>% select(-'<NA>')\n",
    ")"
   ]
  },
  {
   "cell_type": "code",
   "execution_count": null,
   "metadata": {},
   "outputs": [],
   "source": [
    "summary(vitals_hw1 %>% select(Weight, Height, nWe, nWp, nHe, nHp, rmaxw))"
   ]
  },
  {
   "cell_type": "code",
   "execution_count": null,
   "metadata": {},
   "outputs": [],
   "source": [
    "# by encounters or patients, same, Weight seems reasonable \n",
    "summary(vitals_hw1 %>% filter(nWp == 1) %>% select(Weight)) # oz here; filter < 20kg, > 220kg later\n",
    "summary(vitals_hw1 %>% filter(nHp == 1) %>% select(Height)) # inches here; filter cm"
   ]
  },
  {
   "cell_type": "markdown",
   "metadata": {},
   "source": [
    "### explore Height (inches): \n",
    "* Return NA if Height < 40 or > 85 --> some entries < 40: JCd0f204 and JCda7d7f"
   ]
  },
  {
   "cell_type": "code",
   "execution_count": null,
   "metadata": {},
   "outputs": [],
   "source": [
    "hist(vitals_hw1[vitals_hw1$Height < 50,]$Height, xlim=c(0, 100), col=\"slateblue\") # remove < 40 (keep 42)\n",
    "hist(vitals_hw1[vitals_hw1$Height > 80,]$Height, col=\"blue\", add=TRUE) # remove > 85 or 90\n",
    "\n",
    "errorH <- vitals_hw1 %>% filter(Height > 90 | Height < 40) %>% arrange(Height)\n",
    "nrow(errorH)"
   ]
  },
  {
   "cell_type": "code",
   "execution_count": null,
   "metadata": {},
   "outputs": [],
   "source": [
    "# 81 is ok, lost the 90s\n",
    "# errors: JCd0f204 and JCda7d7f\n",
    "errorH"
   ]
  },
  {
   "cell_type": "code",
   "execution_count": null,
   "metadata": {},
   "outputs": [],
   "source": [
    "# this patient height at 91 is the only record, where was patient with height at 92 is error\n",
    "vitals_hw1 %>% filter(anon_id %in% c(\"JCd2c9f5\", \"JCce21de\") & !is.na(Height))"
   ]
  },
  {
   "cell_type": "code",
   "execution_count": null,
   "metadata": {},
   "outputs": [],
   "source": [
    "# it looks like most with < 40 height is error, except cases with only 1 record --> don't know JC2a2d702, ...\n",
    "vitals_hw1 %>% filter(anon_id %in% errorH$anon_id  & !is.na(Height)) %>% \n",
    "                arrange(anon_id, Height) %>% slice(1:3)"
   ]
  },
  {
   "cell_type": "markdown",
   "metadata": {},
   "source": [
    "### Explore Weight\n",
    "* Return NA for Weight above 12345.9 oz (about 350kg) --> (only 1 and this one is erroneous  \"JCe08adf\")\n",
    "* Only 1 slightly above 12000oz, but looks correct \"JCceb47b\"\n",
    "* Return NA for Weight < 600 (17kg): JCd16b07, JCe3e7e8. min Weight above this is 710, about 20kg --> reasonable\n",
    "* For those W < 900: if maxW/W is > 2, or if maxW > 1.3*W within 30 days --> return NA\n",
    "* JCd0500f x4 weights in 3 years, keep this"
   ]
  },
  {
   "cell_type": "code",
   "execution_count": null,
   "metadata": {},
   "outputs": [],
   "source": [
    "summary(vitals_hw$Weight) # 22046.00 is 625kg, 710 is about 20kg, 600 is about 17kg"
   ]
  },
  {
   "cell_type": "code",
   "execution_count": null,
   "metadata": {},
   "outputs": [],
   "source": [
    "hist(vitals_hw1$Weight, breaks=100, xlim=c(0, 12000), col=\"dodgerblue\")\n",
    "hist(vitals_hw1[vitals_hw1$Weight < 1000,]$Weight, xlim=c(0,1000), col=\"slateblue\") \n",
    "hist(vitals_hw1[vitals_hw1$Weight > 10000,]$Weight, col=\"blue\") \n",
    "\n",
    "errorW <- vitals_hw1 %>% filter(Weight > 12000 | Weight < 1000) %>% \n",
    "            select(-c(inpatient_data_id_coded, label_max24)) %>% arrange(anon_id, Weight)\n",
    "nrow(errorW)"
   ]
  },
  {
   "cell_type": "code",
   "execution_count": null,
   "metadata": {},
   "outputs": [],
   "source": [
    "# JCd0500f x4 weight in 3 years!!!\n",
    "# JCea3866 doubled weight in 2 years!!\n",
    "errorW # 710 is 20kg"
   ]
  },
  {
   "cell_type": "code",
   "execution_count": null,
   "metadata": {},
   "outputs": [],
   "source": [
    "# CHECK for weights compare to max weight, see the ratios\n",
    "options(repr.matrix.max.rows=120, repr.matrix.max.cols=20)\n",
    "vitals_hw1 %>% filter(anon_id %in% errorW$anon_id  & !is.na(Weight) & rmaxw > 2) %>% \n",
    "                select(-c(inpatient_data_id_coded, label_max24)) %>% \n",
    "                arrange(anon_id, Weight) %>% slice(1:3) "
   ]
  },
  {
   "cell_type": "code",
   "execution_count": null,
   "metadata": {},
   "outputs": [],
   "source": [
    "# ok JCcba5a7 some examples\n",
    "vitals_hw1 %>% filter(anon_id == \"JCcba5a7\") %>% arrange(admit_time, Weight)# different encounter\n",
    "vitals_hw1 %>% filter(anon_id == \"JCcbb4b8\") # remove 840"
   ]
  },
  {
   "cell_type": "code",
   "execution_count": null,
   "metadata": {},
   "outputs": [],
   "source": [
    "# find 1 max Weight and its date for each patient.\n",
    "nrow(vitals_hw1)\n",
    "suppressWarnings(\n",
    "maxWdate <- vitals_hw1 %>% group_by(anon_id) %>%\n",
    "                filter(Weight == max(Weight, na.rm=TRUE)) %>% rename(maxWDate = recorded_time, maxWw = Weight) %>%\n",
    "                select(anon_id, maxWDate, maxWw) %>% slice(1L)\n",
    ")\n",
    "nrow(maxWdate)\n",
    "length(unique(maxWdate$anon_id))\n",
    "\n",
    "vitals_hw2 <- vitals_hw1 %>% select(-maxW) %>% left_join(maxWdate) %>% rename(maxW = maxWw)\n",
    "nrow(vitals_hw2)"
   ]
  },
  {
   "cell_type": "code",
   "execution_count": null,
   "metadata": {},
   "outputs": [],
   "source": [
    "head(maxWdate, n=1)\n",
    "head(vitals_hw, n=3)\n",
    "vitals_hw %>% filter(anon_id ==\"JCcb658e\")\n",
    "vitals_hw2 %>% filter(anon_id ==\"JCcb658e\")"
   ]
  },
  {
   "cell_type": "code",
   "execution_count": null,
   "metadata": {},
   "outputs": [],
   "source": [
    "# calculate the days difference btwn max Weight day and another Weight\n",
    "# this takes a while (~5 min)\n",
    "vitals_hw2 <- vitals_hw2 %>% mutate(maxddiff = difftime(ymd_hms(maxWDate), ymd_hms(recorded_time), units=\"days\"))\n",
    "head(vitals_hw2)"
   ]
  },
  {
   "cell_type": "code",
   "execution_count": null,
   "metadata": {},
   "outputs": [],
   "source": [
    "# weight < 1000 is quite complicated: < 700 is error, weight ~800: if multiple --> correct, if only 1 --> error\n",
    "# for any < 900, if there exist another value that is > 1.5 that the possible error, then flag it as error\n",
    "# probably should add within a year as the patient JCd0500f 4x weight in 3 years\n",
    "suppressWarnings(\n",
    "vitals_hw2 <- vitals_hw2 %>% group_by(anon_id) %>% \n",
    "                mutate(maxddiff = abs(round(maxddiff,1)),\n",
    "                       Werror = ifelse(rmaxw > 2 | (rmaxw > 1.3 & maxddiff < 30), 1, 0),\n",
    "                       sumErr = sum(Werror, na.rm=TRUE)) # cumsum(replace_na(Werror, 0)) --> take max\n",
    ") "
   ]
  },
  {
   "cell_type": "markdown",
   "metadata": {},
   "source": [
    "### Clean height and weight: Final step\n",
    "* Height < 40 and > 85 and weight < 600 were removed. \n",
    "* Lowest Height remains 42, occured x2 for same patient. 2 patients 91 and 92 inches (1 is 1 measurement and 92 is an error)\n",
    "* Return NA if Weight < 900 and (err > 1: if same have max Weight > 2*Weight or maxW > 1.3*Weight within 30 days)\n",
    "* One patient has 950 and 4500 lbs, 4 times higher but within 3 years, and only 2 measurements different encounters: JCd0500f"
   ]
  },
  {
   "cell_type": "code",
   "execution_count": null,
   "metadata": {},
   "outputs": [],
   "source": [
    "# Weight: remove anything > 12345 oz and < 600 (17 kg and 350kg)\n",
    "# For anything < 900, if there's another weight that is 1.5 or more, remove it (better to take within a year)\n",
    "# Height: remove < 40 and > 85 (101 and 216 cm)\n",
    "\n",
    "# DO NOT filter but instead replace these values with NA\n",
    "vitals_hw <- vitals_hw2 %>% \n",
    "                mutate(Height = ifelse((Height < 40 | Height > 85), NA, Height),\n",
    "                       Weight = ifelse((Weight > 12345 | Weight < 600 | (Weight < 900 & sumErr > 0)), NA, Weight))\n",
    "#                 filter((Height >= 40 & Height <= 85) & (Weight <= 12345)) %>% filter(!(Weight < 900 & sumErr > 0))"
   ]
  },
  {
   "cell_type": "code",
   "execution_count": null,
   "metadata": {},
   "outputs": [],
   "source": [
    "summary(vitals_hw %>% select(Height, Weight))\n",
    "lowW <- vitals_hw %>% select(anon_id, pat_enc_csn_id_coded, admit_time, recorded_time, Height, Weight,\n",
    "                     nWe, nWp, minW, rmaxw, maxWDate, maxW, maxddiff, sumErr) %>%\n",
    "                        filter(Weight < 900) %>% arrange(anon_id, Weight) # %>% slice(1:3) "
   ]
  },
  {
   "cell_type": "code",
   "execution_count": null,
   "metadata": {},
   "outputs": [],
   "source": [
    "lowW"
   ]
  },
  {
   "cell_type": "code",
   "execution_count": null,
   "metadata": {},
   "outputs": [],
   "source": [
    "# looks OK\n",
    "vitals_hw2 %>% filter(anon_id %in% lowW$anon_id) %>%\n",
    "                select(anon_id, pat_enc_csn_id_coded, admit_time, recorded_time, Height, Weight,\n",
    "                       nWe, nWp, minW, rmaxw, maxWDate, maxW, maxddiff, sumErr) %>% arrange(anon_id, Weight)"
   ]
  },
  {
   "cell_type": "markdown",
   "metadata": {},
   "source": [
    "### Combine Height and Weight with demogrpahic table and clean again\n",
    "* convert Weight as oz in flowsheet to kg as in demographic\n",
    "* convert Height as inches in flowsheet to cm as in demographic\n",
    "* Take the closest clean values to admit_time\n",
    "* after combining, return NA as above again"
   ]
  },
  {
   "cell_type": "code",
   "execution_count": null,
   "metadata": {},
   "outputs": [],
   "source": [
    "# for flowsheet, convert W from oz to kg, H from inches to cm \n",
    "# keep track of the lowest weight obs of 8kg  (288 oz) to investigate. If scale, remove this here --> not here for new shc_core\n",
    "# this patient later appear to have a weight of 83 kg\n",
    "\n",
    "# take the closest values to admit_time, mindiff is time difference btwn admit_time and recorded_time, in minutes\n",
    "w <- 0.0283495 # convert oz to kg\n",
    "h <- 2.54 # convert inches to cm\n",
    "vitals_hw <- vitals_hw %>% select(anon_id, pat_enc_csn_id_coded, admit_time, recorded_time, Height, Weight, mindiff) %>%\n",
    "                mutate(Weight = round(Weight * 0.0283495, 0),\n",
    "                       Height = round(Height * 2.54, 0)) %>%\n",
    "                group_by(anon_id, pat_enc_csn_id_coded) %>%\n",
    "                filter(mindiff == min(mindiff)) %>% slice(1L)\n",
    "nrow(vitals_hw) # 41240\n",
    "summary(vitals_hw %>% select(Height, Weight, mindiff))"
   ]
  },
  {
   "cell_type": "code",
   "execution_count": null,
   "metadata": {},
   "outputs": [],
   "source": [
    "write.csv(vitals_hw, \"./Data/vitals_hw.csv\", row.names=FALSE)\n",
    "# vitals_hw <- read.csv(\"./Data/vitals_hw.csv\")"
   ]
  },
  {
   "cell_type": "code",
   "execution_count": null,
   "metadata": {},
   "outputs": [],
   "source": [
    "# remember: age is relevant to the admit date/time\n",
    "# only height, weight, and esi have missing values\n",
    "cohort_demo <- read.csv(\"./Data/cohort_demo.csv\")\n",
    "nrow(cohort_demo)\n",
    "\n",
    "# take the closest recorded date to admit_date (but only 1 record), not clean yet\n",
    "demo_hw <- cohort_demo %>% \n",
    "            select(anon_id, pat_enc_csn_id_coded, admit_time, recent_height_cm, recent_weight_kg, recent_date, age) %>%\n",
    "            mutate(admit_date = as.Date(admit_time),\n",
    "                   recent_date = as.Date(recent_date),\n",
    "                   daydiff = abs(as.numeric(difftime(admit_date, recent_date, units =\"days\")))) #%>%\n",
    "#                 group_by(anon_id, pat_enc_csn_id_coded) %>%\n",
    "#                 filter(daydiff == min(daydiff)) %>% slice(1L)\n",
    "summary(demo_hw %>% select(recent_height_cm, recent_weight_kg, age, daydiff))"
   ]
  },
  {
   "cell_type": "code",
   "execution_count": null,
   "metadata": {},
   "outputs": [],
   "source": [
    "w <- 0.0283495 # convert oz to kg\n",
    "h <- 2.54 # convert inches to cm\n",
    "\n",
    "# check weight, if there are many, will process as above, NA for < 600 or for < 900 with another large weight\n",
    "nrow(demo_hw %>% filter(recent_weight_kg < 600*w | recent_weight_kg > 12345*w))\n",
    "demo_hw %>% filter(recent_weight_kg < 900*w | recent_weight_kg > 12345*w)\n",
    "demo_hw %>% filter(anon_id == \"JCcfecc2\")\n",
    "vitals_hw %>% filter(anon_id ==\"JCcfecc2\")\n",
    "\n",
    "# check height\n",
    "nrow(demo_hw %>% filter(recent_height_cm < 40*h | recent_height_cm > 85*h))\n",
    "demo_hw %>% filter(recent_height_cm < 40*h | recent_height_cm > 85*h)\n",
    "\n",
    "hist(demo_hw$recent_weight_kg, breaks=100, xlim=c(0, 330), col=\"dodgerblue\")\n",
    "hist(demo_hw$recent_height_cm, breaks = 100, col = \"blue\")\n",
    "hist(demo_hw[demo_hw$recent_height_cm < 120,]$recent_height_cm, breaks = 100, col = \"blue\")"
   ]
  },
  {
   "cell_type": "code",
   "execution_count": null,
   "metadata": {},
   "outputs": [],
   "source": [
    "nrow(demo_hw)\n",
    "summary(demo_hw %>% select(recent_height_cm, recent_weight_kg))"
   ]
  },
  {
   "cell_type": "code",
   "execution_count": null,
   "metadata": {},
   "outputs": [],
   "source": [
    "600*w\n",
    "900*w\n",
    "demo_hw %>% filter(recent_weight_kg < 900*w)"
   ]
  },
  {
   "cell_type": "code",
   "execution_count": null,
   "metadata": {},
   "outputs": [],
   "source": [
    "# this is already distinct, only return NA for \n",
    "# Note that demo's weight are pretty clean. only 1 patient, 2 encounters with W > 600 but < 900, but look ok\n",
    "# so we don't write the alogrithm to process W as above here\n",
    "demo_hw <- demo_hw %>% \n",
    "                mutate(recent_height_cm = ifelse(recent_height_cm >= 40*h & recent_height_cm <= 85*h, recent_height_cm, NA),\n",
    "                       recent_weight_kg = ifelse(recent_weight_kg >= 600*w, recent_weight_kg, NA)) \n",
    "nrow(demo_hw)\n",
    "nrow(demo_hw %>% select(anon_id, pat_enc_csn_id_coded) %>% distinct())\n",
    "summary(demo_hw)"
   ]
  },
  {
   "cell_type": "code",
   "execution_count": null,
   "metadata": {},
   "outputs": [],
   "source": [
    "# within 4 years for weight?, but height ok\n",
    "nrow(demo_hw %>% filter(daydiff > 1480)) #  4years\n",
    "# demo_hw %>% filter(daydiff > 1480)\n",
    "\n",
    "hist(demo_hw$daydiff, breaks= 100, col=\"blue\")\n",
    "hist(demo_hw$daydiff[demo_hw$daydiff > 1400 & demo_hw$daydiff < 1600], breaks= 100, col=\"red\")"
   ]
  },
  {
   "cell_type": "code",
   "execution_count": null,
   "metadata": {},
   "outputs": [],
   "source": [
    "# this patient has both H and W in both flowsheet and demo\n",
    "vitals_hw %>% filter(anon_id== \"JCcfecc2\")\n",
    "demo_hw %>% filter(anon_id== \"JCcfecc2\")\n",
    "\n",
    "# this patient here is just to check different encounters\n",
    "vitals_hw %>% filter(anon_id == \"JCe67df3\") \n",
    "demo_hw %>% filter(anon_id== \"JCe67df3\")"
   ]
  },
  {
   "cell_type": "code",
   "execution_count": null,
   "metadata": {},
   "outputs": [],
   "source": [
    "# if values are missing from flowsheet, impute with information in demographics\n",
    "nrow(vitals_hw %>% select(anon_id, pat_enc_csn_id_coded) %>% distinct())\n",
    "nrow(vitals_hw %>% distinct())\n",
    "\n",
    "nrow(demo_hw %>% select(anon_id, pat_enc_csn_id_coded) %>% distinct())\n",
    "nrow(demo_hw %>% distinct())\n",
    "\n",
    "# make sure to join by anon_id and csn, not admit_time!!! lots of headache with admit time\n",
    "HW <- full_join(vitals_hw, demo_hw, by=c(\"anon_id\", \"pat_enc_csn_id_coded\"))\n",
    "\n",
    "nrow(HW)\n",
    "nrow(HW %>% select(anon_id, pat_enc_csn_id_coded) %>% distinct())\n",
    "summary(HW %>% select(Height, Weight, recent_height_cm, recent_weight_kg))\n",
    "\n",
    "HW %>% filter(anon_id== \"JCcfecc2\")\n",
    "HW %>% filter(anon_id== \"JCe67df3\")"
   ]
  },
  {
   "cell_type": "code",
   "execution_count": null,
   "metadata": {},
   "outputs": [],
   "source": [
    "# take the height and weight (closest to admit_time) of the same admission/encounter from (flowsheet)\n",
    "# if missing from flowsheet, take from recent values from demographic\n",
    "\n",
    "# demo weight: only use if within 4 years: mutate(recent_weight_kg = ifelse(daydiff > 4*365, NA, recent_weight_kg)) %>%\n",
    "# take everything for now, as 4 years is still arbitrary\n",
    "HW <- HW %>% mutate(Height2 = ifelse(is.na(Height), recent_height_cm, Height),\n",
    "                    Weight2 = ifelse(is.na(Weight), recent_weight_kg, Weight)) %>%\n",
    "                    select(anon_id, pat_enc_csn_id_coded, Height2, Height, Weight2, Weight, daydiff) %>% distinct()\n",
    "\n",
    "nrow(HW)\n",
    "nrow(HW %>% select(anon_id, pat_enc_csn_id_coded) %>% distinct())\n",
    "summary(HW %>% select(Height2, Height, Weight2, Weight, daydiff))\n",
    "HW %>% filter(anon_id== \"JCe67df3\") %>% arrange(pat_enc_csn_id_coded)"
   ]
  },
  {
   "cell_type": "code",
   "execution_count": null,
   "metadata": {},
   "outputs": [],
   "source": [
    "# among those with n/a Weight from flowsheet get from demo, check how far from admit_date\n",
    "summary(HW %>% filter(is.na(Weight)) %>% select(Height2, Height, Weight2, Weight, daydiff))\n",
    "# 1917 is 5.25 years\n",
    "\n",
    "summary(HW %>% filter(is.na(Height)) %>% select(Height2, Height, Weight2, Weight, daydiff))"
   ]
  },
  {
   "cell_type": "code",
   "execution_count": null,
   "metadata": {},
   "outputs": [],
   "source": [
    "# join with cohort to see how many missing Weight from flowsheet\n",
    "cohort_demo_clean <- left_join(cohort_demo, HW) %>%\n",
    "        rename(Weight_fs = Weight, Height_fs = Height, Weight = Weight2, Height = Height2)\n",
    "\n",
    "nrow(cohort_demo)\n",
    "nrow(cohort_demo_clean)\n",
    "nrow(cohort_demo_clean %>% distinct(anon_id, pat_enc_csn_id_coded))\n",
    "summary(cohort_demo_clean %>% select(Height, Height_fs, Weight, Weight_fs, daydiff)) \n",
    "# if replace everyhing, 358 W  vs 3years: 1805 W missing vs 4years: 954 W missing"
   ]
  },
  {
   "cell_type": "code",
   "execution_count": null,
   "metadata": {},
   "outputs": [],
   "source": [
    "# # change 0 to NA, \n",
    "# HW <- HW %>% mutate(Height = ifelse(Height==0.0, NA, Height),\n",
    "#                     Weight = ifelse(Weight==0.0, NA, Weight))\n",
    "# HW %>% filter(anon_id == \"JCd16b07\")\n",
    "# summary(HW %>% select(Height, Weight, daydiff))\n",
    "# # the unknown gender obs JCd1cd10 is here from vitals, ok, just be careful when joining with demo_clean"
   ]
  },
  {
   "cell_type": "code",
   "execution_count": null,
   "metadata": {},
   "outputs": [],
   "source": [
    "# save this to impute height and weight # saved with (1) on laptop\n",
    "write.csv(cohort_demo_clean, file = \"./Data/cohort_demo_clean.csv\", row.names=FALSE)"
   ]
  },
  {
   "cell_type": "code",
   "execution_count": null,
   "metadata": {},
   "outputs": [],
   "source": [
    "colnames(cohort_demo_clean)\n",
    "nrow(cohort_demo_clean)"
   ]
  },
  {
   "cell_type": "code",
   "execution_count": null,
   "metadata": {},
   "outputs": [],
   "source": [
    "summary(cohort_demo_clean %>% select(label_max24, gender, race, age, medis, English, Height, Weight))\n",
    "cohort_demo_clean %>% summarise_each(funs(n_distinct))"
   ]
  },
  {
   "cell_type": "markdown",
   "metadata": {},
   "source": [
    "### Imputation for Height and Weight using just the demographics set"
   ]
  },
  {
   "cell_type": "code",
   "execution_count": null,
   "metadata": {
    "ExecuteTime": {
     "end_time": "2020-05-21T00:41:21.906051Z",
     "start_time": "2020-05-21T00:38:56.152Z"
    }
   },
   "outputs": [],
   "source": [
    "# this takes awhile(~4min)\n",
    "# cohort_demo_clean <- read.csv(\"./Data/cohort_demo_clean.csv\")\n",
    "demo_clean <- cohort_demo_clean %>% select(gender, race, age, medis, Height, Weight)\n",
    "\n",
    "md.pattern(demo_clean)\n",
    "demo_mice <- mice(demo_clean, m=3, maxit=50, meth='pmm', seed=123)\n",
    "demo_imp2 <- complete(demo_mice, 2)"
   ]
  },
  {
   "cell_type": "code",
   "execution_count": null,
   "metadata": {
    "ExecuteTime": {
     "end_time": "2020-05-21T00:43:18.194040Z",
     "start_time": "2020-05-21T00:43:18.149Z"
    }
   },
   "outputs": [],
   "source": [
    "summary(demo_imp2)"
   ]
  },
  {
   "cell_type": "code",
   "execution_count": null,
   "metadata": {},
   "outputs": [],
   "source": [
    "nrow(demo_imp2)\n",
    "head(demo_imp2, n=1)\n",
    "\n",
    "nrow(cohort_demo_clean)\n",
    "head(cohort_demo_clean, n=1)\n",
    "\n",
    "# here: keep bind the old set with the imputed set, just to compare\n",
    "demo_imp2name <- demo_imp2 %>% select(Height, Weight) %>% \n",
    "                    rename(Height_i = Height, Weight_i = Weight)\n",
    "cohort_demo_imputed_all <- bind_cols(cohort_demo_clean, demo_imp2name) \n",
    "head(cohort_demo_imputed_all, n=1)\n",
    "colnames(cohort_demo_imputed_all)"
   ]
  },
  {
   "cell_type": "code",
   "execution_count": null,
   "metadata": {},
   "outputs": [],
   "source": [
    "# all means we have both the original values and the imputed values in this same dataset, \n",
    "# but it doesn't have the indicators of missingness\n",
    "cohort_demo_imputed_all <- cohort_demo_imputed_all %>% \n",
    "    select(c(anon_id, pat_enc_csn_id_coded, inpatient_data_id_coded, label_max24, admit_time, ESI, \n",
    "             gender, race, age, medis, English, Height, Height_i, Weight, Weight_i))"
   ]
  },
  {
   "cell_type": "code",
   "execution_count": null,
   "metadata": {},
   "outputs": [],
   "source": [
    "# only keep the imputed versions of Height and Weight and add indicators\n",
    "cohort_demo_imputed <- cohort_demo_imputed_all %>% \n",
    "                        mutate(delta_H = ifelse(is.na(Height), 1, 0),\n",
    "                               delta_W = ifelse(is.na(Weight), 1, 0)) %>%\n",
    "                        select(-c(Height, Weight))\n",
    "summary(cohort_demo_imputed %>% select(delta_H, delta_W))\n",
    "head(cohort_demo_imputed, n=1)"
   ]
  },
  {
   "cell_type": "code",
   "execution_count": null,
   "metadata": {},
   "outputs": [],
   "source": [
    "# missing ESI\n",
    "summary(cohort_demo_imputed)"
   ]
  },
  {
   "cell_type": "code",
   "execution_count": null,
   "metadata": {
    "ExecuteTime": {
     "end_time": "2020-05-21T00:43:40.784690Z",
     "start_time": "2020-05-21T00:43:40.626Z"
    }
   },
   "outputs": [],
   "source": [
    "# from the cohort_demo_clean, imputed height and weight, save the new cohort_demo table\n",
    "write.csv(cohort_demo_imputed, file = \"./Data/cohort_demo_imputedHW.csv\", row.names=FALSE)"
   ]
  },
  {
   "cell_type": "markdown",
   "metadata": {},
   "source": [
    "### ESI -- from acuity_level encounter table\n",
    "* use first vital values from vitals_clean to impute ESI\n",
    "* this require the vitals_clean dataset to be done\n",
    "* before: use cohort with at least 1 vs --> change: use cohort with a complete set of vs --> simple and complex models\n",
    "* vs1st_complete.csv is already updated"
   ]
  },
  {
   "cell_type": "code",
   "execution_count": null,
   "metadata": {},
   "outputs": [],
   "source": [
    "cohort_demo %>% group_by(ESI, label_max24) %>% count() %>% group_by(ESI) %>% mutate(p = round(100* n/sum(n), 2))\n",
    "# will need to impute with the first sets of vital signs"
   ]
  },
  {
   "cell_type": "code",
   "execution_count": null,
   "metadata": {},
   "outputs": [],
   "source": [
    "# cohort_demo_imputedHW %>% group_by(esi) %>% count(label_max24) # --> convert NA\n",
    "cohort_demo %>% group_by(ESI, label_max24) %>%\n",
    "                summarise(n_esi = n()) %>%\n",
    "                ungroup() %>% \n",
    "                mutate(percent = 100*n_esi/sum(n_esi)) %>%\n",
    "                select(ESI, label = label_max24, n_esi, percent)"
   ]
  },
  {
   "cell_type": "code",
   "execution_count": null,
   "metadata": {},
   "outputs": [],
   "source": [
    "# use the vs1st_complete.csv --> 41654, better cohort for imputation\n",
    "# if use vs1st.csv with GCS we have 43320, but remove these so only 43291\n",
    "# vs1st <- read.csv(\"./Data/vs1st.csv\")\n",
    "\n",
    "vs1st <- read.csv(\"./Data/vs1st_complete.csv\")\n",
    "nrow(vs1st)\n",
    "\n",
    "# this demo is not the same demo read from demographics, same as cohort_demo_imputed as above\n",
    "demo <- read.csv(\"./Data/cohort_demo_imputedHW.csv\")\n",
    "nrow(demo)\n",
    "\n",
    "summary(vs1wide)"
   ]
  },
  {
   "cell_type": "raw",
   "metadata": {},
   "source": [
    "# vs1wide <- vs1st %>% spread(features, first_val) %>% select(-GCS) # then need to filter out all NA as below\n",
    "# vs1wide <- vs1wide %>% filter_at(vars(DBP, Pulse, RR, SBP, SpO2, Temp), any_vars(!is.na(.)))\n",
    "\n",
    "# remove GCS (not many), and turn wide format for imputation\n",
    "vs1wide <- vs1st %>% filter(features != \"GCS\") %>% spread(features, first_val)\n",
    "head(vs1wide)\n",
    "nrow(vs1wide) # 43291 --> now 41654 for complete set of VS with final cohort\n",
    "nrow(vs1wide %>% filter_all(all_vars(is.na(.)))) # number of rows that have all NA\n",
    "nrow(vs1wide %>% drop_na()) # number of rows that have no NA (complete cases) accross all cols"
   ]
  },
  {
   "cell_type": "code",
   "execution_count": null,
   "metadata": {},
   "outputs": [],
   "source": [
    "colnames(demo)"
   ]
  },
  {
   "cell_type": "code",
   "execution_count": null,
   "metadata": {},
   "outputs": [],
   "source": [
    "vs1demo <- left_join(vs1wide, demo)\n",
    "nrow(vs1demo)\n",
    "head(vs1demo)\n",
    "colnames(vs1demo)"
   ]
  },
  {
   "cell_type": "code",
   "execution_count": null,
   "metadata": {},
   "outputs": [],
   "source": [
    "summary(vs1demo) # missing 1665 ESI"
   ]
  },
  {
   "cell_type": "code",
   "execution_count": null,
   "metadata": {},
   "outputs": [],
   "source": [
    "# this chunk takes a while (~ 5min)\n",
    "# m refers to the number of imputed datasets. Five is the default --> takes too long\n",
    "# meth='pmm' refers to the imputation method, predictive mean matching\n",
    "# complete(, returns the 2nd completed data set)\n",
    "vs1demo_imp <- vs1demo %>% select(ESI, gender, race, age, medis, Height_i, Weight_i, SBP, DBP, Pulse, RR, SpO2, Temp)\n",
    "\n",
    "md.pattern(vs1demo_imp)\n",
    "vs1demo_mice <- mice(vs1demo_imp, m=3, maxit=50, meth='pmm', seed=123)\n",
    "vs1demo_imp2 <- complete(vs1demo_mice, 2)"
   ]
  },
  {
   "cell_type": "code",
   "execution_count": null,
   "metadata": {},
   "outputs": [],
   "source": [
    "summary(vs1demo_imp2)"
   ]
  },
  {
   "cell_type": "code",
   "execution_count": null,
   "metadata": {},
   "outputs": [],
   "source": [
    "# rename the imputed variables from the imputed data set with an added _i\n",
    "# not doing this: SBP_i=SBP, DBP_i=DBP, Pulse_i=Pulse, RR_i=RR, SpO2_i=SpO2, Temp_i=Temp\n",
    "vs1demo_imp_name <- vs1demo_imp2 %>% select(ESI_i=ESI) \n",
    "\n",
    "# bind the imputed ESI with the original data and add a missing indicator for ESI\n",
    "vs1demo_all <- bind_cols(vs1demo, vs1demo_imp_name) %>% mutate(delta_ESI = ifelse(is.na(ESI), 1, 0))\n",
    "colnames(vs1demo_all)"
   ]
  },
  {
   "cell_type": "raw",
   "metadata": {},
   "source": [
    "# indicator colums for variables with missing values: turn missing to 1 and not missing to 0, then rename these variables\n",
    "# do this when there are multiple cols\n",
    "missing <- function(x) ifelse(is.na(x), 1, 0)\n",
    "vs1demo_ind <- vs1demo_all %>% mutate_at(.vars = vars(ESI, SBP, DBP, Pulse, RR, SpO2, Temp), .funs = missing) %>%\n",
    "                    rename(vs1demo_ind, delta_ESI=ESI, delta_SBP=SBP, delta_DBP=DBP, \n",
    "                           delta_Pulse=Pulse, delta_RR=RR, delta_SpO2=SpO2, delta_Temp=Temp)\n",
    "# colnames(vs1demo_ind) <- c('anon_id','pat_enc_csn_id_coded', \n",
    "#                            'delta_DBP','delta_Pulse', 'delta_RR', 'delta_SBP', 'delta_SpO2','delta_Temp',\n",
    "#                            'inpatient_data_id_coded', 'label_max24', 'admit_time', 'delta_ESI', \n",
    "#                            'gender', 'race','age', 'medis', 'English', \n",
    "#                            'Height_i', 'Weight_i', 'delta_H', 'delta_W', 'ESI_i', \n",
    "#                            'SBP_i', 'DBP_i', 'Pulse_i', 'RR_i', 'SpO2_i', 'Temp_i')"
   ]
  },
  {
   "cell_type": "code",
   "execution_count": null,
   "metadata": {},
   "outputs": [],
   "source": [
    "dim(vs1demo_all)\n",
    "head(vs1demo_all %>% filter(delta_ESI ==1))"
   ]
  },
  {
   "cell_type": "code",
   "execution_count": null,
   "metadata": {},
   "outputs": [],
   "source": [
    "# rearrange all the columns \n",
    "cohort_demo <- vs1demo_all %>% select(anon_id, pat_enc_csn_id_coded, inpatient_data_id_coded, label_max24, admit_time, \n",
    "                                      ESI_i, delta_ESI, gender, race, age, medis, English,  \n",
    "                                      Height_i, delta_H, Weight_i, delta_W,\n",
    "                                      SBP, DBP, Pulse, RR, SpO2, Temp)\n",
    "dim(cohort_demo)"
   ]
  },
  {
   "cell_type": "raw",
   "metadata": {},
   "source": [
    "# checking 3 patient, missign ESI, missing all vs except temp, and missing RR\n",
    "# cohort_demo %>% filter(pat_enc_csn_id_coded %in% c(131269803765, 131242423389, 131213936508))"
   ]
  },
  {
   "cell_type": "markdown",
   "metadata": {},
   "source": [
    "### One hot coding for gender and race\n",
    "* Gender: simply 1 for female and 0 for male\n",
    "* Race: one-hot coding as usual"
   ]
  },
  {
   "cell_type": "code",
   "execution_count": null,
   "metadata": {},
   "outputs": [],
   "source": [
    "# 1 for female and 0 for male:\n",
    "cohort_demo <- cohort_demo %>% mutate(gender = ifelse(gender == \"Male\", 0, 1))\n",
    "summary(cohort_demo %>% select(gender, race))"
   ]
  },
  {
   "cell_type": "code",
   "execution_count": null,
   "metadata": {},
   "outputs": [],
   "source": [
    "# onehot coding for race:\n",
    "dummy <- dummyVars(~ race, data = cohort_demo) # if more ! gender + race\n",
    "race_1hot <- data.frame(predict(dummy, newdata = cohort_demo))\n",
    "cohort_demo <-  cohort_demo %>% select(-race) %>% bind_cols(race_1hot)\n",
    "ncol(cohort_demo)"
   ]
  },
  {
   "cell_type": "code",
   "execution_count": null,
   "metadata": {},
   "outputs": [],
   "source": [
    "summary(cohort_demo)"
   ]
  },
  {
   "cell_type": "code",
   "execution_count": null,
   "metadata": {},
   "outputs": [],
   "source": [
    "nrow(cohort_demo)\n",
    "head(cohort_demo, n=3)"
   ]
  },
  {
   "cell_type": "code",
   "execution_count": null,
   "metadata": {},
   "outputs": [],
   "source": [
    "# save file: all ESI (and first_val of vital signs imputed)\n",
    "write.csv(cohort_demo, \"./Data/cohort_demo_final.csv\", row.names=FALSE)\n",
    "\n",
    "# this is the correct new cohort with at least one component of vital signs\n",
    "# cohort_has_vs <- cohort_demo %>% select(anon_id, pat_enc_csn_id_coded, inpatient_data_id_coded, label_max24, admit_time)\n",
    "\n",
    "# nrow(cohort_has_vs)\n",
    "# write.csv(cohort_has_vs, \"./Data/cohort_has_vs.csv\", row.names=FALSE)"
   ]
  },
  {
   "cell_type": "raw",
   "metadata": {},
   "source": [
    "# cohort without ESI:\n",
    "cohort <- read.csv(\"./Data/cohort_final.csv\")\n",
    "nrow(cohort)\n",
    "nrow(cohort %>% distinct(anon_id))\n",
    "noESI <- vs1demo %>% filter(is.na(ESI)) %>% select(anon_id, pat_enc_csn_id_coded) %>% left_join(cohort)\n",
    "nrow(noESI)\n",
    "# write.csv(noESI, \"./Data/noESI.csv\", row.names=FALSE)"
   ]
  },
  {
   "cell_type": "raw",
   "metadata": {},
   "source": [
    "head(cohort, n=1)\n",
    "sapply(cohort, typeof)\n",
    "summary(cohort)"
   ]
  }
 ],
 "metadata": {
  "environment": {
   "name": "r-cpu.4-0.m71",
   "type": "gcloud",
   "uri": "gcr.io/deeplearning-platform-release/r-cpu.4-0:m71"
  },
  "kernelspec": {
   "display_name": "R",
   "language": "R",
   "name": "ir"
  },
  "language_info": {
   "codemirror_mode": "r",
   "file_extension": ".r",
   "mimetype": "text/x-r-source",
   "name": "R",
   "pygments_lexer": "r",
   "version": "4.0.3"
  },
  "toc": {
   "base_numbering": 1,
   "nav_menu": {},
   "number_sections": true,
   "sideBar": true,
   "skip_h1_title": false,
   "title_cell": "Table of Contents",
   "title_sidebar": "Contents",
   "toc_cell": false,
   "toc_position": {},
   "toc_section_display": true,
   "toc_window_display": false
  },
  "varInspector": {
   "cols": {
    "lenName": 16,
    "lenType": 16,
    "lenVar": 40
   },
   "kernels_config": {
    "python": {
     "delete_cmd_postfix": "",
     "delete_cmd_prefix": "del ",
     "library": "var_list.py",
     "varRefreshCmd": "print(var_dic_list())"
    },
    "r": {
     "delete_cmd_postfix": ") ",
     "delete_cmd_prefix": "rm(",
     "library": "var_list.r",
     "varRefreshCmd": "cat(var_dic_list()) "
    }
   },
   "types_to_exclude": [
    "module",
    "function",
    "builtin_function_or_method",
    "instance",
    "_Feature"
   ],
   "window_display": false
  }
 },
 "nbformat": 4,
 "nbformat_minor": 4
}

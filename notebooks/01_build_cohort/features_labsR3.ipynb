{
 "cells": [
  {
   "cell_type": "markdown",
   "metadata": {},
   "source": [
    "### Description:\n",
    "Explore and clean lab variables\n",
    "\n",
    "* First grab by lab_names (can use base_name), then check their base_names from all_labs file and get the rest for the same base_names added to the original labs with lab_names --> updated labs\n",
    "* Check the units and ranges of these labs\n",
    "* Combine lab_names and convert to same units as needed, remove some lab_names\n",
    "\n",
    "It would be shorter to use base_name, but still need to check because some same labs have different base_names\n",
    "\n",
    "* Use ord_num_value, 9999999 are extreme cases on either end (OLD-- about 5 NA, and 1 hi)\n",
    "* Need ord_value to take bounds for 9999999 values. Those without the ord_value --> removed. For example, if ord_value is <0.2 and ord_num_value is 9999999, then replace 9999999 with 0.2\n",
    "\n",
    "Output files:\n",
    "* **labs99** --> pushed to BQ to get the ord_value\n",
    "* *labs9joined* --> intermediate file with 9999999 replaced with bounds from ord_value, the bind to the rest\n",
    "* **labs_clean** --> missing patients with no labs"
   ]
  },
  {
   "cell_type": "markdown",
   "metadata": {},
   "source": [
    "### Importing R libraries"
   ]
  },
  {
   "cell_type": "code",
   "execution_count": null,
   "metadata": {
    "ExecuteTime": {
     "end_time": "2020-05-21T00:38:06.078240Z",
     "start_time": "2020-05-21T00:38:02.778Z"
    }
   },
   "outputs": [],
   "source": [
    "library(caret) # import this before glmnet to avoid rlang version problem\n",
    "library(xgboost)\n",
    "library(data.table)\n",
    "library(tidyverse)\n",
    "library(lubridate)\n",
    "library(Matrix)\n",
    "# library(slam)\n",
    "library(glmnet)\n",
    "library(bit64)\n",
    "# library(mtools) for one hot coder, not available on Nero or use caret or tidyr\n",
    "library(mice)\n",
    "options(repr.matrix.max.rows=100, repr.matrix.max.cols=20)"
   ]
  },
  {
   "cell_type": "markdown",
   "metadata": {},
   "source": [
    "### LABS\n",
    "2. we will use these as is. too many to manually process, and labs are usually more accurately reported. errors usually in the specimen collection task, and usually get redrawn and/or flagged, so counts are ok\n",
    "3. We also have a short list of labs that can use more of the actually values, in combination with the result_in_range flag (Y/N) and result_flag (such as erroneous issues), also, using time drawn to resulted would be helpful to categorized to Stat (within 1 hr) vs. routine labs since this is not reflected in the data here (maybe available if we connect with the order proc)\n",
    "4. Here are some notes about labs after checking these:\n",
    "a) Cannot trust \"result_in_range_yn\" --> remove this\n",
    "b) There is 1 incident of Glucose by Meter = hi in ord_value\n",
    "c) ord_value has text, blanks and #\n",
    "d) ord_num_value has NA, 9999999, #. The blanks from ord_value are NA in ord_num_value\n",
    "e) result_flag: \"Abnormal\" for text in ord_value, usually correct. However, when ord_value is N/A or < or >, the ord_num_value is 9999999.\n",
    "5. Use ord_num_value and result_flag are good"
   ]
  },
  {
   "cell_type": "code",
   "execution_count": null,
   "metadata": {},
   "outputs": [],
   "source": [
    "# labs filtered by cohort and prior to admit time\n",
    "labs <- read.csv(\"./Data/lab_result.csv\")\n",
    "nrow(labs) #1769014\n",
    "nrow(labs %>% select(anon_id, pat_enc_csn_id_coded) %>% distinct())"
   ]
  },
  {
   "cell_type": "code",
   "execution_count": null,
   "metadata": {},
   "outputs": [],
   "source": [
    "# checking all lab_name and base_name from 2019\n",
    "all_labs <- read.csv(\"./Data/labs_all.csv\")\n",
    "base_names <- read.csv(\"./Data/labs_basename.csv\")"
   ]
  },
  {
   "cell_type": "code",
   "execution_count": null,
   "metadata": {},
   "outputs": [],
   "source": [
    "# check base_name of selected lab_name, then re-query for missing other lab_name here\n",
    "labs_add <- read.csv('./Data/labs_additional.csv')\n",
    "nrow(labs_add)"
   ]
  },
  {
   "cell_type": "code",
   "execution_count": null,
   "metadata": {},
   "outputs": [],
   "source": [
    "colnames(labs)\n",
    "colnames(labs_add)"
   ]
  },
  {
   "cell_type": "code",
   "execution_count": null,
   "metadata": {},
   "outputs": [],
   "source": [
    "## merge labs and labs_add\n",
    "labs_updated <- full_join(labs, labs_add)\n",
    "nrow(labs_updated) # correct 1789991 = 20977 + 1769014"
   ]
  },
  {
   "cell_type": "code",
   "execution_count": null,
   "metadata": {},
   "outputs": [],
   "source": [
    "# check all base_name with count > 10K\n",
    "all_labs %>% group_by(base_name) %>% count(sort=TRUE) %>% filter(n > 10000)"
   ]
  },
  {
   "cell_type": "code",
   "execution_count": null,
   "metadata": {},
   "outputs": [],
   "source": [
    "# look at base_name as the parent and corresponding lab_name as children, from cohort and our list\n",
    "options(repr.matrix.max.rows=130, repr.matrix.max.cols=20)\n",
    "labs %>% group_by(base_name, lab_name) %>% count() %>% arrange(base_name, lab_name)"
   ]
  },
  {
   "cell_type": "code",
   "execution_count": null,
   "metadata": {},
   "outputs": [],
   "source": [
    "# look at individual lab name and its group base name from the cohort and our list\n",
    "options(repr.matrix.max.rows=130, repr.matrix.max.cols=20)\n",
    "labs %>% group_by(lab_name, base_name) %>% count() %>% arrange(lab_name, base_name)"
   ]
  },
  {
   "cell_type": "code",
   "execution_count": null,
   "metadata": {},
   "outputs": [],
   "source": [
    "options(repr.matrix.max.rows=130, repr.matrix.max.cols=20)\n",
    "base_names %>% select(base_name, lab_name) %>% distinct() %>% arrange(base_name)"
   ]
  },
  {
   "cell_type": "code",
   "execution_count": null,
   "metadata": {},
   "outputs": [],
   "source": [
    "### Check additional labs after looking backward for basename\n",
    "labs_add %>% group_by(base_name) %>% count(sort=TRUE)"
   ]
  },
  {
   "cell_type": "code",
   "execution_count": null,
   "metadata": {},
   "outputs": [],
   "source": [
    "labs_add %>% group_by(lab_name, base_name) %>% count(sort=TRUE)"
   ]
  },
  {
   "cell_type": "code",
   "execution_count": null,
   "metadata": {},
   "outputs": [],
   "source": [
    "# take the above lab names and put in a vector to check and group\n",
    "\n",
    "# long_labs <- as.vector(labs$lab_name %>% unique())\n",
    "ulabs <- labs %>% count(lab_name) %>% arrange(desc(n)) # labs %>% group_by(lab_name, base_name) %>% count() %>% arrange(lab_name, base_name)\n",
    "# quoted <- paste0(ulabs, collapse=\";\")\n",
    "quoted <- gsub(\";\", \"'\", ulabs$lab_name) %>% strsplit(\"; \")\n",
    "# long_labs <- strsplit(quoted, \"; \")\n",
    "paste(shQuote(quoted), collapse=\", \")\n",
    "\n",
    "long_labs <- c(\"Platelet count\",  \"RBC\", \"WBC\", \"MCH\", \"MCHC\", \"MCV\",\"Calcium, Ser/Plas\", \"CO2, Ser/Plas\",\n",
    "               \"Albumin, Ser/Plas\", \"ALT (SGPT), Ser/Plas\", \"AST (SGOT), Ser/Plas\", \"Alk P'TASE, Total, Ser/Plas\",\n",
    "               \"Globulin\", \"Total Bilirubin, Ser/Plas\", \"Protein, Total, Ser/Plas\",\n",
    "               \"TROPONIN I\", \"Magnesium, Ser/Plas\",  \"Phosphorus, Ser/Plas\",\n",
    "               \n",
    "               \"Hematocrit\", \"Hct, ISTAT\", \"Hct(Calc), ISTAT\",\n",
    "               \"Hemoglobin\", \"Hgb(Calc), ISTAT\",\n",
    "               \"Potassium, Ser/Plas\", \"Potassium, ISTAT\",  \"Potassium, Whole Bld\",\n",
    "               \"Sodium, Ser/Plas\", \"Sodium, ISTAT\",  \"Sodium, Whole Blood\", \n",
    "               \"Chloride, Ser/Plas\",  \"Chloride, ISTAT\",  \"Chloride, Whole Bld\",\n",
    "               \"Creatinine, Ser/Plas\", \"Creatinine,ISTAT\", \n",
    "               \"Anion Gap\", \"Anion Gap, ISTAT\",\n",
    "               \"Glucose, Ser/Plas\", \"Glucose,ISTAT\", \"Glucose, Whole Blood\", \"Glucose by Meter\",\n",
    "               \"BUN, Ser/Plas\", \"BUN, ISTAT\", \"Urea Nitrogen,Ser/Plas\",\n",
    "               \"Neutrophil, Absolute\", \"NEUT, ABS\", \n",
    "               \"Basophil, Absolute\", \"BASOS, ABS\", \"Basophils\",\n",
    "               \"Eosinophil, Absolute\", \"EOS, ABS\", \n",
    "               \"Lymphocyte, Absolute\", \"LYM, ABS\", \n",
    "               \"Monocyte, Absolute\", \"MONO, ABS\",\n",
    "               \"Lactate, ISTAT\", \"Lactate, Whole Bld\", \n",
    "               \"Base Excess, ISTAT\", \"Base Excess (vt)\",\n",
    "                \"HCO3\", \"HCO3 (a), ISTAT\", \n",
    "                \"HCO3 (v), ISTAT\", \"HCO3, ISTAT\", \n",
    "                \"O2 Saturation (a)\", \"O2 Saturation, ISTAT\",\n",
    "                \"O2 Saturation (v)\",  \"O2 Saturation, ISTAT (Ven)\",\n",
    "                \"pCO2 (a)\", \"pCO2 (a), ISTAT\",  \"PCO2, ISTAT\",\n",
    "                \"pCO2 (v)\", \"PCO2 (v), ISTAT\",\n",
    "                \"pH (a)\", \"PH (a), ISTAT\", \n",
    "                \"pH (v)\", \"PH (v), ISTAT\", \"PH, ISTAT\", \n",
    "                \"pO2 (a)\", \"PO2 (a), ISTAT\",  \"PO2, ISTAT\", \n",
    "                \"pO2 (v)\", \"PO2 (v), ISTAT\",\n",
    "                \"tCO2\", \"TCO2 (a), ISTAT\",\"TCO2, ISTAT\",\n",
    "                \"TCO2 (v), ISTAT\", \n",
    "               \"INR\", \"INR, ISTAT\", \n",
    "               \"Prothrombin Time\", \"PT, ISTAT\", \n",
    "              \"pH\", \"Ketone, urine\", \"Leukocyte Esterase, urine\") #\"O2 Saturation, ISTAT (Oth)\", \"ctO2 (a)\",\n",
    "length(long_labs)\n",
    "nrow(ulabs)"
   ]
  },
  {
   "cell_type": "code",
   "execution_count": null,
   "metadata": {},
   "outputs": [],
   "source": [
    "# check to see if missing any important labs\n",
    "labs %>% filter(!lab_name %in% long_labs) %>% select(lab_name, base_name) %>% count(lab_name, sort=TRUE)"
   ]
  },
  {
   "cell_type": "code",
   "execution_count": null,
   "metadata": {},
   "outputs": [],
   "source": [
    "# base name for only lab in our list, can query this to see if we miss any individual lab name\n",
    "base_names <- labs %>% filter(lab_name %in% long_labs) %>% \n",
    "                            group_by(lab_name, base_name) %>% count() %>% arrange(base_name)\n",
    "base_names"
   ]
  },
  {
   "cell_type": "code",
   "execution_count": null,
   "metadata": {},
   "outputs": [],
   "source": [
    "unique(base_names$base_name)"
   ]
  },
  {
   "cell_type": "markdown",
   "metadata": {},
   "source": [
    "### Short list of labs"
   ]
  },
  {
   "cell_type": "raw",
   "metadata": {},
   "source": [
    "short_labs = c(\"Glucose by Meter\", \"Sodium, Ser/Plas\", \"Potassium, Ser/Plas\",\n",
    "               \"Magnesium, Ser/Plas\", \"Albumin, Ser/Plas\", \"Creatinine, Ser/Plas\",\n",
    "               \"BUN, Ser/Plas\", \"CO2, Ser/Plas\",\"Anion Gap\",\n",
    "               \"Glucose Ser/Plas\", \"AST (SGOT), Ser/Plas\", \"ALT (SGPT), Ser/Plas\",\n",
    "               \"Total Bilirubin, Ser/Plas\", \"Platelet count\", \"Hemoglobin\", \n",
    "               \"WBC\", \"Neutrophil, Absolute\")\n",
    "\n",
    "\n",
    "slabs <- labs %>% filter(lab_name %in% short_labs)"
   ]
  },
  {
   "cell_type": "markdown",
   "metadata": {},
   "source": [
    "### ADD MORE LABS --> LONG LIST of LABS\n",
    "short_labs = c(\"Glucose by Meter\", \"Sodium, Ser/Plas\", \"Potassium, Ser/Plas\",\n",
    "               \"Magnesium, Ser/Plas\", \"Albumin, Ser/Plas\", \"Creatinine, Ser/Plas\",\n",
    "               \"BUN, Ser/Plas\", \"CO2, Ser/Plas\",\"Anion Gap\",\n",
    "               \"Glucose Ser/Plas\", \"AST (SGOT), Ser/Plas\", \"ALT (SGPT), Ser/Plas\",\n",
    "               \"Total Bilirubin, Ser/Plas\", \"Platelet count\", \"Hemoglobin\", \n",
    "               \"WBC\", \"Neutrophil, Absolute\")"
   ]
  },
  {
   "cell_type": "code",
   "execution_count": null,
   "metadata": {},
   "outputs": [],
   "source": [
    "labs_add %>% group_by(lab_name, base_name) %>% select(lab_name, base_name) %>% distinct() %>% arrange(base_name)"
   ]
  },
  {
   "cell_type": "code",
   "execution_count": null,
   "metadata": {},
   "outputs": [],
   "source": [
    "# take the above lab names and put in a vector to check and group\n",
    "# updated with additional lab_name, note that lab_name Glucose has 608 UGLU base_name and only 1 GLU base_name\n",
    "\n",
    "long_labs <- c(\"RBC\", \"MCH\", \"MCHC\", \"MCV\",\"Calcium, Ser/Plas\", \"CO2, Ser/Plas\",\n",
    "               \"Albumin, Ser/Plas\", \"ALT (SGPT), Ser/Plas\", \"AST (SGOT), Ser/Plas\", \"Alk P'TASE, Total, Ser/Plas\",\n",
    "               \"Globulin\", \"Protein, Total, Ser/Plas\",\n",
    "               \"Magnesium, Ser/Plas\",  \"Phosphorus, Ser/Plas\",\n",
    "               \n",
    "               \"WBC\", \"WBC count\",\n",
    "               \"TROPONIN I\", \"Troponin I, POCT\",\n",
    "               \"Total Bilirubin, Ser/Plas\", \"Total Bilirubin\",\n",
    "               \"Platelet count\", \"Platelets\",\n",
    "               \"Hematocrit\", \"Hct, ISTAT\", \"Hct(Calc), ISTAT\", \"Hct (Est)\", \"HCT, POC\", \"Hematocrit (Manual Entry) See EMR for details\",\n",
    "               \"Hemoglobin\", \"Hgb(Calc), ISTAT\", \"Hgb, calculated, POC\", \"HgB\", \n",
    "               \"Potassium, Ser/Plas\", \"Potassium, ISTAT\",  \"Potassium, Whole Bld\", \"Potassium, whole blood, ePOC\", \"Potassium\", \n",
    "               \"Sodium, Ser/Plas\", \"Sodium, ISTAT\",  \"Sodium, Whole Blood\", \n",
    "               \"Chloride, Ser/Plas\",  \"Chloride, ISTAT\",  \"Chloride, Whole Bld\",\n",
    "               \"Creatinine, Ser/Plas\", \"Creatinine,ISTAT\", \n",
    "               \"Anion Gap\", \"Anion Gap, ISTAT\",\n",
    "               \"Glucose, Ser/Plas\", \"Glucose,ISTAT\", \"Glucose, Whole Blood\", \"Glucose by Meter\", \"Glucose, Non-fasting\",\n",
    "               \"BUN, Ser/Plas\", \"BUN, ISTAT\", \"Urea Nitrogen,Ser/Plas\",\n",
    "               \"Neutrophil, Absolute\", \"NEUT, ABS\", \"Neut, ABS (Seg+Band) (man diff)\", \"Neutrophils, Absolute (Manual Diff)\", \"Neut, ABS (Seg+Band) (man diff)\",\n",
    "               \"Basophil, Absolute\", \"BASOS, ABS\", \"Basophils\", \"Basophils, ABS (man diff)\", \"Baso, ABS (man diff)\", \n",
    "               \"Eosinophil, Absolute\", \"EOS, ABS\", \"Eosinophils, ABS (man diff)\", \"Eos, ABS (man diff)\",\n",
    "               \"Lymphocyte, Absolute\", \"LYM, ABS\", \"Lymphocytes, ABS (man diff)\", \"Lym, ABS (man diff)\", \"Lymphocytes, Abs.\",\n",
    "               \"Monocyte, Absolute\", \"MONO, ABS\", \"Monocytes, ABS (man diff)\", \"Mono, ABS (man diff)\",\n",
    "               \"Lactate, ISTAT\", \"Lactate, Whole Bld\", \"Lactic Acid\",\n",
    "               \"Base Excess, ISTAT\", \"Base Excess (vt)\", \"Base Excess Arterial for POC\",\n",
    "                \"HCO3\", \"HCO3 (a), ISTAT\", \"Bicarbonate, Art for POC\", \n",
    "                \"HCO3 (v), ISTAT\", \"HCO3, ISTAT\", \n",
    "                \"O2 Saturation (a)\", \"O2 Saturation, ISTAT\", \"Oxygen Saturation for POC\", \n",
    "                \"O2 Saturation (v)\",  \"O2 Saturation, ISTAT (Ven)\",\n",
    "                \"pCO2 (a)\", \"pCO2 (a), ISTAT\",  \"PCO2, ISTAT\", \"Arterial pCO2 for POC\",\n",
    "                \"pCO2 (v)\", \"PCO2 (v), ISTAT\",\n",
    "                \"pH (a)\", \"PH (a), ISTAT\", \"pH by Meter\", \"Arterial pH for POC\",\n",
    "                \"pH (v)\", \"PH (v), ISTAT\", \"PH, ISTAT\", \n",
    "                \"pO2 (a)\", \"PO2 (a), ISTAT\",  \"PO2, ISTAT\", \"Arterial pO2 for POC\",\n",
    "                \"pO2 (v)\", \"PO2 (v), ISTAT\", \n",
    "                \"tCO2\", \"TCO2 (a), ISTAT\",\"TCO2, ISTAT\", \"TCO2, (ISTAT)\", \"CO2 Arterial Total for POC\", \n",
    "                \"TCO2 (v), ISTAT\", \n",
    "               \"INR\", \"INR, ISTAT\", \n",
    "               \"Prothrombin Time\", \"PT, ISTAT\", \n",
    "              \"pH\", \"Ketone, urine\", \"Leukocyte Esterase, urine\") #\"O2 Saturation, ISTAT (Oth)\", \"ctO2 (a)\",\n",
    "length(long_labs)"
   ]
  },
  {
   "cell_type": "code",
   "execution_count": null,
   "metadata": {},
   "outputs": [],
   "source": [
    "# all 3 K, Cl, cats are the same... all electrolytes except for Ca, remove Calcium, Ion, ISTAT = Calcium inonized, not used\n",
    "# references are different, but vary among the same lab (121 and 135 low for ser/plas). values are comparable\n",
    "# Hct and Hgb, all the diff white counts.\n",
    "# all Creatinine,ISTAT are NA\n",
    "# lactate ok ISTAT and whole blood, not Basophils (not consistent)\n",
    "\n",
    "# lab <- labs %>% select(lab_name, ord_value, ord_num_value, reference_low, reference_high, reference_unit) %>%\n",
    "# #         filter(lab_name == \"Base Excess (vt)\") %>%\n",
    "# #         filter(lab_name == \"HCO3\" & reference_unit != \"mEq/L\") %>%\n",
    "#         filter(str_detect(lab_name, \"Base Excess, ISTAT\") & ord_num_value != 9999999) %>% \n",
    "#         drop_na(ord_num_value) # grepl(\"Potassium\", lab_name) "
   ]
  },
  {
   "cell_type": "code",
   "execution_count": null,
   "metadata": {},
   "outputs": [],
   "source": [
    "# check each lab in the list for reference units, low and high to see if consistent among similar lab names\n",
    "lab_test <- labs_updated %>% select(lab_name, ord_num_value, reference_unit, reference_low, reference_high, base_name) %>%\n",
    "                                drop_na(ord_num_value)\n",
    "c=0\n",
    "for (l in long_labs){\n",
    "    c = c+1\n",
    "    lab <- lab_test %>% filter(lab_name == l & ord_num_value != 9999999)\n",
    "    print(l)\n",
    "    print(lab %>% group_by(base_name) %>% count())\n",
    "    print(summary(lab %>% select(ord_num_value, reference_unit, reference_low, reference_high)))\n",
    "}\n",
    "# summary(lab)\n",
    "print(c)"
   ]
  },
  {
   "cell_type": "code",
   "execution_count": null,
   "metadata": {},
   "outputs": [],
   "source": [
    "# UPDATE lab list, cut some labs \n",
    "# Glucose has 1 GLU basename, and 608 UGLU basename --> already removed this\n",
    "# be careful with Lactate has 2 basename whole blood and none\n",
    "\n",
    "# remove Potassium --> 1 entry, 7.4 weird\n",
    "# remove Basophils --> unit is %\n",
    "# remove Platelets --> all NA\n",
    "# remove \"pH\", \"Ketone, urine\", \"Leukocyte Esterase, urine\" # few, and all NA\n",
    "\n",
    "lab_list <- c(\"RBC\", \"MCH\", \"MCHC\", \"MCV\", \"Calcium, Ser/Plas\", \"CO2, Ser/Plas\",\n",
    "               \"Albumin, Ser/Plas\", \"ALT (SGPT), Ser/Plas\", \"AST (SGOT), Ser/Plas\", \"Alk P'TASE, Total, Ser/Plas\",\n",
    "               \"Globulin\", \"Protein, Total, Ser/Plas\",\n",
    "               \"Magnesium, Ser/Plas\",  \"Phosphorus, Ser/Plas\", #14 ind\n",
    "               \n",
    "               \"WBC\", \"WBC count\", # WBC count is 1000*WBC\n",
    "               \"TROPONIN I\", \"Troponin I, POCT\",\n",
    "               \"Total Bilirubin, Ser/Plas\", \"Total Bilirubin\",\n",
    "               \"Platelet count\", # remove Platelets\n",
    "              \n",
    "               \"Hematocrit\", \"Hct, ISTAT\", \"Hct(Calc), ISTAT\", \"Hct (Est)\", \"HCT, POC\", \"Hematocrit (Manual Entry) See EMR for details\",\n",
    "               \"Hemoglobin\", \"Hgb(Calc), ISTAT\", \"Hgb, calculated, POC\", \"HgB\", \n",
    "               \"Potassium, Ser/Plas\", \"Potassium, ISTAT\",  \"Potassium, Whole Bld\", \"Potassium, whole blood, ePOC\", # remove Potassium\n",
    "               \"Sodium, Ser/Plas\", \"Sodium, ISTAT\",  \"Sodium, Whole Blood\", \n",
    "               \"Chloride, Ser/Plas\",  \"Chloride, ISTAT\",  \"Chloride, Whole Bld\",\n",
    "               \"Creatinine, Ser/Plas\", \"Creatinine,ISTAT\", \n",
    "              \n",
    "               \"Anion Gap\", \"Anion Gap, ISTAT\",\n",
    "               \"Glucose, Ser/Plas\", \"Glucose,ISTAT\", \"Glucose, Whole Blood\", \"Glucose by Meter\", \"Glucose, Non-fasting\",\n",
    "               \"BUN, Ser/Plas\", \"BUN, ISTAT\", \"Urea Nitrogen,Ser/Plas\",\n",
    "               \"Neutrophil, Absolute\", \"NEUT, ABS\", \"Neut, ABS (Seg+Band) (man diff)\", \"Neutrophils, Absolute (Manual Diff)\", \"Neut, ABS (Seg+Band) (man diff)\",\n",
    "               \"Basophil, Absolute\", \"BASOS, ABS\", \"Basophils, ABS (man diff)\", \"Baso, ABS (man diff)\", # remove Basophils\n",
    "               \"Eosinophil, Absolute\", \"EOS, ABS\", \"Eosinophils, ABS (man diff)\", \"Eos, ABS (man diff)\",\n",
    "               \"Lymphocyte, Absolute\", \"LYM, ABS\", \"Lymphocytes, ABS (man diff)\", \"Lym, ABS (man diff)\", \"Lymphocytes, Abs.\",\n",
    "                  # Lymphocytes, Abs. = 1000* the rest of lymphocytes\n",
    "               \"Monocyte, Absolute\", \"MONO, ABS\", \"Monocytes, ABS (man diff)\", \"Mono, ABS (man diff)\",\n",
    "               \"Lactate, ISTAT\", \"Lactate, Whole Bld\", \"Lactic Acid\",\n",
    "               \"Base Excess, ISTAT\", \"Base Excess (vt)\", \"Base Excess Arterial for POC\",\n",
    "              \n",
    "                \"HCO3\", \"HCO3 (a), ISTAT\", \"Bicarbonate, Art for POC\", \n",
    "                \"HCO3 (v), ISTAT\", \"HCO3, ISTAT\", \n",
    "                \"O2 Saturation (a)\", \"O2 Saturation, ISTAT\", \"Oxygen Saturation for POC\", \n",
    "                \"O2 Saturation (v)\",  \"O2 Saturation, ISTAT (Ven)\",\n",
    "                \"pCO2 (a)\", \"pCO2 (a), ISTAT\",  \"PCO2, ISTAT\", \"Arterial pCO2 for POC\",\n",
    "                \"pCO2 (v)\", \"PCO2 (v), ISTAT\",\n",
    "                \"pH (a)\", \"PH (a), ISTAT\", \"pH by Meter\", \"Arterial pH for POC\",\n",
    "                \"pH (v)\", \"PH (v), ISTAT\", \"PH, ISTAT\", \n",
    "                \"pO2 (a)\", \"PO2 (a), ISTAT\",  \"PO2, ISTAT\", \"Arterial pO2 for POC\",\n",
    "                \"pO2 (v)\", \"PO2 (v), ISTAT\", \n",
    "              \n",
    "                \"tCO2\", \"TCO2 (a), ISTAT\",\"TCO2, ISTAT\", \"TCO2, (ISTAT)\", \"CO2 Arterial Total for POC\", \n",
    "                \"TCO2 (v), ISTAT\", # 1 individual\n",
    "                \"INR\", \"INR, ISTAT\", \n",
    "                \"Prothrombin Time\", \"PT, ISTAT\") # 33 more than 1\n",
    "#               \"pH\", \"Ketone, urine\", \"Leukocyte Esterase, urine\") #\"O2 Saturation, ISTAT (Oth)\", \"ctO2 (a)\"\n",
    "length(lab_list)"
   ]
  },
  {
   "cell_type": "markdown",
   "metadata": {},
   "source": [
    "### Redo lab processing with the long list of labs:"
   ]
  },
  {
   "cell_type": "code",
   "execution_count": null,
   "metadata": {},
   "outputs": [],
   "source": [
    "llabs <- labs_updated %>% filter(lab_name %in% lab_list) %>% \n",
    "                    select(-c(taken_time_utc, order_time_utc)) %>%\n",
    "#             select(anon_id, pat_enc_csn_id_coded, lab_name, base_name, ord_num_value, \n",
    "#                    result_flag, order_time_utc, taken_time_utc, result_time_utc) %>%\n",
    "                    rename(features = lab_name, values = ord_num_value, result_time = result_time_utc) %>% \n",
    "#             mutate(feature_type = \"labs\", result_flag = ifelse(result_flag==\"\",0,1)) %>% \n",
    "                    drop_na(values) %>% distinct()\n",
    "nrow(llabs)"
   ]
  },
  {
   "cell_type": "code",
   "execution_count": null,
   "metadata": {},
   "outputs": [],
   "source": [
    "# convert WBC count to WBC unit and Lymphocytes Abs. before combining\n",
    "llabs <- llabs %>% mutate(values = ifelse(features == \"WBC count\", round(values/1000.0, 1), \n",
    "                                          ifelse(features == \"Lymphocytes, Abs.\", round(values/1000.0, 3), values))) "
   ]
  },
  {
   "cell_type": "code",
   "execution_count": null,
   "metadata": {},
   "outputs": [],
   "source": [
    "# in range: Y or blank \n",
    "llabs %>% count(result_in_range_yn) %>% arrange(desc(result_in_range_yn))\n",
    "# normal as blanks\n",
    "llabs %>% count(result_flag) %>% arrange(desc(n))\n",
    "head(llabs %>% count(values) %>% arrange())\n",
    "tail(llabs %>% count(values) %>% arrange())"
   ]
  },
  {
   "cell_type": "code",
   "execution_count": null,
   "metadata": {},
   "outputs": [],
   "source": [
    "# combine same labs and change the lab name in the data\n",
    "# could use base_name except for LACTATE has 2 different base_names\n",
    "# Glucose lab_name as base_name as GLU and UGLU. exclude glucose here, only 1 entry anyways\n",
    "\n",
    "Platelet = c(\"Platelet count\") # remove platelets\n",
    "TBili = c(\"Total Bilirubin, Ser/Plas\", \"Total Bilirubin\")\n",
    "Trop = c(\"TROPONIN I\", \"Troponin I, POCT\")\n",
    "WBC = c(\"WBC\", \"WBC count\") # WBC count /1000 7\n",
    "\n",
    "Hct = c(\"Hematocrit\", \"Hct, ISTAT\", \"Hct(Calc), ISTAT\", \"Hct (Est)\", \"HCT, POC\", \"Hematocrit (Manual Entry) See EMR for details\")\n",
    "Hgb = c(\"Hemoglobin\", \"Hgb(Calc), ISTAT\", \"Hgb, calculated, POC\", \"HgB\")\n",
    "K = c(\"Potassium, Ser/Plas\", \"Potassium, ISTAT\",  \"Potassium, Whole Bld\", \"Potassium, whole blood, ePOC\") # remove Potassium\n",
    "Na = c(\"Sodium, Ser/Plas\", \"Sodium, ISTAT\",  \"Sodium, Whole Blood\")\n",
    "Cl = c(\"Chloride, Ser/Plas\",  \"Chloride, ISTAT\",  \"Chloride, Whole Bld\")\n",
    "Cr = c(\"Creatinine, Ser/Plas\", \"Creatinine,ISTAT\") #22\n",
    "\n",
    "AnionGap = c(\"Anion Gap\", \"Anion Gap, ISTAT\")\n",
    "Glucose = c(\"Glucose, Ser/Plas\", \"Glucose,ISTAT\", \"Glucose, Whole Blood\", \"Glucose by Meter\", \"Glucose, Non-fasting\")\n",
    "BUN = c(\"BUN, Ser/Plas\", \"BUN, ISTAT\", \"Urea Nitrogen,Ser/Plas\") #10\n",
    "Neut = c(\"Neutrophil, Absolute\", \"NEUT, ABS\", \"Neut, ABS (Seg+Band) (man diff)\", \"Neutrophils, Absolute (Manual Diff)\", \"Neut, ABS (Seg+Band) (man diff)\")\n",
    "Basos = c(\"Basophil, Absolute\", \"BASOS, ABS\", \"Basophils, ABS (man diff)\", \"Baso, ABS (man diff)\")\n",
    "Eos = c(\"Eosinophil, Absolute\", \"EOS, ABS\", \"Eosinophils, ABS (man diff)\", \"Eos, ABS (man diff)\")\n",
    "Lymp = c(\"Lymphocyte, Absolute\", \"LYM, ABS\", \"Lymphocytes, ABS (man diff)\", \"Lym, ABS (man diff)\", \"Lymphocytes, Abs.\")\n",
    "Mono = c(\"Monocyte, Absolute\", \"MONO, ABS\", \"Monocytes, ABS (man diff)\", \"Mono, ABS (man diff)\")\n",
    "Lactate = c(\"Lactate, ISTAT\", \"Lactate, Whole Bld\", \"Lactic Acid\")\n",
    "Base = c(\"Base Excess, ISTAT\", \"Base Excess (vt)\", \"Base Excess Arterial for POC\") #28\n",
    "\n",
    "HCO3_a = c(\"HCO3\", \"HCO3 (a), ISTAT\", \"Bicarbonate, Art for POC\")\n",
    "HCO3_v = c(\"HCO3 (v), ISTAT\", \"HCO3, ISTAT\") \n",
    "O2sat_a = c(\"O2 Saturation (a)\", \"O2 Saturation, ISTAT\", \"Oxygen Saturation for POC\")\n",
    "O2sat_v = c(\"O2 Saturation (v)\",  \"O2 Saturation, ISTAT (Ven)\")\n",
    "pCO2_a = c(\"pCO2 (a)\", \"pCO2 (a), ISTAT\",  \"PCO2, ISTAT\", \"Arterial pCO2 for POC\")\n",
    "pCO2_v = c(\"pCO2 (v)\", \"PCO2 (v), ISTAT\") \n",
    "pH_a = c(\"pH (a)\", \"PH (a), ISTAT\", \"pH by Meter\", \"Arterial pH for POC\")\n",
    "pH_v = c (\"pH (v)\", \"PH (v), ISTAT\", \"PH, ISTAT\")\n",
    "PO2_a = c(\"pO2 (a)\", \"PO2 (a), ISTAT\",  \"PO2, ISTAT\", \"Arterial pO2 for POC\")\n",
    "PO2_v = c (\"pO2 (v)\", \"PO2 (v), ISTAT\") #29\n",
    "\n",
    "TCO2_a = c(\"tCO2\", \"TCO2 (a), ISTAT\",\"TCO2, ISTAT\", \"TCO2, (ISTAT)\", \"CO2 Arterial Total for POC\")\n",
    "INR = c(\"INR\", \"INR, ISTAT\")\n",
    "PT = c(\"Prothrombin Time\", \"PT, ISTAT\") #9\n",
    "\n",
    "llabs <- llabs %>% \n",
    "                mutate(features = \n",
    "                            ifelse(features %in% Platelet, \"Platelet\", ifelse(features %in% TBili, \"TBili\", \n",
    "                            ifelse(features %in% Trop, \"Trop\", ifelse(features %in% WBC, \"WBC\",\n",
    "                            ifelse(features %in% Hct, \"Hct\", ifelse(features %in% Hgb, \"Hgb\", \n",
    "                            ifelse(features %in% K, \"K\", ifelse(features %in% Na, \"Na\",\n",
    "                            ifelse(features %in% Cl, \"Cl\", ifelse(features %in% Cr, \"Cr\",\n",
    "                            ifelse(features %in% AnionGap, \"AnionGap\", ifelse(features %in% Glucose, \"Glucose\",\n",
    "                            ifelse(features %in% BUN, \"BUN\", ifelse(features %in% Neut, \"Neut\",    \n",
    "                            ifelse(features %in% Basos, \"Basos\", ifelse(features %in% Eos, \"Eos\",      \n",
    "                            ifelse(features %in% Lymp, \"Lymp\", ifelse(features %in% Mono, \"Mono\",    \n",
    "                            ifelse(features %in% Lactate, \"Lactate\",  ifelse(features %in% Base, \"Base\", \n",
    "                            ifelse(features %in% HCO3_a, \"HCO3_a\", ifelse(features %in% HCO3_v, \"HCO3_v\", \n",
    "                            ifelse(features %in% O2sat_a, \"O2sat_a\", ifelse(features %in% O2sat_v, \"O2sat_v\",\n",
    "                            ifelse(features %in% pCO2_a, \"pCO2_a\", ifelse(features %in% pCO2_v, \"pCO2_v\",\n",
    "                            ifelse(features %in% pH_a, \"pH_a\", ifelse(features %in% pH_v, \"pH_v\",      \n",
    "                            ifelse(features %in% PO2_a, \"PO2_a\", ifelse(features %in% PO2_v, \"PO2_v\",\n",
    "                            ifelse(features %in% TCO2_a, \"TCO2_a\", ifelse(features %in% INR, \"INR\",\n",
    "                            ifelse(features %in% PT, \"PT\", as.character(features))))))))))))))))))))))))))))))))))) %>%\n",
    "                distinct()\n",
    "# nrow(llabs)       \n",
    "# llabs %>% count(features) %>% arrange(desc(n))"
   ]
  },
  {
   "cell_type": "code",
   "execution_count": null,
   "metadata": {},
   "outputs": [],
   "source": [
    "nrow(llabs)\n",
    "\n",
    "# # total 48 lab_name but 56 base_name\n",
    "nrow(llabs %>% select(anon_id, pat_enc_csn_id_coded) %>% distinct())\n",
    "llabs %>% select(base_name, features) %>% distinct() %>% arrange(features, base_name) \n",
    "llabs %>% group_by(features) %>% count(sort=TRUE) #%>% arrange(features, base_name) "
   ]
  },
  {
   "cell_type": "code",
   "execution_count": null,
   "metadata": {},
   "outputs": [],
   "source": [
    "# there are no NA, but only 8964 of 9999999 values\n",
    "value99 <- llabs %>% filter(values==9999999) \n",
    "summary(value99 %>% select(values, reference_unit, reference_low, reference_high, result_in_range_yn, result_flag))"
   ]
  },
  {
   "cell_type": "code",
   "execution_count": null,
   "metadata": {},
   "outputs": [],
   "source": [
    "value99 %>% count(features, sort=TRUE)"
   ]
  },
  {
   "cell_type": "code",
   "execution_count": null,
   "metadata": {},
   "outputs": [],
   "source": [
    "head(value99 %>% filter(features == \"Trop\"))"
   ]
  },
  {
   "cell_type": "code",
   "execution_count": null,
   "metadata": {},
   "outputs": [],
   "source": [
    "# to SAVE on big query, table for 9999999 values with order_id\n",
    "llabs99 <- labs_updated %>% filter(lab_name %in% lab_list & ord_num_value == 9999999) %>% \n",
    "                drop_na(ord_num_value) %>% distinct() %>% mutate(features = lab_name) %>%\n",
    "                mutate(features = \n",
    "                            ifelse(features %in% Platelet, \"Platelet\", ifelse(features %in% TBili, \"TBili\", \n",
    "                            ifelse(features %in% Trop, \"Trop\", ifelse(features %in% WBC, \"WBC\",\n",
    "                            ifelse(features %in% Hct, \"Hct\", ifelse(features %in% Hgb, \"Hgb\", \n",
    "                            ifelse(features %in% K, \"K\", ifelse(features %in% Na, \"Na\",\n",
    "                            ifelse(features %in% Cl, \"Cl\", ifelse(features %in% Cr, \"Cr\",\n",
    "                            ifelse(features %in% AnionGap, \"AnionGap\", ifelse(features %in% Glucose, \"Glucose\",\n",
    "                            ifelse(features %in% BUN, \"BUN\", ifelse(features %in% Neut, \"Neut\",    \n",
    "                            ifelse(features %in% Basos, \"Basos\", ifelse(features %in% Eos, \"Eos\",      \n",
    "                            ifelse(features %in% Lymp, \"Lymp\", ifelse(features %in% Mono, \"Mono\",    \n",
    "                            ifelse(features %in% Lactate, \"Lactate\",  ifelse(features %in% Base, \"Base\", \n",
    "                            ifelse(features %in% HCO3_a, \"HCO3_a\", ifelse(features %in% HCO3_v, \"HCO3_v\", \n",
    "                            ifelse(features %in% O2sat_a, \"O2sat_a\", ifelse(features %in% O2sat_v, \"O2sat_v\",\n",
    "                            ifelse(features %in% pCO2_a, \"pCO2_a\", ifelse(features %in% pCO2_v, \"pCO2_v\",\n",
    "                            ifelse(features %in% pH_a, \"pH_a\", ifelse(features %in% pH_v, \"pH_v\",      \n",
    "                            ifelse(features %in% PO2_a, \"PO2_a\", ifelse(features %in% PO2_v, \"PO2_v\",\n",
    "                            ifelse(features %in% TCO2_a, \"TCO2_a\", ifelse(features %in% INR, \"INR\",\n",
    "                            ifelse(features %in% PT, \"PT\", as.character(features))))))))))))))))))))))))))))))))))) %>%\n",
    "                distinct() \n",
    "nrow(llabs99)\n",
    "# write.csv(llabs99, \"./Data/labs99.csv\", row.names=FALSE)"
   ]
  },
  {
   "cell_type": "code",
   "execution_count": null,
   "metadata": {},
   "outputs": [],
   "source": [
    "nrow(value99)\n",
    "# write.csv(value99, \"./Data/labs99.csv\", row.names=FALSE)"
   ]
  },
  {
   "cell_type": "code",
   "execution_count": null,
   "metadata": {},
   "outputs": [],
   "source": [
    "# read in the joined file for labs9\n",
    "labs9joined <- read.csv(\"./Data/labs9joined.csv\")\n",
    "nrow(labs9joined)"
   ]
  },
  {
   "cell_type": "code",
   "execution_count": null,
   "metadata": {},
   "outputs": [],
   "source": [
    "head(llabs99, n=1)\n",
    "head(labs9joined)"
   ]
  },
  {
   "cell_type": "code",
   "execution_count": null,
   "metadata": {},
   "outputs": [],
   "source": [
    "# OLD, new data doesn't have ord_value\n",
    "# take the upper/lower bounds (old datalake2018, a few NA are there) for the 9999999 values\n",
    "temp <-  seq(from=2, 2*nrow(labs9joined), by= 2)\n",
    "head(temp)\n",
    "labs9joined <- labs9joined %>% mutate(ord_value = as.character(ord_value)) %>%\n",
    "                    mutate(values = as.double(gsub(paste(c(\">\", \"<\"), collapse = \"|\"),\"\", ord_value))) %>%\n",
    "        drop_na(values) # %>% distinct() # same\n",
    "head(labs9joined)\n",
    "nrow(labs9joined)"
   ]
  },
  {
   "cell_type": "code",
   "execution_count": null,
   "metadata": {},
   "outputs": [],
   "source": [
    "# JCe2f9dd\n",
    "summary(labs9joined$values)\n",
    "head(labs9joined %>% arrange(desc(values)))"
   ]
  },
  {
   "cell_type": "code",
   "execution_count": null,
   "metadata": {},
   "outputs": [],
   "source": [
    "labs9joined <- labs9joined %>% select(colnames(llabs))\n",
    "nrow(labs9joined)\n",
    "head(labs9joined)"
   ]
  },
  {
   "cell_type": "code",
   "execution_count": null,
   "metadata": {},
   "outputs": [],
   "source": [
    "# remove all 99999999 values and bind with those that we got valued replaced\n",
    "nrow(llabs)\n",
    "llabs <- llabs %>% filter(values != 9999999) %>% bind_rows(labs9joined)\n",
    "nrow(llabs) # removed 490 rows without any values in ord_value"
   ]
  },
  {
   "cell_type": "code",
   "execution_count": null,
   "metadata": {},
   "outputs": [],
   "source": [
    "labs_clean <- llabs %>% select(anon_id, pat_enc_csn_id_coded, features, values, result_time) %>%\n",
    "                        mutate(result_time = ymd_hms(result_time))"
   ]
  },
  {
   "cell_type": "markdown",
   "metadata": {},
   "source": [
    "### Join with cohort (after removing patients without vital signs)"
   ]
  },
  {
   "cell_type": "code",
   "execution_count": null,
   "metadata": {},
   "outputs": [],
   "source": [
    "nrow(labs_clean)\n",
    "nrow(labs_clean %>% select(anon_id, pat_enc_csn_id_coded) %>% distinct())\n",
    "\n",
    "cohort <- read.csv(\"./Data/cohort_final.csv\") #41654\n",
    "nrow(cohort)\n",
    "labs_clean <- inner_join(cohort, labs_clean) %>% mutate(feature_type = \"labs\")\n",
    "nrow(labs_clean)\n",
    "nrow(labs_clean %>% select(anon_id, pat_enc_csn_id_coded) %>% distinct()) #39226 about 2428 pts have no labs"
   ]
  },
  {
   "cell_type": "code",
   "execution_count": null,
   "metadata": {},
   "outputs": [],
   "source": [
    "head(labs_clean)"
   ]
  },
  {
   "cell_type": "code",
   "execution_count": null,
   "metadata": {},
   "outputs": [],
   "source": [
    "# save the new lab table, with 9999999 values still available\n",
    "write.csv(labs_clean, \"./Data/labs_clean.csv\", row.names=FALSE)"
   ]
  },
  {
   "cell_type": "markdown",
   "metadata": {},
   "source": [
    "### OLD ---Check overlapping cohort"
   ]
  },
  {
   "cell_type": "code",
   "execution_count": null,
   "metadata": {},
   "outputs": [],
   "source": [
    "#llabs is cohort_long_labs\n",
    "noLabs <- cohort_demo_imputed %>% select(anon_id, pat_enc_csn_id_coded) %>% \n",
    "            anti_join(cohort_long_labs %>% select(anon_id, pat_enc_csn_id_coded) %>% distinct()) %>%\n",
    "            mutate(LABS = \"noLabs\")\n",
    "nrow(noLabs) # dropped from 7800 to 348!\n",
    "head(noLabs, n=1) # "
   ]
  },
  {
   "cell_type": "code",
   "execution_count": null,
   "metadata": {},
   "outputs": [],
   "source": [
    "# table noLabs noVS show how many are in each and combined\n",
    "nrow(cohort_demo_imputed)\n",
    "nrow(noVS)\n",
    "nrow(noLabs)\n",
    "\n",
    "VsLabs <- cohort_demo_imputed %>% select(anon_id, pat_enc_csn_id_coded, admit_time, label) %>%\n",
    "                left_join(noVS) %>% left_join(noLabs)\n",
    "head(VsLabs)\n",
    "nrow(VsLabs)\n",
    "VsLabs %>% count(VS, LABS)\n",
    "\n",
    "cohort_VsLabs <- VsLabs %>% filter(is.na(VS) | is.na(LABS)) %>% select(-c(VS, LABS))\n",
    "nrow(cohort_VsLabs)\n",
    "head(cohort_VsLabs)\n",
    "cohort_VsLabs %>% count(label)\n",
    "\n",
    "noVSnoLabs <- VsLabs %>% filter(!is.na(VS) & !is.na(LABS))\n",
    "nrow(noVSnoLabs)\n",
    "noVSnoLabs %>% count(label)"
   ]
  },
  {
   "cell_type": "code",
   "execution_count": null,
   "metadata": {},
   "outputs": [],
   "source": [
    "nrow(cohort_VsLabs)"
   ]
  },
  {
   "cell_type": "code",
   "execution_count": null,
   "metadata": {},
   "outputs": [],
   "source": [
    "# this is the new cohort, from adjust_cohort to remove those without both VS and LAB values\n",
    "write.csv(cohort_VsLabs, file = \"./Data/cohort_VsLabs.csv\", row.names=FALSE)"
   ]
  },
  {
   "cell_type": "markdown",
   "metadata": {},
   "source": [
    "### Exploration - Labs!!!"
   ]
  },
  {
   "cell_type": "code",
   "execution_count": null,
   "metadata": {},
   "outputs": [],
   "source": [
    "slabs %>% filter(ord_value %in% c(\"N/A\",\"hi\") | result_flag == \"Abnormal\" )"
   ]
  },
  {
   "cell_type": "code",
   "execution_count": null,
   "metadata": {},
   "outputs": [],
   "source": [
    "slabs %>% filter(ord_num_value == 9999999 & reference_high == 100) # only a few"
   ]
  },
  {
   "cell_type": "code",
   "execution_count": null,
   "metadata": {},
   "outputs": [],
   "source": [
    "slabs %>% filter(result_in_range_yn == \"Y\") %>% count(lab_name)\n",
    "head(slabs %>% filter(result_in_range_yn == \"\"), n=10)\n",
    "slabs %>% filter(result_in_range_yn == \"Y\" & lab_name == \"Magnesium, Ser/Plas\")"
   ]
  },
  {
   "cell_type": "code",
   "execution_count": null,
   "metadata": {},
   "outputs": [],
   "source": [
    "options(repr.matrix.max.rows=900, repr.matrix.max.cols=20)\n",
    "slabs %>% filter(ord_num_value == 9999999) %>% group_by(lab_name) %>% mutate(n=n()) %>% arrange(n)"
   ]
  },
  {
   "cell_type": "code",
   "execution_count": null,
   "metadata": {},
   "outputs": [],
   "source": [
    "slabs %>% count(ord_value) %>% arrange(ord_value)"
   ]
  },
  {
   "cell_type": "code",
   "execution_count": null,
   "metadata": {},
   "outputs": [],
   "source": [
    "head(slabs %>% count(ord_num_value) %>% arrange(desc(ord_num_value)))\n",
    "tail(slabs %>% count(ord_num_value) %>% arrange(desc(ord_num_value)))\n",
    "slabs %>% filter(ord_num_value == 6589)"
   ]
  },
  {
   "cell_type": "code",
   "execution_count": null,
   "metadata": {},
   "outputs": [],
   "source": [
    "head(slabs %>% filter(result_flag == \"\"), n=20)"
   ]
  }
 ],
 "metadata": {
  "environment": {
   "name": "r-cpu.4-0.m71",
   "type": "gcloud",
   "uri": "gcr.io/deeplearning-platform-release/r-cpu.4-0:m71"
  },
  "kernelspec": {
   "display_name": "R",
   "language": "R",
   "name": "ir"
  },
  "language_info": {
   "codemirror_mode": "r",
   "file_extension": ".r",
   "mimetype": "text/x-r-source",
   "name": "R",
   "pygments_lexer": "r",
   "version": "4.0.3"
  },
  "toc": {
   "base_numbering": 1,
   "nav_menu": {},
   "number_sections": true,
   "sideBar": true,
   "skip_h1_title": false,
   "title_cell": "Table of Contents",
   "title_sidebar": "Contents",
   "toc_cell": false,
   "toc_position": {},
   "toc_section_display": true,
   "toc_window_display": false
  },
  "varInspector": {
   "cols": {
    "lenName": 16,
    "lenType": 16,
    "lenVar": 40
   },
   "kernels_config": {
    "python": {
     "delete_cmd_postfix": "",
     "delete_cmd_prefix": "del ",
     "library": "var_list.py",
     "varRefreshCmd": "print(var_dic_list())"
    },
    "r": {
     "delete_cmd_postfix": ") ",
     "delete_cmd_prefix": "rm(",
     "library": "var_list.r",
     "varRefreshCmd": "cat(var_dic_list()) "
    }
   },
   "types_to_exclude": [
    "module",
    "function",
    "builtin_function_or_method",
    "instance",
    "_Feature"
   ],
   "window_display": false
  }
 },
 "nbformat": 4,
 "nbformat_minor": 4
}

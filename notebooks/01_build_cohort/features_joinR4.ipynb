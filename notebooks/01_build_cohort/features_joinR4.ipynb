{
 "cells": [
  {
   "cell_type": "markdown",
   "metadata": {},
   "source": [
    "### Descriptions:\n",
    "COHORT:\n",
    "* Conor's original cohort: 52,314\n",
    "* Remove admit years of 2014 and 2020: 52,298\n",
    "* Remove 8805 csn with non-full code or <18y.old: 43,493 \n",
    "* Remove 173 csn without vital signs and GCS, and 29 csn with only GCS and no other vital signs: 43,291\n",
    "* Remove 201 csn wihout any labels during hospital stays: 43,090\n",
    "* Further remove 82 patients without any labels at 24 hour mark: 43,008 (**cohort_labels.csv**)\n",
    "* **final**: remove all patients without a complete set of VS: 41,654\n",
    "\n",
    "On BQ **cohort_final_with_labels_complete1VS** is our most updated cohort, size of 41654 unique encounters, and *cohort_labels* from Tiffany is marked as to_keep on BQ\n",
    "\n",
    "JOIN all features together with the final cohort:\n",
    "\n",
    "Inputs: cohort_final (processed in R2 notebook), cohort_demo_final (R1), vitals_clean (R2), labs_clean (R3)\n",
    "\n",
    "* Combine cohort with demographic, vitals, and labs to the long format\n",
    "* Use final cohort size of 41,654, only patients who are full code, 18yr or above, and have at least a complete set of 1st VS\n",
    "* Demographic have indicators of missingness (ESI, H and W) and one hot coding for categorical variables (gender and race)\n",
    "\n",
    "Output: \n",
    "* **features_demos_vitals_labs.csv** 3,308,906 rows in long format with anon_id, csn, label_24_recent, admit_time, \n",
    "* with feature_type, features, values, and time (NA for demo, recorded for vitals and result for labs)"
   ]
  },
  {
   "cell_type": "markdown",
   "metadata": {},
   "source": [
    "### Importing R libraries"
   ]
  },
  {
   "cell_type": "code",
   "execution_count": null,
   "metadata": {
    "ExecuteTime": {
     "end_time": "2020-05-21T00:38:06.078240Z",
     "start_time": "2020-05-21T00:38:02.778Z"
    }
   },
   "outputs": [],
   "source": [
    "library(caret) # import this before glmnet to avoid rlang version problem\n",
    "library(xgboost)\n",
    "library(data.table)\n",
    "library(tidyverse)\n",
    "library(lubridate)\n",
    "library(Matrix)\n",
    "# library(slam)\n",
    "library(glmnet)\n",
    "library(bit64)\n",
    "# library(mtools) for one hot coder, not available on Nero or use caret or tidyr\n",
    "library(mice)\n",
    "options(repr.matrix.max.rows=200, repr.matrix.max.cols=40)"
   ]
  },
  {
   "cell_type": "markdown",
   "metadata": {},
   "source": [
    "### Call back all datasets: \n",
    "* demographic with ESI\n",
    "* vitals with GCS (note that this data has 43320 rows, but for ESI imputation, remove those with GCS as well, so we have 43291 left)\n",
    "* labs, still with 9999999 values"
   ]
  },
  {
   "cell_type": "code",
   "execution_count": null,
   "metadata": {},
   "outputs": [],
   "source": [
    "# nrow(cohort_vitals_clean %>% filter(anon_id == \"JCd49287\")) #23\n",
    "# cohort_demo_clean %>% filter(anon_id == \"JCd49287\")\n",
    "\n",
    "cohort <- read.csv(\"./Data/cohort_final.csv\")\n",
    "# demos <-  read.csv(\"./Data/cohort_demo_completed.csv\")\n",
    "demos <- read.csv(\"./Data/cohort_demo_final.csv\") # updated demographic with latest cohort\n",
    "vitals <- read.csv(\"./Data/vitals_clean.csv\")\n",
    "labs <- read.csv(\"./Data/labs_clean.csv\")\n",
    "\n",
    "nrow(cohort) # cohort final 41654\n",
    "nrow(demos)\n",
    "nrow(vitals) #1,274,314\n",
    "nrow(labs) #1,368,351\n",
    "\n",
    "nrow(demos %>% select(anon_id, pat_enc_csn_id_coded) %>% distinct())\n",
    "# nrow(demos %>% select(pat_enc_csn_id_coded) %>% distinct())\n",
    "\n",
    "nrow(vitals %>% select(anon_id, pat_enc_csn_id_coded) %>% distinct())\n",
    "# nrow(vitals %>% select(pat_enc_csn_id_coded) %>% distinct())\n",
    "\n",
    "nrow(labs %>% select(anon_id, pat_enc_csn_id_coded) %>% distinct()) # 39226\n",
    "# nrow(labs %>% select(pat_enc_csn_id_coded) %>% distinct())\n",
    "\n",
    "# nrow(demos %>% distinct(pat_enc_csn_id_coded) %>% filter(pat_enc_csn_id_coded %in% cohort$pat_enc_csn_id_coded))\n",
    "# nrow(vitals %>% distinct(pat_enc_csn_id_coded) %>% filter(pat_enc_csn_id_coded %in% cohort$pat_enc_csn_id_coded))\n",
    "# nrow(labs %>% distinct(pat_enc_csn_id_coded) %>% filter(pat_enc_csn_id_coded %in% cohort$pat_enc_csn_id_coded))\n",
    "\n",
    "nrow(cohort %>% distinct(pat_enc_csn_id_coded) %>% filter(pat_enc_csn_id_coded %in% demos$pat_enc_csn_id_coded))\n",
    "nrow(cohort %>% distinct(pat_enc_csn_id_coded) %>% filter(pat_enc_csn_id_coded %in% vitals$pat_enc_csn_id_coded))\n",
    "nrow(cohort %>% distinct(pat_enc_csn_id_coded) %>% filter(pat_enc_csn_id_coded %in% labs$pat_enc_csn_id_coded))"
   ]
  },
  {
   "cell_type": "code",
   "execution_count": null,
   "metadata": {},
   "outputs": [],
   "source": [
    "colnames(cohort)\n",
    "colnames(demos)\n",
    "colnames(vitals)\n",
    "colnames(labs)"
   ]
  },
  {
   "cell_type": "markdown",
   "metadata": {},
   "source": [
    "### OLD --- when Tiffany had a list of patients who had no labels throughout the hospital stays"
   ]
  },
  {
   "cell_type": "markdown",
   "metadata": {},
   "source": [
    "### Remove patients in hospitals with missing levels of care\n",
    "* 202: no labels at all for the entire hospital stays, smallest set\n",
    "* 806: no levels at the admission level, adt table\n",
    "* 136: no levels of care at 0 - 12hrs\n",
    "* 82: no levels of care at the 24hrs"
   ]
  },
  {
   "cell_type": "code",
   "execution_count": null,
   "metadata": {},
   "outputs": [],
   "source": [
    "# JCdcafca and 131187786922, 20015518, 0, 2016-05-15 20:57:00+00:00 \n",
    "# in the no_labels cohort (and Conor's cohort) but not in the updated cohort\n",
    "noinco <- cohort[cohort$pat_enc_csn_id_coded %in% no_labels$pat_enc_csn_id_coded,]\n",
    "head(no_labels[!no_labels$pat_enc_csn_id_coded %in% noinco$pat_enc_csn_id_coded, ])"
   ]
  },
  {
   "cell_type": "code",
   "execution_count": null,
   "metadata": {},
   "outputs": [],
   "source": [
    "# remove patients in the final cohort with missing labels:\n",
    "cohort <- anti_join(cohort, no_labels, by = c(\"anon_id\", \"pat_enc_csn_id_coded\"))\n",
    "nrow(cohort) # 43291 - 202\n",
    "head(cohort)"
   ]
  },
  {
   "cell_type": "markdown",
   "metadata": {},
   "source": [
    "### OK to continue here"
   ]
  },
  {
   "cell_type": "raw",
   "metadata": {},
   "source": [
    "# remove the 1st set of vs and indicators of missing ness from demographics\n",
    "demos <- demos %>% select(-c(SBP_i, delta_SBP, DBP_i, delta_DBP, Pulse_i, delta_Pulse, \n",
    "                             RR_i, delta_RR, SpO2_i, delta_SpO2, Temp_i, delta_Temp))\n",
    "colnames(demos)"
   ]
  },
  {
   "cell_type": "code",
   "execution_count": null,
   "metadata": {},
   "outputs": [],
   "source": [
    "summary(vitals %>% group_by(features) %>% select(values))\n",
    "summary(labs %>% group_by(features) %>% select(values))"
   ]
  },
  {
   "cell_type": "markdown",
   "metadata": {},
   "source": [
    "### Check cohort patients who are not in the vital signs table\n",
    "Note that all NA were dropped from vital signs. Another approach is to keep and impute them for same time in wide format tables"
   ]
  },
  {
   "cell_type": "code",
   "execution_count": null,
   "metadata": {},
   "outputs": [],
   "source": [
    "demos <- demos %>% select(-c(SBP, DBP, Pulse, RR, SpO2, Temp))\n",
    "colnames(demos)"
   ]
  },
  {
   "cell_type": "code",
   "execution_count": null,
   "metadata": {},
   "outputs": [],
   "source": [
    "dim(demos)\n",
    "colnames(demos)\n",
    "demo_long <- gather(demos, features, values, ESI_i:race.White, factor_key=TRUE) %>%\n",
    "                mutate(feature_type = \"demo\") %>% select(-c(inpatient_data_id_coded, label_max24))\n",
    "                \n",
    "head(demo_long, n=1)\n",
    "dim(demos)\n",
    "nrow(demo_long) # 43291*29 (cols with values)"
   ]
  },
  {
   "cell_type": "code",
   "execution_count": null,
   "metadata": {},
   "outputs": [],
   "source": [
    "summary(demo_long$values)\n",
    "demo_long %>% group_by(features) %>% count()"
   ]
  },
  {
   "cell_type": "code",
   "execution_count": null,
   "metadata": {},
   "outputs": [],
   "source": [
    "head(demo_long, n=1)\n",
    "head(vitals, n=1)\n",
    "head(labs, n=1)"
   ]
  },
  {
   "cell_type": "code",
   "execution_count": null,
   "metadata": {},
   "outputs": [],
   "source": [
    "# clean vitals and labs to merge\n",
    "vitals <- vitals %>% select(anon_id, pat_enc_csn_id_coded, admit_time, features, values, feature_type, time=recorded_time) \n",
    "labs <- labs %>% select(anon_id, pat_enc_csn_id_coded, admit_time, features, values, feature_type, time=result_time)"
   ]
  },
  {
   "cell_type": "code",
   "execution_count": null,
   "metadata": {},
   "outputs": [],
   "source": [
    "head(labs %>% arrange(values))\n",
    "head(labs %>% arrange(desc(values)))"
   ]
  },
  {
   "cell_type": "code",
   "execution_count": null,
   "metadata": {},
   "outputs": [],
   "source": [
    "# combine demos, vitals and labs, long format, with \"time\"\n",
    "feat3 <- bind_rows(demo_long, vitals, labs)\n",
    "feat3 <- as.data.frame(unclass(feat3))\n",
    "nrow(feat3)"
   ]
  },
  {
   "cell_type": "code",
   "execution_count": null,
   "metadata": {},
   "outputs": [],
   "source": [
    "head(feat3, n=1)\n",
    "tail(feat3, n=1)"
   ]
  },
  {
   "cell_type": "code",
   "execution_count": null,
   "metadata": {},
   "outputs": [],
   "source": [
    "feat3 %>% count(feature_type)"
   ]
  },
  {
   "cell_type": "code",
   "execution_count": null,
   "metadata": {},
   "outputs": [],
   "source": [
    "feat3 %>% group_by(feature_type, features) %>% count()"
   ]
  },
  {
   "cell_type": "code",
   "execution_count": null,
   "metadata": {},
   "outputs": [],
   "source": [
    "summary(feat3)"
   ]
  },
  {
   "cell_type": "code",
   "execution_count": null,
   "metadata": {},
   "outputs": [],
   "source": [
    "# remember the labs and vitals still contain patients who have no other vital signs except for a GCS\n",
    "nrow(feat3 %>% select(anon_id, pat_enc_csn_id_coded) %>% distinct())\n",
    "nrow(feat3 %>% select(pat_enc_csn_id_coded) %>% distinct())"
   ]
  },
  {
   "cell_type": "markdown",
   "metadata": {},
   "source": [
    "### Explore -- GCS and ESI -- No need to redo\n",
    "* GCS was not used to impute ESI because there are not many encounters with GCS score\n",
    "* So encounters without any other VS but even with GCS are excluded from the data\n",
    "* However, we check to see these encounters with GCS and they all have ESI\n",
    "* We will not keep them in the data anyways, because if some don't have ESI, it's too many loops to include/exclude"
   ]
  },
  {
   "cell_type": "raw",
   "metadata": {},
   "source": [
    "# check if those with GCS with ESI: ---> all have ESI!!!! \n",
    "gcs <- anti_join(feat3, cohort_has_vs) \n",
    "nrow(gcs)\n",
    "\n",
    "cohort_demo <- read.csv(\"./Data/cohort_demo.csv\")\n",
    "gcs <- left_join(gcs, cohort_demo)\n",
    "gcs"
   ]
  },
  {
   "cell_type": "markdown",
   "metadata": {},
   "source": [
    "### Join with the final cohort\n"
   ]
  },
  {
   "cell_type": "code",
   "execution_count": null,
   "metadata": {},
   "outputs": [],
   "source": [
    "nrow(feat3)\n",
    "nrow(feat3 %>% distinct(anon_id, pat_enc_csn_id_coded))\n",
    "head(feat3, n=1)\n",
    "nrow(cohort)\n",
    "head(cohort, n=1)"
   ]
  },
  {
   "cell_type": "code",
   "execution_count": null,
   "metadata": {},
   "outputs": [],
   "source": [
    "cohort <- cohort %>% mutate(admit_time = ymd_hms(admit_time))\n",
    "feat3 <- feat3 %>% mutate(admit_time = ymd_hms(admit_time))\n",
    "head(cohort, n=1)\n",
    "head(feat3, n=1)"
   ]
  },
  {
   "cell_type": "code",
   "execution_count": null,
   "metadata": {},
   "outputs": [],
   "source": [
    "final_feat3 <- left_join(cohort, feat3)\n",
    "nrow(final_feat3) # 3,308,906\n",
    "nrow(final_feat3 %>% distinct(anon_id, pat_enc_csn_id_coded))"
   ]
  },
  {
   "cell_type": "code",
   "execution_count": null,
   "metadata": {},
   "outputs": [],
   "source": [
    "nrow(final_feat3 %>% select(anon_id, pat_enc_csn_id_coded) %>% distinct())\n",
    "nrow(final_feat3 %>% select(pat_enc_csn_id_coded) %>% distinct())\n",
    "nrow(final_feat3 %>% select(anon_id) %>% distinct())"
   ]
  },
  {
   "cell_type": "code",
   "execution_count": null,
   "metadata": {},
   "outputs": [],
   "source": [
    "head(final_feat3, n=1)"
   ]
  },
  {
   "cell_type": "code",
   "execution_count": null,
   "metadata": {},
   "outputs": [],
   "source": [
    "final_feat3 %>% count(feature_type)"
   ]
  },
  {
   "cell_type": "code",
   "execution_count": null,
   "metadata": {},
   "outputs": [],
   "source": [
    "final_feat3 %>% group_by(feature_type, features) %>% count()"
   ]
  },
  {
   "cell_type": "code",
   "execution_count": null,
   "metadata": {},
   "outputs": [],
   "source": [
    "summary(final_feat3)"
   ]
  },
  {
   "cell_type": "code",
   "execution_count": null,
   "metadata": {},
   "outputs": [],
   "source": [
    "final_feat3 <- final_feat3 %>% select(anon_id, pat_enc_csn_id_coded, label_24hr_recent, admit_time,\n",
    "                                     feature_type, features, values, time)\n",
    "head(final_feat3)"
   ]
  },
  {
   "cell_type": "code",
   "execution_count": null,
   "metadata": {},
   "outputs": [],
   "source": [
    "tail(final_feat3)"
   ]
  },
  {
   "cell_type": "code",
   "execution_count": null,
   "metadata": {},
   "outputs": [],
   "source": [
    "write.csv(final_feat3, file = \"./Data/features_demos_vitals_labs.csv\", row.names=FALSE)"
   ]
  },
  {
   "cell_type": "markdown",
   "metadata": {},
   "source": [
    "### OLD --"
   ]
  },
  {
   "cell_type": "code",
   "execution_count": null,
   "metadata": {},
   "outputs": [],
   "source": [
    "# write.csv(cohort, file = \"./Data/cohort_has_vs_hxlabels.csv\", row.names=FALSE)"
   ]
  },
  {
   "cell_type": "code",
   "execution_count": null,
   "metadata": {},
   "outputs": [],
   "source": [
    "# read Tiffany's label\n",
    "labels <- read.csv(\"./Data/labels.csv\")\n",
    "nrow(labels)"
   ]
  },
  {
   "cell_type": "code",
   "execution_count": null,
   "metadata": {},
   "outputs": [],
   "source": [
    "head(labels, n=1)\n",
    "head(cohort, n=1)"
   ]
  },
  {
   "cell_type": "code",
   "execution_count": null,
   "metadata": {},
   "outputs": [],
   "source": [
    "summary(labels)\n",
    "colnames(labels)"
   ]
  },
  {
   "cell_type": "code",
   "execution_count": null,
   "metadata": {},
   "outputs": [],
   "source": [
    "new_cohort <- cohort %>% select(-admit_time) %>% left_join(labels) %>%\n",
    "                    rename(label_24hr_recent = X_24hr_recent_label, label_12hr_recent = X_12hr_recent_label)\n",
    "nrow(new_cohort)\n",
    "summary(new_cohort)"
   ]
  },
  {
   "cell_type": "code",
   "execution_count": null,
   "metadata": {},
   "outputs": [],
   "source": [
    "# write.csv(new_cohort, \"./Data/cohort_final_with_labels.csv\", row.names = FALSE)"
   ]
  },
  {
   "cell_type": "code",
   "execution_count": null,
   "metadata": {},
   "outputs": [],
   "source": [
    "length(cohort$pat_enc_csn_id_coded %in% new_cohort$pat_enc_csn_id_coded)\n",
    "length(new_cohort$pat_enc_csn_id_coded %in% cohort$pat_enc_csn_id_coded)\n",
    "length(new_cohort$pat_enc_csn_id_coded %in% feat3$pat_enc_csn_id_coded)\n",
    "length(feat3$pat_enc_csn_id_coded %in% new_cohort$pat_enc_csn_id_coded)\n",
    "nrow(feat3)"
   ]
  }
 ],
 "metadata": {
  "environment": {
   "name": "r-cpu.4-0.m71",
   "type": "gcloud",
   "uri": "gcr.io/deeplearning-platform-release/r-cpu.4-0:m71"
  },
  "kernelspec": {
   "display_name": "R",
   "language": "R",
   "name": "ir"
  },
  "language_info": {
   "codemirror_mode": "r",
   "file_extension": ".r",
   "mimetype": "text/x-r-source",
   "name": "R",
   "pygments_lexer": "r",
   "version": "4.0.3"
  },
  "toc": {
   "base_numbering": 1,
   "nav_menu": {},
   "number_sections": true,
   "sideBar": true,
   "skip_h1_title": false,
   "title_cell": "Table of Contents",
   "title_sidebar": "Contents",
   "toc_cell": false,
   "toc_position": {},
   "toc_section_display": true,
   "toc_window_display": false
  },
  "varInspector": {
   "cols": {
    "lenName": 16,
    "lenType": 16,
    "lenVar": 40
   },
   "kernels_config": {
    "python": {
     "delete_cmd_postfix": "",
     "delete_cmd_prefix": "del ",
     "library": "var_list.py",
     "varRefreshCmd": "print(var_dic_list())"
    },
    "r": {
     "delete_cmd_postfix": ") ",
     "delete_cmd_prefix": "rm(",
     "library": "var_list.r",
     "varRefreshCmd": "cat(var_dic_list()) "
    }
   },
   "types_to_exclude": [
    "module",
    "function",
    "builtin_function_or_method",
    "instance",
    "_Feature"
   ],
   "window_display": false
  }
 },
 "nbformat": 4,
 "nbformat_minor": 4
}

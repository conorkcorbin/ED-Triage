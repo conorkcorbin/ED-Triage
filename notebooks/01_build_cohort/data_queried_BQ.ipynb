{
 "cells": [
  {
   "cell_type": "markdown",
   "metadata": {
    "ExecuteTime": {
     "end_time": "2020-05-17T21:33:05.576329Z",
     "start_time": "2020-05-17T21:33:03.404617Z"
    }
   },
   "source": [
    "### Query files and push files to Big Query\n",
    "* Use Cohort's original cohort to join with demographics, order_proc for code status and admission orders\n",
    "* After processing and joining the these files in R (Cohort_queries notebook), push to Big Query:\n",
    "including the final adjusted cohort (processed in R, saved, called from here, pushed to BQ)\n",
    "\n",
    "* Generate: admit_code and admit_inpatient from SQL. \n",
    "* Process and save as: ordertypes and admit_inpatient."
   ]
  },
  {
   "cell_type": "code",
   "execution_count": null,
   "metadata": {
    "ExecuteTime": {
     "end_time": "2020-05-28T18:47:57.528255Z",
     "start_time": "2020-05-28T18:47:54.874579Z"
    }
   },
   "outputs": [],
   "source": [
    "import pandas as pd\n",
    "import matplotlib.mlab as mlab\n",
    "import matplotlib.pyplot as plt\n",
    "from datetime import datetime, timedelta\n",
    "\n",
    "%matplotlib inline\n",
    "%load_ext rpy2.ipython"
   ]
  },
  {
   "cell_type": "code",
   "execution_count": null,
   "metadata": {
    "ExecuteTime": {
     "end_time": "2020-05-22T19:26:31.720270Z",
     "start_time": "2020-05-22T19:26:28.451753Z"
    }
   },
   "outputs": [],
   "source": [
    "import os \n",
    "from google.cloud import bigquery\n",
    "from google.cloud.bigquery import dbapi\n",
    "\n",
    "##Use correct path based on whether you are, Nero or local\n",
    "# use Ctrl + Insert to copy and Shift + Insert to paste\n",
    "\n",
    "# for Nero:\n",
    "os.environ['GOOGLE_APPLICATION_CREDENTIALS'] = '/home/jupyter/.config/gcloud/application_default_credentials.json'\n",
    "\n",
    "# for local computer: check path first\n",
    "# os.environ['GOOGLE_APPLICATION_CREDENTIALS'] = r'C:\\Users\\User\\AppData\\Roaming\\gcloud\\application_default_credentials.json' \n",
    "\n",
    "##set correct Nero project\n",
    "os.environ['GCLOUD_PROJECT'] = 'som-nero-phi-jonc101' \n",
    "\n",
    "##Setting up BQ API, m1:\n",
    "client = bigquery.Client()\n",
    "\n",
    "##using dbAPI connection, m2:\n",
    "conn = dbapi.connect(client)"
   ]
  },
  {
   "cell_type": "markdown",
   "metadata": {},
   "source": [
    "### Conor's original queried cohort"
   ]
  },
  {
   "cell_type": "code",
   "execution_count": null,
   "metadata": {},
   "outputs": [],
   "source": [
    "# new cohort from shc_core dataset now\n",
    "q = \"SELECT * FROM `triage.triage_cohort_draft_2019`\"\n",
    "query_job = client.query(q)\n",
    "df = query_job.to_dataframe()"
   ]
  },
  {
   "cell_type": "code",
   "execution_count": null,
   "metadata": {},
   "outputs": [],
   "source": [
    "df.to_csv('../../../Data/Ccohort.csv', index=False)\n",
    "Ccohort = pd.read_csv('../../../Data/Ccohort.csv')"
   ]
  },
  {
   "cell_type": "code",
   "execution_count": null,
   "metadata": {},
   "outputs": [],
   "source": [
    "print(len(df))\n",
    "df[\"label\"].value_counts() # 14.23% of 1 34092 and 5659 vs new cohort 2019 14.13%"
   ]
  },
  {
   "cell_type": "markdown",
   "metadata": {},
   "source": [
    "### Execute SQL queries to get encounters, inpatient-id, code status and demographics"
   ]
  },
  {
   "cell_type": "code",
   "execution_count": null,
   "metadata": {},
   "outputs": [],
   "source": [
    "q = open('../.././SQL/cohort_features/m1_encounter.sql', 'r')\n",
    "query_job =  client.query(q.read()).to_dataframe().to_csv('../../../Data/encounters.csv', index=False)"
   ]
  },
  {
   "cell_type": "code",
   "execution_count": null,
   "metadata": {},
   "outputs": [],
   "source": [
    "# skip this if not adjusting admission time\n",
    "q = open('../.././SQL/cohort_features/m2_X_admit_inpatient.sql', 'r')\n",
    "query_job =  client.query(q.read()).to_dataframe().to_csv('../../../Data/admit_inpatients.csv', index=False)"
   ]
  },
  {
   "cell_type": "code",
   "execution_count": null,
   "metadata": {},
   "outputs": [],
   "source": [
    "q = open('../.././SQL/cohort_features/m3_codestatus.sql', 'r')\n",
    "query_job =  client.query(q.read()).to_dataframe().to_csv('../../../Data/code_status.csv', index=False)"
   ]
  },
  {
   "cell_type": "code",
   "execution_count": null,
   "metadata": {},
   "outputs": [],
   "source": [
    "q = open('../.././SQL/cohort_features/m4_demographic.sql', 'r')\n",
    "query_job =  client.query(q.read()).to_dataframe().to_csv('../../../Data/demographic.csv', index=False)"
   ]
  },
  {
   "cell_type": "markdown",
   "metadata": {},
   "source": [
    "### Push updated cohort with inpatient_id_coded from R1 notebook to BQ\n",
    "- Run R1 notebook\n",
    "- Output of R1 notebook is *cohort* (same as cohort_demo), pushed to BQ\n",
    "- Use this cohort size 43,493 to query labs and flowsheet to reduce the size/time -- as in SQL folder"
   ]
  },
  {
   "cell_type": "code",
   "execution_count": null,
   "metadata": {},
   "outputs": [],
   "source": [
    "# Updated cohort\n",
    "cohort = pd.read_csv('../../../Data/cohort.csv')\n",
    "print(len(cohort))\n",
    "print(list(cohort.columns))\n",
    "cohort.head(5)"
   ]
  },
  {
   "cell_type": "code",
   "execution_count": null,
   "metadata": {
    "ExecuteTime": {
     "end_time": "2020-05-21T07:27:09.270370Z",
     "start_time": "2020-05-21T07:27:02.475696Z"
    }
   },
   "outputs": [],
   "source": [
    "table_schema = [{'name' : 'anon_id', 'type' : 'STRING'},\n",
    "                {'name' : 'pat_enc_csn_id_coded', 'type' : 'INTEGER'},\n",
    "                {'name' : 'inpatient_data_id_coded', 'type': 'INTEGER'},\n",
    "                {'name' : 'admit_time', 'type' : 'TIMESTAMP'},\n",
    "                {'name' : 'label_max24', 'type' : 'INTEGER'}]\n",
    "                       \n",
    "DATASET_NAME = 'triage'\n",
    "TABLE_NAME = 'cohort'\n",
    "cohort.to_gbq(destination_table='triage.%s' % TABLE_NAME,\n",
    "              project_id='som-nero-phi-jonc101',\n",
    "              table_schema=table_schema,\n",
    "              if_exists='replace')"
   ]
  },
  {
   "cell_type": "markdown",
   "metadata": {},
   "source": [
    "### Execute SQL queries to get flowsheet and labs"
   ]
  },
  {
   "cell_type": "code",
   "execution_count": null,
   "metadata": {},
   "outputs": [],
   "source": [
    "q = open('../.././SQL/cohort_features/m5.1_flowsheet_HW.sql', 'r')\n",
    "query_job =  client.query(q.read()).to_dataframe().to_csv('../../../Data/flowsheet_HW.csv', index=False)"
   ]
  },
  {
   "cell_type": "code",
   "execution_count": null,
   "metadata": {},
   "outputs": [],
   "source": [
    "q = open('../.././SQL/cohort_features/m5_flowsheet.sql', 'r')\n",
    "query_job =  client.query(q.read()).to_dataframe().to_csv('../../../Data/flowsheet.csv', index=False)"
   ]
  },
  {
   "cell_type": "code",
   "execution_count": null,
   "metadata": {},
   "outputs": [],
   "source": [
    "q = open('../.././SQL/m6_labs_additional_labnames.sql', 'r')\n",
    "query_job =  client.query(q.read()).to_dataframe().to_csv('../../../Data/labs_additional.csv', index=False)"
   ]
  },
  {
   "cell_type": "markdown",
   "metadata": {},
   "source": [
    "### Get lab data from BigQuery, from Tiffany's SQL folder \"labs_and_flowsheet\" "
   ]
  },
  {
   "cell_type": "code",
   "execution_count": null,
   "metadata": {},
   "outputs": [],
   "source": [
    "q = \"SELECT * FROM triage.triage_cohort_2019_filtered_labs\"\n",
    "query_job = client.query(q).to_dataframe().to_csv('../../../Data/lab_result.csv', index=False)"
   ]
  },
  {
   "cell_type": "code",
   "execution_count": null,
   "metadata": {},
   "outputs": [],
   "source": [
    "q = \"SELECT * FROM triage.triage_cohort_2019_all_labs\"\n",
    "query_job = client.query(q).to_dataframe().to_csv('../../../Data/all_labs.csv', index=False)"
   ]
  },
  {
   "cell_type": "code",
   "execution_count": null,
   "metadata": {},
   "outputs": [],
   "source": [
    "q = \"SELECT * FROM triage.triage_cohort_2019_labs_basename_filtered\"\n",
    "query_job = client.query(q).to_dataframe().to_csv('../../../Data/labs_basename.csv', index=False)"
   ]
  },
  {
   "cell_type": "markdown",
   "metadata": {},
   "source": [
    "### Close queries"
   ]
  },
  {
   "cell_type": "code",
   "execution_count": null,
   "metadata": {},
   "outputs": [],
   "source": [
    "q.close()"
   ]
  },
  {
   "cell_type": "markdown",
   "metadata": {},
   "source": [
    "### OLD -- Query and save files (demographics, code status, and admission) for joining later"
   ]
  },
  {
   "cell_type": "code",
   "execution_count": null,
   "metadata": {},
   "outputs": [],
   "source": [
    "# adapted Tiffany's function to save files\n",
    "def query_data(sqlfile, savefile):\n",
    "    # open and read the sql file\n",
    "    query = open(sqlfile, 'r')\n",
    "    resultsDF = pd.read_sql_query(query.read(), conn);\n",
    "    \n",
    "    # save the results to a file, close query and return df\n",
    "    resultsDF.to_csv(savefile, index=False)\n",
    "    query.close()\n",
    "    return resultsDF"
   ]
  },
  {
   "cell_type": "code",
   "execution_count": null,
   "metadata": {},
   "outputs": [],
   "source": [
    "# demograhic table, join with cohort\n",
    "sqlfile = 'SQL/m4_demographic.sql'\n",
    "outfile = './Data/demographic.csv'\n",
    "df = query_data(sqlfile, outfile)"
   ]
  },
  {
   "cell_type": "markdown",
   "metadata": {},
   "source": [
    "### OLD -- TABLE schema"
   ]
  },
  {
   "cell_type": "code",
   "execution_count": null,
   "metadata": {
    "ExecuteTime": {
     "end_time": "2020-05-24T00:08:16.126871Z",
     "start_time": "2020-05-24T00:08:04.367245Z"
    }
   },
   "outputs": [],
   "source": [
    "# %load_ext google.cloud.bigquery\n",
    "# cohort file\n",
    "table_schema = [{'name' : 'jc_uid', 'type' : 'STRING'},\n",
    "                {'name' : 'pat_enc_csn_id_coded', 'type' : 'INTEGER'},\n",
    "                {'name' : 'inpatient_data_id_coded', 'type': 'INTEGER'},\n",
    "                {'name' : 'admit_time', 'type' : 'TIMESTAMP'},\n",
    "                {'name' : 'label', 'type' : 'INTEGER'}]\n",
    "                       \n",
    "DATASET_NAME = 'traige_TE'\n",
    "TABLE_NAME = 'triage_cohort_adjusted'\n",
    "cohort_adj.to_gbq(destination_table='traige_TE.%s' % TABLE_NAME,\n",
    "                 project_id='mining-clinical-decisions',\n",
    "                 table_schema=table_schema,\n",
    "                 if_exists='replace')"
   ]
  },
  {
   "cell_type": "code",
   "execution_count": null,
   "metadata": {
    "ExecuteTime": {
     "end_time": "2020-05-24T00:08:31.661693Z",
     "start_time": "2020-05-24T00:08:31.555972Z"
    }
   },
   "outputs": [],
   "source": [
    "cohort_demo = pd.read_csv('./Data/cohort_demo.csv')\n",
    "print(len(cohort_demo))\n",
    "cohort_demo.head(5)"
   ]
  },
  {
   "cell_type": "code",
   "execution_count": null,
   "metadata": {
    "ExecuteTime": {
     "end_time": "2020-05-18T21:40:17.895171Z",
     "start_time": "2020-05-18T21:40:04.332312Z"
    }
   },
   "outputs": [],
   "source": [
    "# demographics file\n",
    "table_schema = [{'name' : 'jc_uid', 'type' : 'STRING'},\n",
    "                {'name' : 'pat_enc_csn_id_coded', 'type' : 'INTEGER'},\n",
    "                {'name' : 'inpatient_data_id_coded', 'type': 'INTEGER'},\n",
    "                {'name' : 'admit_time', 'type' : 'TIMESTAMP'},\n",
    "                {'name' : 'label', 'type' : 'INTEGER'},\n",
    "                {'name' : 'gender', 'type' : 'STRING'},\n",
    "                {'name' : 'race', 'type' : 'STRING'},\n",
    "                {'name' : 'language', 'type' : 'STRING'},\n",
    "                {'name' : 'insurance', 'type' : 'STRING'},\n",
    "                {'name' : 'recent_height', 'type' : 'INTEGER'},\n",
    "                {'name' : 'recent_weight', 'type' : 'INTEGER'}, \n",
    "                {'name' : 'age', 'type' : 'INTEGER'},\n",
    "                {'name' : 'recent_date', 'type' : 'DATE'}]\n",
    "                       \n",
    "DATASET_NAME = 'traige_TE'\n",
    "TABLE_NAME = 'triage_cohort_adjusted_demographics'\n",
    "cohort_demo.to_gbq(destination_table='traige_TE.%s' % TABLE_NAME,\n",
    "                 project_id='mining-clinical-decisions',\n",
    "                 table_schema=table_schema,\n",
    "                 if_exists='replace')"
   ]
  },
  {
   "cell_type": "code",
   "execution_count": null,
   "metadata": {
    "ExecuteTime": {
     "end_time": "2020-05-21T07:27:09.270370Z",
     "start_time": "2020-05-21T07:27:02.475696Z"
    }
   },
   "outputs": [],
   "source": [
    "# push flowsheet up BQ:\n",
    "# clean demographics file, with new variables medis and English\n",
    "table_schema = [{'name' : 'jc_uid', 'type' : 'STRING'},\n",
    "                {'name' : 'pat_enc_csn_id_coded', 'type' : 'INTEGER'},\n",
    "                {'name' : 'inpatient_data_id_coded', 'type': 'INTEGER'},\n",
    "                {'name' : 'admit_time', 'type' : 'TIMESTAMP'},\n",
    "                {'name' : 'label', 'type' : 'INTEGER'},\n",
    "                {'name' : 'gender', 'type' : 'STRING'},\n",
    "                {'name' : 'race', 'type' : 'STRING'},\n",
    "                {'name' : 'age', 'type' : 'INTEGER'},\n",
    "                {'name' : 'medis', 'type' : 'INTEGER'},\n",
    "                {'name' : 'Engl', 'type' : 'INTEGER'},\n",
    "                {'name' : 'Height', 'type' : 'INTEGER'},\n",
    "                {'name' : 'Weight', 'type' : 'INTEGER'}]\n",
    "                       \n",
    "DATASET_NAME = 'traige_TE'\n",
    "TABLE_NAME = 'triage_cohort_adjusted_demographics_clean'\n",
    "cohort_demo_clean.to_gbq(destination_table='traige_TE.%s' % TABLE_NAME,\n",
    "                 project_id='mining-clinical-decisions',\n",
    "                 table_schema=table_schema,\n",
    "                 if_exists='replace')"
   ]
  },
  {
   "cell_type": "code",
   "execution_count": null,
   "metadata": {
    "ExecuteTime": {
     "end_time": "2020-05-23T04:50:56.241925Z",
     "start_time": "2020-05-23T04:50:56.156121Z"
    }
   },
   "outputs": [],
   "source": [
    "cohort_demo_imputed = pd.read_csv('./Data/cohort_demo_imputed.csv')\n",
    "print(len(cohort_demo_imputed))\n",
    "cohort_demo_imputed.head(5)"
   ]
  },
  {
   "cell_type": "code",
   "execution_count": null,
   "metadata": {
    "ExecuteTime": {
     "end_time": "2020-05-21T07:29:46.924564Z",
     "start_time": "2020-05-21T07:29:33.969101Z"
    }
   },
   "outputs": [],
   "source": [
    "# push flowsheet up BQ:\n",
    "# imputed_demographics file\n",
    "table_schema = [{'name' : 'jc_uid', 'type' : 'STRING'},\n",
    "                {'name' : 'pat_enc_csn_id_coded', 'type' : 'INTEGER'},\n",
    "                {'name' : 'inpatient_data_id_coded', 'type': 'INTEGER'},\n",
    "                {'name' : 'admit_time', 'type' : 'TIMESTAMP'},\n",
    "                {'name' : 'label', 'type' : 'INTEGER'},\n",
    "                {'name' : 'Engl', 'type' : 'INTEGER'},\n",
    "                {'name' : 'gender1', 'type' : 'STRING'},\n",
    "                {'name' : 'race1', 'type' : 'STRING'},\n",
    "                {'name' : 'age1', 'type' : 'INTEGER'},\n",
    "                {'name' : 'medis1', 'type' : 'INTEGER'},\n",
    "                {'name' : 'Height1', 'type' : 'INTEGER'},\n",
    "                {'name' : 'Weight1', 'type' : 'INTEGER'},\n",
    "                {'name' : 'delta_H', 'type' : 'INTEGER'},\n",
    "                {'name' : 'delta_W', 'type' : 'INTEGER'},]\n",
    "\n",
    "                       \n",
    "DATASET_NAME = 'traige_TE'\n",
    "TABLE_NAME = 'triage_cohort_adjusted_demographics_imputed'\n",
    "cohort_demo_imputed.to_gbq(destination_table='traige_TE.%s' % TABLE_NAME,\n",
    "                 project_id='mining-clinical-decisions',\n",
    "                 table_schema=table_schema,\n",
    "                 if_exists='replace')"
   ]
  },
  {
   "cell_type": "code",
   "execution_count": null,
   "metadata": {
    "ExecuteTime": {
     "end_time": "2020-05-23T04:02:54.121116Z",
     "start_time": "2020-05-23T04:02:53.445889Z"
    }
   },
   "outputs": [],
   "source": [
    "cohort_vitals_clean = pd.read_csv('./Data/cohort_vitals_clean.csv')\n",
    "print(len(cohort_vitals_clean))\n",
    "cohort_vitals_clean.tail(5)"
   ]
  },
  {
   "cell_type": "code",
   "execution_count": null,
   "metadata": {
    "ExecuteTime": {
     "end_time": "2020-05-22T21:59:54.044007Z",
     "start_time": "2020-05-22T21:59:25.868190Z"
    }
   },
   "outputs": [],
   "source": [
    "# cleaned vitals\n",
    "table_schema = [{'name' : 'jc_uid', 'type' : 'STRING'},\n",
    "                {'name' : 'pat_enc_csn_id_coded', 'type' : 'INTEGER'},\n",
    "                {'name' : 'admit_time', 'type' : 'TIMESTAMP'},\n",
    "                {'name' : 'features', 'type' : 'STRING'},\n",
    "                {'name' : 'recorded_time', 'type' : 'TIMESTAMP'},\n",
    "                {'name' : 'values', 'type' : 'FLOAT'},\n",
    "                {'name' : 'feature_type', 'type' : 'STRING'}]\n",
    "\n",
    "                       \n",
    "DATASET_NAME = 'traige_TE'\n",
    "TABLE_NAME = 'triage_cohort_adjusted_vitals_clean'\n",
    "cohort_vitals_clean.to_gbq(destination_table='traige_TE.%s' % TABLE_NAME,\n",
    "                 project_id='mining-clinical-decisions',\n",
    "                 table_schema=table_schema,\n",
    "                 if_exists='replace')"
   ]
  },
  {
   "cell_type": "code",
   "execution_count": null,
   "metadata": {
    "ExecuteTime": {
     "end_time": "2020-05-23T04:06:01.341323Z",
     "start_time": "2020-05-23T04:06:00.968739Z"
    }
   },
   "outputs": [],
   "source": [
    "cohort_short_labs_clean_4binning = pd.read_csv('./Data/cohort_short_labs_clean_4binning.csv')\n",
    "print(len(cohort_short_labs_clean_4binning))\n",
    "cohort_short_labs_clean_4binning.head(5)"
   ]
  },
  {
   "cell_type": "code",
   "execution_count": null,
   "metadata": {
    "ExecuteTime": {
     "end_time": "2020-05-22T21:06:16.399289Z",
     "start_time": "2020-05-22T21:05:47.233262Z"
    }
   },
   "outputs": [],
   "source": [
    "# cleaned labs\n",
    "table_schema = [{'name' : 'jc_uid', 'type' : 'STRING'},\n",
    "                {'name' : 'pat_enc_csn_id_coded', 'type' : 'INTEGER'},\n",
    "                {'name' : 'admit_time', 'type' : 'TIMESTAMP'},\n",
    "                {'name' : 'features', 'type' : 'STRING'},\n",
    "                {'name' : 'result_time', 'type' : 'TIMESTAMP'},\n",
    "                {'name' : 'values', 'type' : 'FLOAT'},\n",
    "                {'name' : 'feature_type', 'type' : 'STRING'}]\n",
    "\n",
    "                       \n",
    "DATASET_NAME = 'traige_TE'\n",
    "TABLE_NAME = 'triage_cohort_adjusted_short_labs_clean_4binning'\n",
    "cohort_short_labs_clean_4binning.to_gbq(destination_table='traige_TE.%s' % TABLE_NAME,\n",
    "                 project_id='mining-clinical-decisions',\n",
    "                 table_schema=table_schema,\n",
    "                 if_exists='replace')"
   ]
  },
  {
   "cell_type": "code",
   "execution_count": null,
   "metadata": {
    "ExecuteTime": {
     "end_time": "2020-05-24T01:11:46.963649Z",
     "start_time": "2020-05-24T01:11:45.970307Z"
    }
   },
   "outputs": [],
   "source": [
    "cohort_vitals_labs_long = pd.read_csv('./Data/cohort_vitals_labs_long.csv')\n",
    "cohort_vitals_labs_long.tail(5)\n",
    "print(len(cohort_vitals_labs_long))"
   ]
  },
  {
   "cell_type": "code",
   "execution_count": null,
   "metadata": {
    "ExecuteTime": {
     "end_time": "2020-05-24T01:12:06.196853Z",
     "start_time": "2020-05-24T01:12:06.077660Z"
    }
   },
   "outputs": [],
   "source": [
    "cohort_vitals_labs_long.loc[cohort_vitals_labs_long['features'] == \"DBP\"].describe()"
   ]
  },
  {
   "cell_type": "code",
   "execution_count": null,
   "metadata": {
    "ExecuteTime": {
     "end_time": "2020-05-23T23:58:53.364638Z",
     "start_time": "2020-05-23T23:58:53.231931Z"
    }
   },
   "outputs": [],
   "source": [
    "# cohort_vitals_labs_long.loc[cohort_vitals_labs_long['features'] == \"DBP\"].head()\n",
    "cohort_vitals_labs_long = cohort_vitals_labs_long.drop('time', axis=1)\n",
    "cohort_vitals_labs_long.loc[cohort_vitals_labs_long['features'] == \"DBP\"].head()"
   ]
  },
  {
   "cell_type": "code",
   "execution_count": null,
   "metadata": {
    "ExecuteTime": {
     "end_time": "2020-05-24T00:00:16.100257Z",
     "start_time": "2020-05-23T23:59:05.384947Z"
    }
   },
   "outputs": [],
   "source": [
    "# vitals and labs combined in a specific format\n",
    "table_schema = [{'name' : 'jc_uid', 'type' : 'STRING'},\n",
    "                {'name' : 'pat_enc_csn_id_coded', 'type' : 'INTEGER'},\n",
    "                {'name' : 'admit_time', 'type' : 'TIMESTAMP'},\n",
    "                {'name' : 'features', 'type' : 'STRING'},\n",
    "#                 {'name' : 'time', 'type' : 'TIMESTAMP'},\n",
    "                {'name' : 'values', 'type' : 'FLOAT'},\n",
    "                {'name' : 'feature_type', 'type' : 'STRING'}]\n",
    "\n",
    "                       \n",
    "DATASET_NAME = 'traige_TE'\n",
    "TABLE_NAME = 'triage_cohort_adjusted_vitals_labs_4binning'\n",
    "cohort_vitals_labs_long.to_gbq(destination_table='traige_TE.%s' % TABLE_NAME,\n",
    "                 project_id='mining-clinical-decisions',\n",
    "                 table_schema=table_schema,\n",
    "                 if_exists='replace')"
   ]
  },
  {
   "cell_type": "code",
   "execution_count": null,
   "metadata": {
    "ExecuteTime": {
     "end_time": "2020-05-28T18:48:04.074443Z",
     "start_time": "2020-05-28T18:48:02.742008Z"
    }
   },
   "outputs": [],
   "source": [
    "# no time col\n",
    "cohort_demo_vitals_labs_long = pd.read_csv('./Data/cohort_demo1hot_vitals_labs_long.csv') \n",
    "print(len(cohort_demo_vitals_labs_long))\n",
    "cohort_demo_vitals_labs_long.head(5)"
   ]
  },
  {
   "cell_type": "code",
   "execution_count": null,
   "metadata": {
    "ExecuteTime": {
     "end_time": "2020-05-22T22:02:30.569585Z",
     "start_time": "2020-05-22T22:01:28.163403Z"
    }
   },
   "outputs": [],
   "source": [
    "# demographics, vitals, labs in the specific format\n",
    "table_schema = [{'name' : 'jc_uid', 'type' : 'STRING'},\n",
    "                {'name' : 'pat_enc_csn_id_coded', 'type' : 'INTEGER'},\n",
    "                {'name' : 'admit_time', 'type' : 'TIMESTAMP'},\n",
    "                {'name' : 'features', 'type' : 'STRING'},\n",
    "                {'name' : 'time', 'type' : 'TIMESTAMP'},\n",
    "                {'name' : 'values', 'type' : 'FLOAT'},\n",
    "                {'name' : 'feature_type', 'type' : 'STRING'}]\n",
    "\n",
    "                       \n",
    "DATASET_NAME = 'traige_TE'\n",
    "TABLE_NAME = 'triage_cohort_adjusted_demo1hot_vitals_labs_long'\n",
    "cohort_demo_vitals_labs_long.to_gbq(destination_table='traige_TE.%s' % TABLE_NAME,\n",
    "                 project_id='mining-clinical-decisions',\n",
    "                 table_schema=table_schema,\n",
    "                 if_exists='replace')"
   ]
  }
 ],
 "metadata": {
  "environment": {
   "name": "r-cpu.4-0.m71",
   "type": "gcloud",
   "uri": "gcr.io/deeplearning-platform-release/r-cpu.4-0:m71"
  },
  "kernelspec": {
   "display_name": "Python 3",
   "language": "python",
   "name": "python3"
  },
  "language_info": {
   "codemirror_mode": {
    "name": "ipython",
    "version": 3
   },
   "file_extension": ".py",
   "mimetype": "text/x-python",
   "name": "python",
   "nbconvert_exporter": "python",
   "pygments_lexer": "ipython3",
   "version": "3.8.5"
  },
  "toc": {
   "base_numbering": 1,
   "nav_menu": {},
   "number_sections": true,
   "sideBar": true,
   "skip_h1_title": false,
   "title_cell": "Table of Contents",
   "title_sidebar": "Contents",
   "toc_cell": false,
   "toc_position": {},
   "toc_section_display": true,
   "toc_window_display": false
  },
  "varInspector": {
   "cols": {
    "lenName": 16,
    "lenType": 16,
    "lenVar": 40
   },
   "kernels_config": {
    "python": {
     "delete_cmd_postfix": "",
     "delete_cmd_prefix": "del ",
     "library": "var_list.py",
     "varRefreshCmd": "print(var_dic_list())"
    },
    "r": {
     "delete_cmd_postfix": ") ",
     "delete_cmd_prefix": "rm(",
     "library": "var_list.r",
     "varRefreshCmd": "cat(var_dic_list()) "
    }
   },
   "types_to_exclude": [
    "module",
    "function",
    "builtin_function_or_method",
    "instance",
    "_Feature"
   ],
   "window_display": false
  }
 },
 "nbformat": 4,
 "nbformat_minor": 4
}
